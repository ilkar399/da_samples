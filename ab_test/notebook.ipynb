{
 "cells": [
  {
   "cell_type": "markdown",
   "metadata": {
    "toc": true
   },
   "source": [
    "<h1>Оглавление<span class=\"tocSkip\"></span></h1>\n",
    "<div class=\"toc\"><ul class=\"toc-item\"><li><span><a href=\"#Введение\" data-toc-modified-id=\"Введение-1\"><span class=\"toc-item-num\">1&nbsp;&nbsp;</span>Введение</a></span></li><li><span><a href=\"#Загрузка-и-подготовка-данных\" data-toc-modified-id=\"Загрузка-и-подготовка-данных-2\"><span class=\"toc-item-num\">2&nbsp;&nbsp;</span>Загрузка и подготовка данных</a></span><ul class=\"toc-item\"><li><span><a href=\"#Загрузка-данных\" data-toc-modified-id=\"Загрузка-данных-2.1\"><span class=\"toc-item-num\">2.1&nbsp;&nbsp;</span>Загрузка данных</a></span></li><li><span><a href=\"#Дубликаты-данных\" data-toc-modified-id=\"Дубликаты-данных-2.2\"><span class=\"toc-item-num\">2.2&nbsp;&nbsp;</span>Дубликаты данных</a></span></li><li><span><a href=\"#Общий-вид-таблицы\" data-toc-modified-id=\"Общий-вид-таблицы-2.3\"><span class=\"toc-item-num\">2.3&nbsp;&nbsp;</span>Общий вид таблицы</a></span></li></ul></li><li><span><a href=\"#Общий-анализ-и-проверка-данных\" data-toc-modified-id=\"Общий-анализ-и-проверка-данных-3\"><span class=\"toc-item-num\">3&nbsp;&nbsp;</span>Общий анализ и проверка данных</a></span><ul class=\"toc-item\"><li><span><a href=\"#Сводная-таблица-данных\" data-toc-modified-id=\"Сводная-таблица-данных-3.1\"><span class=\"toc-item-num\">3.1&nbsp;&nbsp;</span>Сводная таблица данных</a></span></li><li><span><a href=\"#Проверка-диапазона-дат\" data-toc-modified-id=\"Проверка-диапазона-дат-3.2\"><span class=\"toc-item-num\">3.2&nbsp;&nbsp;</span>Проверка диапазона дат</a></span></li><li><span><a href=\"#Проверка-пересечения-пользователей-в-группах\" data-toc-modified-id=\"Проверка-пересечения-пользователей-в-группах-3.3\"><span class=\"toc-item-num\">3.3&nbsp;&nbsp;</span>Проверка пересечения пользователей в группах</a></span></li><li><span><a href=\"#Проверка-аномальной-активности-пользователей\" data-toc-modified-id=\"Проверка-аномальной-активности-пользователей-3.4\"><span class=\"toc-item-num\">3.4&nbsp;&nbsp;</span>Проверка аномальной активности пользователей</a></span></li><li><span><a href=\"#Итоги-по-проверке-данных\" data-toc-modified-id=\"Итоги-по-проверке-данных-3.5\"><span class=\"toc-item-num\">3.5&nbsp;&nbsp;</span>Итоги по проверке данных</a></span></li></ul></li><li><span><a href=\"#Анализ-воронки-событий\" data-toc-modified-id=\"Анализ-воронки-событий-4\"><span class=\"toc-item-num\">4&nbsp;&nbsp;</span>Анализ воронки событий</a></span><ul class=\"toc-item\"><li><span><a href=\"#Число-событий-в-логах\" data-toc-modified-id=\"Число-событий-в-логах-4.1\"><span class=\"toc-item-num\">4.1&nbsp;&nbsp;</span>Число событий в логах</a></span></li><li><span><a href=\"#Пользователи-и-события\" data-toc-modified-id=\"Пользователи-и-события-4.2\"><span class=\"toc-item-num\">4.2&nbsp;&nbsp;</span>Пользователи и события</a></span></li><li><span><a href=\"#Порядок-событий\" data-toc-modified-id=\"Порядок-событий-4.3\"><span class=\"toc-item-num\">4.3&nbsp;&nbsp;</span>Порядок событий</a></span></li><li><span><a href=\"#Воронки-событий\" data-toc-modified-id=\"Воронки-событий-4.4\"><span class=\"toc-item-num\">4.4&nbsp;&nbsp;</span>Воронки событий</a></span></li></ul></li><li><span><a href=\"#Анализ-результатов-A/A/B-теста\" data-toc-modified-id=\"Анализ-результатов-A/A/B-теста-5\"><span class=\"toc-item-num\">5&nbsp;&nbsp;</span>Анализ результатов A/A/B-теста</a></span><ul class=\"toc-item\"><li><span><a href=\"#Стабильность-показателей-конверсии\" data-toc-modified-id=\"Стабильность-показателей-конверсии-5.1\"><span class=\"toc-item-num\">5.1&nbsp;&nbsp;</span>Стабильность показателей конверсии</a></span></li><li><span><a href=\"#Проверка-размеров-выборок\" data-toc-modified-id=\"Проверка-размеров-выборок-5.2\"><span class=\"toc-item-num\">5.2&nbsp;&nbsp;</span>Проверка размеров выборок</a></span></li><li><span><a href=\"#Проверка-контрольных-А/А1-групп\" data-toc-modified-id=\"Проверка-контрольных-А/А1-групп-5.3\"><span class=\"toc-item-num\">5.3&nbsp;&nbsp;</span>Проверка контрольных А/А1 групп</a></span></li><li><span><a href=\"#Проверка-A/A1/B\" data-toc-modified-id=\"Проверка-A/A1/B-5.4\"><span class=\"toc-item-num\">5.4&nbsp;&nbsp;</span>Проверка A/A1/B</a></span><ul class=\"toc-item\"><li><span><a href=\"#Сравнение-показателей-групп-A-и-B\" data-toc-modified-id=\"Сравнение-показателей-групп-A-и-B-5.4.1\"><span class=\"toc-item-num\">5.4.1&nbsp;&nbsp;</span>Сравнение показателей групп A и B</a></span></li><li><span><a href=\"#Сравнение-показателей-групп-A1-и-B\" data-toc-modified-id=\"Сравнение-показателей-групп-A1-и-B-5.4.2\"><span class=\"toc-item-num\">5.4.2&nbsp;&nbsp;</span>Сравнение показателей групп A1 и B</a></span></li><li><span><a href=\"#Сравнение-показателей-объединенной-контрольной-группы-и-группы-B\" data-toc-modified-id=\"Сравнение-показателей-объединенной-контрольной-группы-и-группы-B-5.4.3\"><span class=\"toc-item-num\">5.4.3&nbsp;&nbsp;</span>Сравнение показателей объединенной контрольной группы и группы B</a></span></li></ul></li><li><span><a href=\"#Результаты-A/A/B-теста\" data-toc-modified-id=\"Результаты-A/A/B-теста-5.5\"><span class=\"toc-item-num\">5.5&nbsp;&nbsp;</span>Результаты A/A/B теста</a></span></li></ul></li><li><span><a href=\"#Выводы\" data-toc-modified-id=\"Выводы-6\"><span class=\"toc-item-num\">6&nbsp;&nbsp;</span>Выводы</a></span></li></ul></div>"
   ]
  },
  {
   "cell_type": "markdown",
   "metadata": {},
   "source": [
    "# Анализ пользовательского поведения в мобильном приложении"
   ]
  },
  {
   "cell_type": "markdown",
   "metadata": {},
   "source": [
    "## Введение\n",
    "\n",
    "В данном проекте рассматриваетя пользовательское поведение в мобильном нашей компании.\n",
    "\n",
    "У нас есть **данные о пользовательских событиях** в приложении и **проведении A/A/B-теста по изменению шрифтов**.\n",
    "\n",
    "**Постановка задачи:**\n",
    "\n",
    "* Проверить корректность предоставленных данных\n",
    "\n",
    "* Изучить пользовательское поведение\n",
    "* Построить воронку событий\n",
    "* Определить проблемные шаги в воронке\n",
    "\n",
    "* Проверить корректность выборок по контрольным группам (№ 246 и № 247)\n",
    "* Проверить корректность эксперимента по отличиям в показателях по контрольным группам\n",
    "* Определить победителя в A/A/B-тесте (если это возможно) и дать рекомендации"
   ]
  },
  {
   "cell_type": "markdown",
   "metadata": {},
   "source": [
    "## Загрузка и подготовка данных\n",
    "\n",
    "Используется датасет *logs_exp.csv* - лог пользовательских событий в приложении.\n",
    "\n",
    "Каждая запись в логе — это действие пользователя, или событие.\n",
    "\n",
    "* EventName — название события;\n",
    "    \n",
    "* DeviceIDHash — уникальный идентификатор пользователя;\n",
    "    \n",
    "* EventTimestamp — время события;\n",
    "    \n",
    "* ExpId — номер эксперимента: 246 и 247 — контрольные группы, а 248 — экспериментальная."
   ]
  },
  {
   "cell_type": "code",
   "execution_count": 45,
   "metadata": {},
   "outputs": [],
   "source": [
    "# импорт модулей\n",
    "# встроенные модули\n",
    "import datetime as dt\n",
    "import os\n",
    "import errno\n",
    "# pandas\n",
    "import pandas as pd\n",
    "# numpy\n",
    "import numpy as np\n",
    "# визуализации - matplotlib, seaborn\n",
    "import matplotlib.pyplot as plt\n",
    "# форматирование осей\n",
    "import matplotlib.ticker as mtick\n",
    "import matplotlib.patches as patches\n",
    "\n",
    "import seaborn as sns\n",
    "# мат. статистика - scipy\n",
    "import scipy.stats as stats\n",
    "# мат.стат - ztest пропорций\n",
    "from statsmodels.stats.proportion import proportions_ztest\n",
    "# мат.стат - тестирование множественных гипотез\n",
    "from statsmodels.sandbox.stats.multicomp import multipletests"
   ]
  },
  {
   "cell_type": "code",
   "execution_count": 2,
   "metadata": {},
   "outputs": [],
   "source": [
    "# константы\n",
    "# палитра для таблиц\n",
    "_TABLE_CMAP = sns.light_palette('blue', as_cmap=True)\n",
    "# стили для таблиц\n",
    "_TABLE_STYLES = [dict(selector = \"caption\", \n",
    "               props = [(\"color\", \"black\"), \n",
    "                        (\"text-align\", \"center\")])]\n",
    "\n",
    "# вспомогательные функции для форматирования\n",
    "\n",
    "# форматирование в миллионах\n",
    "def million_formatter(x, pos):\n",
    "    return \"%.1f M\" % (x/1E6)\n",
    "\n",
    "# форматирование в тысячах\n",
    "def thousand_formatter(x, pos):\n",
    "    return \"%.1f K\" % (x/1E3)"
   ]
  },
  {
   "cell_type": "markdown",
   "metadata": {},
   "source": [
    "### Загрузка данных"
   ]
  },
  {
   "cell_type": "code",
   "execution_count": 3,
   "metadata": {},
   "outputs": [],
   "source": [
    "def read_file(filename, sep = ','):\n",
    "    \"\"\"\n",
    "    Вспомогательная функция для загрузки датафреймов из файлов\n",
    "    Параметры:\n",
    "        filename : имя файла,\n",
    "        sep : разделитель, по умолчанию \",\"\n",
    "    Возвращает: pandas.DataFrame\n",
    "    \"\"\"    \n",
    "    path1 = os.path.join('/datasets', filename)\n",
    "    path2 = os.path.join('./datasets', filename)\n",
    "    path3 = os.path.join(filename)\n",
    "    path_cloud = 'https://code.s3.yandex.net/datasets/' + filename\n",
    "    if os.path.exists(path1):\n",
    "        df = pd.read_csv(path1, sep=sep)\n",
    "    elif os.path.exists(path2):\n",
    "        df = pd.read_csv(path2, sep=sep)\n",
    "    elif os.path.exists(path3):\n",
    "        df = pd.read_csv(path3, sep=sep)\n",
    "    else:\n",
    "        try:\n",
    "            df = pd.read_csv(path_cloud, sep=sep)\n",
    "        except:\n",
    "            raise FileNotFoundError(\n",
    "                errno.ENOENT,\n",
    "                os.strerror(errno.ENOENT),\n",
    "                filename)\n",
    "    return df\n",
    "\n",
    "# data\n",
    "data = read_file('logs_exp.csv', sep='\\t')"
   ]
  },
  {
   "cell_type": "markdown",
   "metadata": {},
   "source": [
    "\n",
    "### Дубликаты данных\n",
    "Проверим наличие дубликатов в датасете:"
   ]
  },
  {
   "cell_type": "code",
   "execution_count": 4,
   "metadata": {},
   "outputs": [
    {
     "name": "stdout",
     "output_type": "stream",
     "text": [
      "Число полных дубликатов: 413\n"
     ]
    }
   ],
   "source": [
    "print(f\"Число полных дубликатов: {data.duplicated().sum()}\")"
   ]
  },
  {
   "cell_type": "markdown",
   "metadata": {},
   "source": [
    "И удалим их:"
   ]
  },
  {
   "cell_type": "code",
   "execution_count": 5,
   "metadata": {},
   "outputs": [],
   "source": [
    "data = data.drop_duplicates()"
   ]
  },
  {
   "cell_type": "markdown",
   "metadata": {},
   "source": [
    "### Общий вид таблицы"
   ]
  },
  {
   "cell_type": "code",
   "execution_count": 6,
   "metadata": {},
   "outputs": [
    {
     "name": "stdout",
     "output_type": "stream",
     "text": [
      "\n",
      "Общий вид таблицы с данными:\n",
      "<class 'pandas.core.frame.DataFrame'>\n",
      "Int64Index: 243713 entries, 0 to 244125\n",
      "Data columns (total 4 columns):\n",
      " #   Column          Non-Null Count   Dtype \n",
      "---  ------          --------------   ----- \n",
      " 0   EventName       243713 non-null  object\n",
      " 1   DeviceIDHash    243713 non-null  int64 \n",
      " 2   EventTimestamp  243713 non-null  int64 \n",
      " 3   ExpId           243713 non-null  int64 \n",
      "dtypes: int64(3), object(1)\n",
      "memory usage: 9.3+ MB\n",
      "\n",
      "5 случайных строк из таблицы с данными:\n"
     ]
    },
    {
     "data": {
      "text/html": [
       "<div>\n",
       "<style scoped>\n",
       "    .dataframe tbody tr th:only-of-type {\n",
       "        vertical-align: middle;\n",
       "    }\n",
       "\n",
       "    .dataframe tbody tr th {\n",
       "        vertical-align: top;\n",
       "    }\n",
       "\n",
       "    .dataframe thead th {\n",
       "        text-align: right;\n",
       "    }\n",
       "</style>\n",
       "<table border=\"1\" class=\"dataframe\">\n",
       "  <thead>\n",
       "    <tr style=\"text-align: right;\">\n",
       "      <th></th>\n",
       "      <th>EventName</th>\n",
       "      <th>DeviceIDHash</th>\n",
       "      <th>EventTimestamp</th>\n",
       "      <th>ExpId</th>\n",
       "    </tr>\n",
       "  </thead>\n",
       "  <tbody>\n",
       "    <tr>\n",
       "      <th>124811</th>\n",
       "      <td>OffersScreenAppear</td>\n",
       "      <td>2161145992201706665</td>\n",
       "      <td>1564923446</td>\n",
       "      <td>246</td>\n",
       "    </tr>\n",
       "    <tr>\n",
       "      <th>86030</th>\n",
       "      <td>OffersScreenAppear</td>\n",
       "      <td>2631876180975097434</td>\n",
       "      <td>1564828317</td>\n",
       "      <td>247</td>\n",
       "    </tr>\n",
       "    <tr>\n",
       "      <th>165782</th>\n",
       "      <td>PaymentScreenSuccessful</td>\n",
       "      <td>8967470366208471757</td>\n",
       "      <td>1565019999</td>\n",
       "      <td>246</td>\n",
       "    </tr>\n",
       "    <tr>\n",
       "      <th>161158</th>\n",
       "      <td>CartScreenAppear</td>\n",
       "      <td>3579460024691788772</td>\n",
       "      <td>1565014402</td>\n",
       "      <td>248</td>\n",
       "    </tr>\n",
       "    <tr>\n",
       "      <th>176086</th>\n",
       "      <td>MainScreenAppear</td>\n",
       "      <td>3179569210883065573</td>\n",
       "      <td>1565039548</td>\n",
       "      <td>248</td>\n",
       "    </tr>\n",
       "  </tbody>\n",
       "</table>\n",
       "</div>"
      ],
      "text/plain": [
       "                      EventName         DeviceIDHash  EventTimestamp  ExpId\n",
       "124811       OffersScreenAppear  2161145992201706665      1564923446    246\n",
       "86030        OffersScreenAppear  2631876180975097434      1564828317    247\n",
       "165782  PaymentScreenSuccessful  8967470366208471757      1565019999    246\n",
       "161158         CartScreenAppear  3579460024691788772      1565014402    248\n",
       "176086         MainScreenAppear  3179569210883065573      1565039548    248"
      ]
     },
     "metadata": {},
     "output_type": "display_data"
    }
   ],
   "source": [
    "print(\"\\nОбщий вид таблицы с данными:\")\n",
    "data.info()\n",
    "print(\"\\n5 случайных строк из таблицы с данными:\")\n",
    "display(data.sample(5))"
   ]
  },
  {
   "cell_type": "markdown",
   "metadata": {},
   "source": [
    "* Заголовки столбцов в датасете - в формате CamelCase. Переведем в стандартный snake_case и поменяем названия на более понятные\n",
    "* Пропуски отсутствуют\n",
    "* Время события распознано как int64. Переведем в datetime, добавив отдельные столбцы с datetime и date"
   ]
  },
  {
   "cell_type": "code",
   "execution_count": 7,
   "metadata": {},
   "outputs": [],
   "source": [
    "# смена заголовков столбцов:\n",
    "data.columns=['event_name', 'user_id', 'timestamp', 'exp_id']"
   ]
  },
  {
   "cell_type": "code",
   "execution_count": 8,
   "metadata": {},
   "outputs": [],
   "source": [
    "# добавляем столбцы с датой и временем:\n",
    "data['date_time'] = pd.to_datetime(data['timestamp'], unit='s')\n",
    "data['date'] = pd.to_datetime(data['timestamp'], unit='s').dt.date"
   ]
  },
  {
   "cell_type": "code",
   "execution_count": 9,
   "metadata": {},
   "outputs": [
    {
     "name": "stdout",
     "output_type": "stream",
     "text": [
      "\n",
      "Таблица после первичных корректировок:\n"
     ]
    },
    {
     "data": {
      "text/html": [
       "<div>\n",
       "<style scoped>\n",
       "    .dataframe tbody tr th:only-of-type {\n",
       "        vertical-align: middle;\n",
       "    }\n",
       "\n",
       "    .dataframe tbody tr th {\n",
       "        vertical-align: top;\n",
       "    }\n",
       "\n",
       "    .dataframe thead th {\n",
       "        text-align: right;\n",
       "    }\n",
       "</style>\n",
       "<table border=\"1\" class=\"dataframe\">\n",
       "  <thead>\n",
       "    <tr style=\"text-align: right;\">\n",
       "      <th></th>\n",
       "      <th>event_name</th>\n",
       "      <th>user_id</th>\n",
       "      <th>timestamp</th>\n",
       "      <th>exp_id</th>\n",
       "      <th>date_time</th>\n",
       "      <th>date</th>\n",
       "    </tr>\n",
       "  </thead>\n",
       "  <tbody>\n",
       "    <tr>\n",
       "      <th>187189</th>\n",
       "      <td>MainScreenAppear</td>\n",
       "      <td>6528411893044737461</td>\n",
       "      <td>1565082868</td>\n",
       "      <td>248</td>\n",
       "      <td>2019-08-06 09:14:28</td>\n",
       "      <td>2019-08-06</td>\n",
       "    </tr>\n",
       "    <tr>\n",
       "      <th>193686</th>\n",
       "      <td>MainScreenAppear</td>\n",
       "      <td>8233040176393470157</td>\n",
       "      <td>1565094755</td>\n",
       "      <td>246</td>\n",
       "      <td>2019-08-06 12:32:35</td>\n",
       "      <td>2019-08-06</td>\n",
       "    </tr>\n",
       "    <tr>\n",
       "      <th>98361</th>\n",
       "      <td>MainScreenAppear</td>\n",
       "      <td>2690838944199130002</td>\n",
       "      <td>1564846880</td>\n",
       "      <td>248</td>\n",
       "      <td>2019-08-03 15:41:20</td>\n",
       "      <td>2019-08-03</td>\n",
       "    </tr>\n",
       "    <tr>\n",
       "      <th>151905</th>\n",
       "      <td>MainScreenAppear</td>\n",
       "      <td>6277910164965428737</td>\n",
       "      <td>1564999861</td>\n",
       "      <td>247</td>\n",
       "      <td>2019-08-05 10:11:01</td>\n",
       "      <td>2019-08-05</td>\n",
       "    </tr>\n",
       "    <tr>\n",
       "      <th>16184</th>\n",
       "      <td>OffersScreenAppear</td>\n",
       "      <td>197027893265565660</td>\n",
       "      <td>1564658598</td>\n",
       "      <td>246</td>\n",
       "      <td>2019-08-01 11:23:18</td>\n",
       "      <td>2019-08-01</td>\n",
       "    </tr>\n",
       "  </tbody>\n",
       "</table>\n",
       "</div>"
      ],
      "text/plain": [
       "                event_name              user_id   timestamp  exp_id  \\\n",
       "187189    MainScreenAppear  6528411893044737461  1565082868     248   \n",
       "193686    MainScreenAppear  8233040176393470157  1565094755     246   \n",
       "98361     MainScreenAppear  2690838944199130002  1564846880     248   \n",
       "151905    MainScreenAppear  6277910164965428737  1564999861     247   \n",
       "16184   OffersScreenAppear   197027893265565660  1564658598     246   \n",
       "\n",
       "                 date_time        date  \n",
       "187189 2019-08-06 09:14:28  2019-08-06  \n",
       "193686 2019-08-06 12:32:35  2019-08-06  \n",
       "98361  2019-08-03 15:41:20  2019-08-03  \n",
       "151905 2019-08-05 10:11:01  2019-08-05  \n",
       "16184  2019-08-01 11:23:18  2019-08-01  "
      ]
     },
     "execution_count": 9,
     "metadata": {},
     "output_type": "execute_result"
    }
   ],
   "source": [
    "# таблица после первичных корректировок:\n",
    "print(\"\\nТаблица после первичных корректировок:\")\n",
    "data.sample(5)"
   ]
  },
  {
   "cell_type": "markdown",
   "metadata": {},
   "source": [
    "## Общий анализ и проверка данных\n"
   ]
  },
  {
   "cell_type": "markdown",
   "metadata": {},
   "source": [
    "### Сводная таблица данных\n",
    "Построим сводную таблицу по данным:"
   ]
  },
  {
   "cell_type": "code",
   "execution_count": 10,
   "metadata": {},
   "outputs": [],
   "source": [
    "def data_summary(df):\n",
    "    \"\"\"\n",
    "    Вспомогательная функция для отображения сводной таблицы по датафрейму\n",
    "    Параметры:\n",
    "        df : датафрейм\n",
    "    Возвращает:\n",
    "        датафрейм со сводной таблицей\n",
    "    \"\"\"\n",
    "    # Считаем общую статистику по всем данным\n",
    "    total_summary = df.groupby(lambda _ : \"Общие данные\").agg(\n",
    "        event_count = ('event_name', 'count'),\n",
    "        event_types = ('event_name', 'nunique'),\n",
    "        user_count = ('user_id', 'nunique'), \n",
    "        min_date = ('date', 'min'),\n",
    "        max_date = ('date', 'max'),\n",
    "        days_total = ('date', 'nunique')       \n",
    "    ).reset_index()\n",
    "    total_summary['days_missing'] = ((total_summary['max_date'] - total_summary['min_date']).dt.days \n",
    "                                     - total_summary['days_total']\n",
    "                                     + 1)\n",
    "    total_summary['events_per_user'] = total_summary['event_count']/total_summary['user_count']\n",
    "    total_summary.columns.values[0] = 'experiment'\n",
    "    # И сразу же - по всем экспериментальным группам\n",
    "    group_summary = df.groupby('exp_id').agg(\n",
    "        event_count = ('event_name', 'count'),\n",
    "        event_types = ('event_name', 'nunique'),\n",
    "        user_count = ('user_id', 'nunique'), \n",
    "        min_date = ('date', 'min'),\n",
    "        max_date = ('date', 'max'),\n",
    "        days_total = ('date', 'nunique')       \n",
    "    ).reset_index()\n",
    "    group_summary['days_missing'] = ((group_summary['max_date'] - group_summary['min_date']).dt.days \n",
    "                                     - group_summary['days_total']\n",
    "                                     + 1)\n",
    "    group_summary['events_per_user'] = group_summary['event_count']/group_summary['user_count']\n",
    "    group_summary.columns.values[0] = 'experiment'\n",
    "    # Объединяем данные в одну таблицу\n",
    "    total_summary = pd.concat([total_summary, group_summary])\n",
    "    # Меняем порядок столбцов\n",
    "    total_summary = total_summary[['experiment', 'event_count', 'event_types', 'user_count', 'events_per_user',\n",
    "                                 'min_date', 'max_date', 'days_total', 'days_missing']].reset_index(drop=True)\n",
    "    # Возвращаем сводную таблицу\n",
    "    return total_summary\n"
   ]
  },
  {
   "cell_type": "code",
   "execution_count": 11,
   "metadata": {},
   "outputs": [
    {
     "data": {
      "text/html": [
       "<style  type=\"text/css\" >\n",
       "</style><table id=\"T_8c7aa_\" ><caption>Сводная таблица по данным</caption><thead>    <tr>        <th class=\"blank level0\" ></th>        <th class=\"col_heading level0 col0\" >experiment</th>        <th class=\"col_heading level0 col1\" >event_count</th>        <th class=\"col_heading level0 col2\" >event_types</th>        <th class=\"col_heading level0 col3\" >user_count</th>        <th class=\"col_heading level0 col4\" >events_per_user</th>        <th class=\"col_heading level0 col5\" >min_date</th>        <th class=\"col_heading level0 col6\" >max_date</th>        <th class=\"col_heading level0 col7\" >days_total</th>        <th class=\"col_heading level0 col8\" >days_missing</th>    </tr></thead><tbody>\n",
       "                <tr>\n",
       "                        <th id=\"T_8c7aa_level0_row0\" class=\"row_heading level0 row0\" >0</th>\n",
       "                        <td id=\"T_8c7aa_row0_col0\" class=\"data row0 col0\" >Общие данные</td>\n",
       "                        <td id=\"T_8c7aa_row0_col1\" class=\"data row0 col1\" >243713</td>\n",
       "                        <td id=\"T_8c7aa_row0_col2\" class=\"data row0 col2\" >5</td>\n",
       "                        <td id=\"T_8c7aa_row0_col3\" class=\"data row0 col3\" >7551</td>\n",
       "                        <td id=\"T_8c7aa_row0_col4\" class=\"data row0 col4\" >32.28</td>\n",
       "                        <td id=\"T_8c7aa_row0_col5\" class=\"data row0 col5\" >2019-07-25</td>\n",
       "                        <td id=\"T_8c7aa_row0_col6\" class=\"data row0 col6\" >2019-08-07</td>\n",
       "                        <td id=\"T_8c7aa_row0_col7\" class=\"data row0 col7\" >14</td>\n",
       "                        <td id=\"T_8c7aa_row0_col8\" class=\"data row0 col8\" >0</td>\n",
       "            </tr>\n",
       "            <tr>\n",
       "                        <th id=\"T_8c7aa_level0_row1\" class=\"row_heading level0 row1\" >1</th>\n",
       "                        <td id=\"T_8c7aa_row1_col0\" class=\"data row1 col0\" >246</td>\n",
       "                        <td id=\"T_8c7aa_row1_col1\" class=\"data row1 col1\" >80181</td>\n",
       "                        <td id=\"T_8c7aa_row1_col2\" class=\"data row1 col2\" >5</td>\n",
       "                        <td id=\"T_8c7aa_row1_col3\" class=\"data row1 col3\" >2489</td>\n",
       "                        <td id=\"T_8c7aa_row1_col4\" class=\"data row1 col4\" >32.21</td>\n",
       "                        <td id=\"T_8c7aa_row1_col5\" class=\"data row1 col5\" >2019-07-25</td>\n",
       "                        <td id=\"T_8c7aa_row1_col6\" class=\"data row1 col6\" >2019-08-07</td>\n",
       "                        <td id=\"T_8c7aa_row1_col7\" class=\"data row1 col7\" >14</td>\n",
       "                        <td id=\"T_8c7aa_row1_col8\" class=\"data row1 col8\" >0</td>\n",
       "            </tr>\n",
       "            <tr>\n",
       "                        <th id=\"T_8c7aa_level0_row2\" class=\"row_heading level0 row2\" >2</th>\n",
       "                        <td id=\"T_8c7aa_row2_col0\" class=\"data row2 col0\" >247</td>\n",
       "                        <td id=\"T_8c7aa_row2_col1\" class=\"data row2 col1\" >77950</td>\n",
       "                        <td id=\"T_8c7aa_row2_col2\" class=\"data row2 col2\" >5</td>\n",
       "                        <td id=\"T_8c7aa_row2_col3\" class=\"data row2 col3\" >2520</td>\n",
       "                        <td id=\"T_8c7aa_row2_col4\" class=\"data row2 col4\" >30.93</td>\n",
       "                        <td id=\"T_8c7aa_row2_col5\" class=\"data row2 col5\" >2019-07-25</td>\n",
       "                        <td id=\"T_8c7aa_row2_col6\" class=\"data row2 col6\" >2019-08-07</td>\n",
       "                        <td id=\"T_8c7aa_row2_col7\" class=\"data row2 col7\" >14</td>\n",
       "                        <td id=\"T_8c7aa_row2_col8\" class=\"data row2 col8\" >0</td>\n",
       "            </tr>\n",
       "            <tr>\n",
       "                        <th id=\"T_8c7aa_level0_row3\" class=\"row_heading level0 row3\" >3</th>\n",
       "                        <td id=\"T_8c7aa_row3_col0\" class=\"data row3 col0\" >248</td>\n",
       "                        <td id=\"T_8c7aa_row3_col1\" class=\"data row3 col1\" >85582</td>\n",
       "                        <td id=\"T_8c7aa_row3_col2\" class=\"data row3 col2\" >5</td>\n",
       "                        <td id=\"T_8c7aa_row3_col3\" class=\"data row3 col3\" >2542</td>\n",
       "                        <td id=\"T_8c7aa_row3_col4\" class=\"data row3 col4\" >33.67</td>\n",
       "                        <td id=\"T_8c7aa_row3_col5\" class=\"data row3 col5\" >2019-07-25</td>\n",
       "                        <td id=\"T_8c7aa_row3_col6\" class=\"data row3 col6\" >2019-08-07</td>\n",
       "                        <td id=\"T_8c7aa_row3_col7\" class=\"data row3 col7\" >14</td>\n",
       "                        <td id=\"T_8c7aa_row3_col8\" class=\"data row3 col8\" >0</td>\n",
       "            </tr>\n",
       "    </tbody></table>"
      ],
      "text/plain": [
       "<pandas.io.formats.style.Styler at 0x276c41efe20>"
      ]
     },
     "metadata": {},
     "output_type": "display_data"
    }
   ],
   "source": [
    "# Выводим сводную таблицу по данным\n",
    "summary_raw = data_summary(data)\n",
    "with pd.option_context('display.precision', 2):\n",
    "    display(\n",
    "        summary_raw.style.set_caption(\"Сводная таблица по данным\")\n",
    "    )"
   ]
  },
  {
   "cell_type": "markdown",
   "metadata": {},
   "source": [
    "* В датасете данные с *7 июля 2019 года по 7 августа 2019 года*, *244126* событий для *7551* пользователей (в среднем примерно *32* события на пользователя). \n",
    "* Пропуски в датах отсутствуют для всех групп, как и пропуски типов событий.\n",
    "* Нам известно, что группы группы экспериментов 246 и 247 - контрольные, а 248 - тестовая. *Переименуем их в A, A1 и B* для удобства."
   ]
  },
  {
   "cell_type": "code",
   "execution_count": 12,
   "metadata": {},
   "outputs": [],
   "source": [
    "# переименование групп\n",
    "def group_rename(cell):\n",
    "    if cell == 246:\n",
    "        return 'A'\n",
    "    elif cell == 247:\n",
    "        return 'A1'\n",
    "    elif cell ==  248:\n",
    "        return 'B'\n",
    "    else:\n",
    "        return np.nan()\n",
    "data['exp_id'] = data['exp_id'].apply(group_rename)"
   ]
  },
  {
   "cell_type": "markdown",
   "metadata": {},
   "source": [
    "### Проверка диапазона дат"
   ]
  },
  {
   "cell_type": "markdown",
   "metadata": {},
   "source": [
    "Посмотрим распределение событий по датам для проверки на наличие «доезжания» событий из прошлого для некоторых пользователей — это может «перекашивать данные»:"
   ]
  },
  {
   "cell_type": "code",
   "execution_count": 13,
   "metadata": {},
   "outputs": [
    {
     "data": {
      "image/png": "[encoded data removed]",
      "text/plain": [
       "<Figure size 1080x432 with 1 Axes>"
      ]
     },
     "metadata": {
      "needs_background": "light"
     },
     "output_type": "display_data"
    }
   ],
   "source": [
    "# число дней в диапазоне\n",
    "# days_raw = (data.date.max() - data.date.min()).days + 1\n",
    "plt.figure(figsize=(15,6))\n",
    "fig = sns.histplot(data=data, x='date')\n",
    "fig.set_title(\"Число событий по дням\")\n",
    "fig.set_ylabel(\"Число событий\")\n",
    "fig.set_xlabel(\"Дата\")\n",
    "fig.set(xticks=data.date.unique())\n",
    "fig.yaxis.set_major_formatter(thousand_formatter)\n",
    "plt.xticks(rotation=45)\n",
    "plt.show()"
   ]
  },
  {
   "cell_type": "code",
   "execution_count": 14,
   "metadata": {},
   "outputs": [],
   "source": [
    "data_slice = data[data.date >= pd.to_datetime('2019-08-01', format='%Y-%m-%d').date()]"
   ]
  },
  {
   "cell_type": "code",
   "execution_count": 15,
   "metadata": {},
   "outputs": [
    {
     "data": {
      "text/html": [
       "<style  type=\"text/css\" >\n",
       "</style><table id=\"T_12dfe_\" ><caption>Сводная таблица по очищенным данным</caption><thead>    <tr>        <th class=\"blank level0\" ></th>        <th class=\"col_heading level0 col0\" >experiment</th>        <th class=\"col_heading level0 col1\" >event_count</th>        <th class=\"col_heading level0 col2\" >event_types</th>        <th class=\"col_heading level0 col3\" >user_count</th>        <th class=\"col_heading level0 col4\" >events_per_user</th>        <th class=\"col_heading level0 col5\" >min_date</th>        <th class=\"col_heading level0 col6\" >max_date</th>        <th class=\"col_heading level0 col7\" >days_total</th>        <th class=\"col_heading level0 col8\" >days_missing</th>    </tr></thead><tbody>\n",
       "                <tr>\n",
       "                        <th id=\"T_12dfe_level0_row0\" class=\"row_heading level0 row0\" >0</th>\n",
       "                        <td id=\"T_12dfe_row0_col0\" class=\"data row0 col0\" >Общие данные</td>\n",
       "                        <td id=\"T_12dfe_row0_col1\" class=\"data row0 col1\" >240887</td>\n",
       "                        <td id=\"T_12dfe_row0_col2\" class=\"data row0 col2\" >5</td>\n",
       "                        <td id=\"T_12dfe_row0_col3\" class=\"data row0 col3\" >7534</td>\n",
       "                        <td id=\"T_12dfe_row0_col4\" class=\"data row0 col4\" >31.97</td>\n",
       "                        <td id=\"T_12dfe_row0_col5\" class=\"data row0 col5\" >2019-08-01</td>\n",
       "                        <td id=\"T_12dfe_row0_col6\" class=\"data row0 col6\" >2019-08-07</td>\n",
       "                        <td id=\"T_12dfe_row0_col7\" class=\"data row0 col7\" >7</td>\n",
       "                        <td id=\"T_12dfe_row0_col8\" class=\"data row0 col8\" >0</td>\n",
       "            </tr>\n",
       "            <tr>\n",
       "                        <th id=\"T_12dfe_level0_row1\" class=\"row_heading level0 row1\" >1</th>\n",
       "                        <td id=\"T_12dfe_row1_col0\" class=\"data row1 col0\" >A</td>\n",
       "                        <td id=\"T_12dfe_row1_col1\" class=\"data row1 col1\" >79302</td>\n",
       "                        <td id=\"T_12dfe_row1_col2\" class=\"data row1 col2\" >5</td>\n",
       "                        <td id=\"T_12dfe_row1_col3\" class=\"data row1 col3\" >2484</td>\n",
       "                        <td id=\"T_12dfe_row1_col4\" class=\"data row1 col4\" >31.93</td>\n",
       "                        <td id=\"T_12dfe_row1_col5\" class=\"data row1 col5\" >2019-08-01</td>\n",
       "                        <td id=\"T_12dfe_row1_col6\" class=\"data row1 col6\" >2019-08-07</td>\n",
       "                        <td id=\"T_12dfe_row1_col7\" class=\"data row1 col7\" >7</td>\n",
       "                        <td id=\"T_12dfe_row1_col8\" class=\"data row1 col8\" >0</td>\n",
       "            </tr>\n",
       "            <tr>\n",
       "                        <th id=\"T_12dfe_level0_row2\" class=\"row_heading level0 row2\" >2</th>\n",
       "                        <td id=\"T_12dfe_row2_col0\" class=\"data row2 col0\" >A1</td>\n",
       "                        <td id=\"T_12dfe_row2_col1\" class=\"data row2 col1\" >77022</td>\n",
       "                        <td id=\"T_12dfe_row2_col2\" class=\"data row2 col2\" >5</td>\n",
       "                        <td id=\"T_12dfe_row2_col3\" class=\"data row2 col3\" >2513</td>\n",
       "                        <td id=\"T_12dfe_row2_col4\" class=\"data row2 col4\" >30.65</td>\n",
       "                        <td id=\"T_12dfe_row2_col5\" class=\"data row2 col5\" >2019-08-01</td>\n",
       "                        <td id=\"T_12dfe_row2_col6\" class=\"data row2 col6\" >2019-08-07</td>\n",
       "                        <td id=\"T_12dfe_row2_col7\" class=\"data row2 col7\" >7</td>\n",
       "                        <td id=\"T_12dfe_row2_col8\" class=\"data row2 col8\" >0</td>\n",
       "            </tr>\n",
       "            <tr>\n",
       "                        <th id=\"T_12dfe_level0_row3\" class=\"row_heading level0 row3\" >3</th>\n",
       "                        <td id=\"T_12dfe_row3_col0\" class=\"data row3 col0\" >B</td>\n",
       "                        <td id=\"T_12dfe_row3_col1\" class=\"data row3 col1\" >84563</td>\n",
       "                        <td id=\"T_12dfe_row3_col2\" class=\"data row3 col2\" >5</td>\n",
       "                        <td id=\"T_12dfe_row3_col3\" class=\"data row3 col3\" >2537</td>\n",
       "                        <td id=\"T_12dfe_row3_col4\" class=\"data row3 col4\" >33.33</td>\n",
       "                        <td id=\"T_12dfe_row3_col5\" class=\"data row3 col5\" >2019-08-01</td>\n",
       "                        <td id=\"T_12dfe_row3_col6\" class=\"data row3 col6\" >2019-08-07</td>\n",
       "                        <td id=\"T_12dfe_row3_col7\" class=\"data row3 col7\" >7</td>\n",
       "                        <td id=\"T_12dfe_row3_col8\" class=\"data row3 col8\" >0</td>\n",
       "            </tr>\n",
       "    </tbody></table>"
      ],
      "text/plain": [
       "<pandas.io.formats.style.Styler at 0x276f759c040>"
      ]
     },
     "metadata": {},
     "output_type": "display_data"
    }
   ],
   "source": [
    "# Выводим сводную таблицу по очищенным данным\n",
    "summary_slice = data_summary(data_slice)\n",
    "with pd.option_context('display.precision', 2):\n",
    "    display(\n",
    "        summary_slice.style.set_caption(\"Сводная таблица по очищенным данным\")\n",
    "    )"
   ]
  },
  {
   "cell_type": "markdown",
   "metadata": {},
   "source": [
    "Похоже, что значительных потерь данных нет - *есть пользователи и типы событий со всех групп*, а также присутствуют данные за все оставшиеся дни. Посмотрим точнее:"
   ]
  },
  {
   "cell_type": "code",
   "execution_count": 16,
   "metadata": {},
   "outputs": [
    {
     "name": "stdout",
     "output_type": "stream",
     "text": [
      "Убрано событий: 2826, 1.16%\n",
      "Убрано пользователей: 17, 0.23%\n"
     ]
    }
   ],
   "source": [
    "events_removed = summary_raw.loc[0, 'event_count'] - summary_slice.loc[0, 'event_count']\n",
    "print(\"Убрано событий: {0}, {1:.2%}\".format(\n",
    "      events_removed,\n",
    "      events_removed/summary_raw.loc[0, 'event_count']))\n",
    "users_removed = summary_raw.loc[0, 'user_count'] - summary_slice.loc[0, 'user_count']\n",
    "print(\"Убрано пользователей: {0}, {1:.2%}\".format(\n",
    "      users_removed,\n",
    "      users_removed/summary_raw.loc[0, 'user_count']))"
   ]
  },
  {
   "cell_type": "markdown",
   "metadata": {},
   "source": [
    "### Проверка пересечения пользователей в группах"
   ]
  },
  {
   "cell_type": "markdown",
   "metadata": {},
   "source": [
    "Проверим, насколько пересекаются пользователи по группам (это может произойти при ошибках в показе версий приложения по группам пользователей и может исказить результаты A/A/B-тестирования):"
   ]
  },
  {
   "cell_type": "code",
   "execution_count": 17,
   "metadata": {},
   "outputs": [
    {
     "data": {
      "text/html": [
       "<style  type=\"text/css\" >\n",
       "</style><table id=\"T_13060_\" ><caption>Пересечение пользователей в группах</caption><thead>    <tr>        <th class=\"blank level0\" ></th>        <th class=\"col_heading level0 col0\" >exp_id</th>        <th class=\"col_heading level0 col1\" >user_count</th>        <th class=\"col_heading level0 col2\" >event_count</th>        <th class=\"col_heading level0 col3\" >intersected_users</th>    </tr></thead><tbody>\n",
       "                <tr>\n",
       "                        <th id=\"T_13060_level0_row0\" class=\"row_heading level0 row0\" >0</th>\n",
       "                        <td id=\"T_13060_row0_col0\" class=\"data row0 col0\" >A</td>\n",
       "                        <td id=\"T_13060_row0_col1\" class=\"data row0 col1\" >2484</td>\n",
       "                        <td id=\"T_13060_row0_col2\" class=\"data row0 col2\" >79302</td>\n",
       "                        <td id=\"T_13060_row0_col3\" class=\"data row0 col3\" >0</td>\n",
       "            </tr>\n",
       "            <tr>\n",
       "                        <th id=\"T_13060_level0_row1\" class=\"row_heading level0 row1\" >1</th>\n",
       "                        <td id=\"T_13060_row1_col0\" class=\"data row1 col0\" >A1</td>\n",
       "                        <td id=\"T_13060_row1_col1\" class=\"data row1 col1\" >2513</td>\n",
       "                        <td id=\"T_13060_row1_col2\" class=\"data row1 col2\" >77022</td>\n",
       "                        <td id=\"T_13060_row1_col3\" class=\"data row1 col3\" >0</td>\n",
       "            </tr>\n",
       "            <tr>\n",
       "                        <th id=\"T_13060_level0_row2\" class=\"row_heading level0 row2\" >2</th>\n",
       "                        <td id=\"T_13060_row2_col0\" class=\"data row2 col0\" >B</td>\n",
       "                        <td id=\"T_13060_row2_col1\" class=\"data row2 col1\" >2537</td>\n",
       "                        <td id=\"T_13060_row2_col2\" class=\"data row2 col2\" >84563</td>\n",
       "                        <td id=\"T_13060_row2_col3\" class=\"data row2 col3\" >0</td>\n",
       "            </tr>\n",
       "    </tbody></table>"
      ],
      "text/plain": [
       "<pandas.io.formats.style.Styler at 0x276f5c40a60>"
      ]
     },
     "metadata": {},
     "output_type": "display_data"
    }
   ],
   "source": [
    "# группируем датасет по экспериментам и считаем число пользователей и событий\n",
    "intersect_test = data_slice.groupby('exp_id').agg(\n",
    "    user_count = ('user_id', 'nunique'), \n",
    "    event_count = ('event_name', 'count'),\n",
    ").reset_index()\n",
    "intersect_test['intersected_users'] = 0\n",
    "# для кажого эксперимента считаем пересечения пользователей с остальными\n",
    "for group in data_slice.exp_id.unique():\n",
    "    users_group = data_slice[data_slice['exp_id'] == group]['user_id'].drop_duplicates()\n",
    "    users_notgroup = data_slice[~(data_slice['exp_id'] == group)]['user_id'].drop_duplicates()\n",
    "    intersected_users = users_group[users_group.isin(users_notgroup)]\n",
    "    intersect_test.loc[intersect_test['exp_id'] == group, 'intersected_users'] = intersected_users.count()\n",
    "display(\n",
    "    intersect_test.style.set_caption(\"Пересечение пользователей в группах\")\n",
    ")"
   ]
  },
  {
   "cell_type": "markdown",
   "metadata": {},
   "source": [
    "К счастью, *пересекающихся между тестовыми группами пользователей нет*."
   ]
  },
  {
   "cell_type": "markdown",
   "metadata": {},
   "source": [
    "### Проверка аномальной активности пользователей\n"
   ]
  },
  {
   "cell_type": "markdown",
   "metadata": {},
   "source": [
    "Посмотрим распределение числа событий на пользователя по группам экспериментов:"
   ]
  },
  {
   "cell_type": "code",
   "execution_count": 18,
   "metadata": {
    "scrolled": false
   },
   "outputs": [
    {
     "data": {
      "text/html": [
       "<style  type=\"text/css\" >\n",
       "</style><table id=\"T_5cfb1_\" ><caption>Сводная таблица по частотам событий на пользователя</caption><thead>    <tr>        <th class=\"blank level0\" ></th>        <th class=\"col_heading level0 col0\" >count</th>        <th class=\"col_heading level0 col1\" >mean</th>        <th class=\"col_heading level0 col2\" >0%</th>        <th class=\"col_heading level0 col3\" >25%</th>        <th class=\"col_heading level0 col4\" >50%</th>        <th class=\"col_heading level0 col5\" >75%</th>        <th class=\"col_heading level0 col6\" >99%</th>        <th class=\"col_heading level0 col7\" >max</th>    </tr>    <tr>        <th class=\"index_name level0\" >exp_id</th>        <th class=\"blank\" ></th>        <th class=\"blank\" ></th>        <th class=\"blank\" ></th>        <th class=\"blank\" ></th>        <th class=\"blank\" ></th>        <th class=\"blank\" ></th>        <th class=\"blank\" ></th>        <th class=\"blank\" ></th>    </tr></thead><tbody>\n",
       "                <tr>\n",
       "                        <th id=\"T_5cfb1_level0_row0\" class=\"row_heading level0 row0\" >A</th>\n",
       "                        <td id=\"T_5cfb1_row0_col0\" class=\"data row0 col0\" >2489.000000</td>\n",
       "                        <td id=\"T_5cfb1_row0_col1\" class=\"data row0 col1\" >32.214142</td>\n",
       "                        <td id=\"T_5cfb1_row0_col2\" class=\"data row0 col2\" >1.000000</td>\n",
       "                        <td id=\"T_5cfb1_row0_col3\" class=\"data row0 col3\" >9.000000</td>\n",
       "                        <td id=\"T_5cfb1_row0_col4\" class=\"data row0 col4\" >19.000000</td>\n",
       "                        <td id=\"T_5cfb1_row0_col5\" class=\"data row0 col5\" >37.000000</td>\n",
       "                        <td id=\"T_5cfb1_row0_col6\" class=\"data row0 col6\" >208.000000</td>\n",
       "                        <td id=\"T_5cfb1_row0_col7\" class=\"data row0 col7\" >1998.000000</td>\n",
       "            </tr>\n",
       "            <tr>\n",
       "                        <th id=\"T_5cfb1_level0_row1\" class=\"row_heading level0 row1\" >A1</th>\n",
       "                        <td id=\"T_5cfb1_row1_col0\" class=\"data row1 col0\" >2520.000000</td>\n",
       "                        <td id=\"T_5cfb1_row1_col1\" class=\"data row1 col1\" >30.932540</td>\n",
       "                        <td id=\"T_5cfb1_row1_col2\" class=\"data row1 col2\" >1.000000</td>\n",
       "                        <td id=\"T_5cfb1_row1_col3\" class=\"data row1 col3\" >9.000000</td>\n",
       "                        <td id=\"T_5cfb1_row1_col4\" class=\"data row1 col4\" >19.500000</td>\n",
       "                        <td id=\"T_5cfb1_row1_col5\" class=\"data row1 col5\" >37.000000</td>\n",
       "                        <td id=\"T_5cfb1_row1_col6\" class=\"data row1 col6\" >191.000000</td>\n",
       "                        <td id=\"T_5cfb1_row1_col7\" class=\"data row1 col7\" >1768.000000</td>\n",
       "            </tr>\n",
       "            <tr>\n",
       "                        <th id=\"T_5cfb1_level0_row2\" class=\"row_heading level0 row2\" >B</th>\n",
       "                        <td id=\"T_5cfb1_row2_col0\" class=\"data row2 col0\" >2542.000000</td>\n",
       "                        <td id=\"T_5cfb1_row2_col1\" class=\"data row2 col1\" >33.667191</td>\n",
       "                        <td id=\"T_5cfb1_row2_col2\" class=\"data row2 col2\" >1.000000</td>\n",
       "                        <td id=\"T_5cfb1_row2_col3\" class=\"data row2 col3\" >9.000000</td>\n",
       "                        <td id=\"T_5cfb1_row2_col4\" class=\"data row2 col4\" >20.000000</td>\n",
       "                        <td id=\"T_5cfb1_row2_col5\" class=\"data row2 col5\" >38.000000</td>\n",
       "                        <td id=\"T_5cfb1_row2_col6\" class=\"data row2 col6\" >200.950000</td>\n",
       "                        <td id=\"T_5cfb1_row2_col7\" class=\"data row2 col7\" >2307.000000</td>\n",
       "            </tr>\n",
       "    </tbody></table>"
      ],
      "text/plain": [
       "<pandas.io.formats.style.Styler at 0x276f759c040>"
      ]
     },
     "metadata": {},
     "output_type": "display_data"
    },
    {
     "data": {
      "image/png": "[encoded data removed]",
      "text/plain": [
       "<Figure size 1080x360 with 1 Axes>"
      ]
     },
     "metadata": {
      "needs_background": "light"
     },
     "output_type": "display_data"
    }
   ],
   "source": [
    "freq_pivot = data.pivot_table(\n",
    "    index=['user_id','exp_id'],\n",
    "    values='event_name',\n",
    "    aggfunc='count'\n",
    ").reset_index(level='exp_id')\n",
    "# Таблица данных\n",
    "display(\n",
    "    freq_pivot\n",
    "    .groupby(\"exp_id\")['event_name']\n",
    "    .describe(percentiles=[0,0.25,0.5,0.75,0.99,1])[['count', 'mean','0%','25%','50%','75%','99%','max']]\n",
    "    .style.set_caption(\"Сводная таблица по частотам событий на пользователя\")\n",
    ")\n",
    "# boxplot'ы\n",
    "plt.figure(figsize=(15,5))\n",
    "fig = sns.boxplot(data=freq_pivot, y=\"event_name\", x=\"exp_id\")\n",
    "fig.set_title(\"Число событий по дням\")\n",
    "fig.set_ylabel(\"Число событий\")\n",
    "fig.set_xlabel(\"Группа\")\n",
    "plt.show()"
   ]
  },
  {
   "cell_type": "markdown",
   "metadata": {},
   "source": [
    "И по событиям:"
   ]
  },
  {
   "cell_type": "code",
   "execution_count": 19,
   "metadata": {
    "scrolled": false
   },
   "outputs": [
    {
     "data": {
      "text/html": [
       "<style  type=\"text/css\" >\n",
       "</style><table id=\"T_9eecb_\" ><caption>Сводная таблица по частотам событий на пользователя</caption><thead>    <tr>        <th class=\"blank level0\" ></th>        <th class=\"col_heading level0 col0\" >count</th>        <th class=\"col_heading level0 col1\" >mean</th>        <th class=\"col_heading level0 col2\" >0%</th>        <th class=\"col_heading level0 col3\" >25%</th>        <th class=\"col_heading level0 col4\" >50%</th>        <th class=\"col_heading level0 col5\" >75%</th>        <th class=\"col_heading level0 col6\" >99%</th>        <th class=\"col_heading level0 col7\" >max</th>    </tr>    <tr>        <th class=\"index_name level0\" >event_name</th>        <th class=\"blank\" ></th>        <th class=\"blank\" ></th>        <th class=\"blank\" ></th>        <th class=\"blank\" ></th>        <th class=\"blank\" ></th>        <th class=\"blank\" ></th>        <th class=\"blank\" ></th>        <th class=\"blank\" ></th>    </tr></thead><tbody>\n",
       "                <tr>\n",
       "                        <th id=\"T_9eecb_level0_row0\" class=\"row_heading level0 row0\" >CartScreenAppear</th>\n",
       "                        <td id=\"T_9eecb_row0_col0\" class=\"data row0 col0\" >3749.000000</td>\n",
       "                        <td id=\"T_9eecb_row0_col1\" class=\"data row0 col1\" >11.381168</td>\n",
       "                        <td id=\"T_9eecb_row0_col2\" class=\"data row0 col2\" >1.000000</td>\n",
       "                        <td id=\"T_9eecb_row0_col3\" class=\"data row0 col3\" >3.000000</td>\n",
       "                        <td id=\"T_9eecb_row0_col4\" class=\"data row0 col4\" >5.000000</td>\n",
       "                        <td id=\"T_9eecb_row0_col5\" class=\"data row0 col5\" >11.000000</td>\n",
       "                        <td id=\"T_9eecb_row0_col6\" class=\"data row0 col6\" >105.000000</td>\n",
       "                        <td id=\"T_9eecb_row0_col7\" class=\"data row0 col7\" >1100.000000</td>\n",
       "            </tr>\n",
       "            <tr>\n",
       "                        <th id=\"T_9eecb_level0_row1\" class=\"row_heading level0 row1\" >MainScreenAppear</th>\n",
       "                        <td id=\"T_9eecb_row1_col0\" class=\"data row1 col0\" >7439.000000</td>\n",
       "                        <td id=\"T_9eecb_row1_col1\" class=\"data row1 col1\" >16.010351</td>\n",
       "                        <td id=\"T_9eecb_row1_col2\" class=\"data row1 col2\" >1.000000</td>\n",
       "                        <td id=\"T_9eecb_row1_col3\" class=\"data row1 col3\" >6.000000</td>\n",
       "                        <td id=\"T_9eecb_row1_col4\" class=\"data row1 col4\" >11.000000</td>\n",
       "                        <td id=\"T_9eecb_row1_col5\" class=\"data row1 col5\" >21.000000</td>\n",
       "                        <td id=\"T_9eecb_row1_col6\" class=\"data row1 col6\" >82.000000</td>\n",
       "                        <td id=\"T_9eecb_row1_col7\" class=\"data row1 col7\" >206.000000</td>\n",
       "            </tr>\n",
       "            <tr>\n",
       "                        <th id=\"T_9eecb_level0_row2\" class=\"row_heading level0 row2\" >OffersScreenAppear</th>\n",
       "                        <td id=\"T_9eecb_row2_col0\" class=\"data row2 col0\" >4613.000000</td>\n",
       "                        <td id=\"T_9eecb_row2_col1\" class=\"data row2 col1\" >10.146976</td>\n",
       "                        <td id=\"T_9eecb_row2_col2\" class=\"data row2 col2\" >1.000000</td>\n",
       "                        <td id=\"T_9eecb_row2_col3\" class=\"data row2 col3\" >3.000000</td>\n",
       "                        <td id=\"T_9eecb_row2_col4\" class=\"data row2 col4\" >6.000000</td>\n",
       "                        <td id=\"T_9eecb_row2_col5\" class=\"data row2 col5\" >12.000000</td>\n",
       "                        <td id=\"T_9eecb_row2_col6\" class=\"data row2 col6\" >67.880000</td>\n",
       "                        <td id=\"T_9eecb_row2_col7\" class=\"data row2 col7\" >509.000000</td>\n",
       "            </tr>\n",
       "            <tr>\n",
       "                        <th id=\"T_9eecb_level0_row3\" class=\"row_heading level0 row3\" >PaymentScreenSuccessful</th>\n",
       "                        <td id=\"T_9eecb_row3_col0\" class=\"data row3 col0\" >3547.000000</td>\n",
       "                        <td id=\"T_9eecb_row3_col1\" class=\"data row3 col1\" >9.618833</td>\n",
       "                        <td id=\"T_9eecb_row3_col2\" class=\"data row3 col2\" >1.000000</td>\n",
       "                        <td id=\"T_9eecb_row3_col3\" class=\"data row3 col3\" >2.000000</td>\n",
       "                        <td id=\"T_9eecb_row3_col4\" class=\"data row3 col4\" >4.000000</td>\n",
       "                        <td id=\"T_9eecb_row3_col5\" class=\"data row3 col5\" >8.000000</td>\n",
       "                        <td id=\"T_9eecb_row3_col6\" class=\"data row3 col6\" >95.540000</td>\n",
       "                        <td id=\"T_9eecb_row3_col7\" class=\"data row3 col7\" >1085.000000</td>\n",
       "            </tr>\n",
       "            <tr>\n",
       "                        <th id=\"T_9eecb_level0_row4\" class=\"row_heading level0 row4\" >Tutorial</th>\n",
       "                        <td id=\"T_9eecb_row4_col0\" class=\"data row4 col0\" >847.000000</td>\n",
       "                        <td id=\"T_9eecb_row4_col1\" class=\"data row4 col1\" >1.201889</td>\n",
       "                        <td id=\"T_9eecb_row4_col2\" class=\"data row4 col2\" >1.000000</td>\n",
       "                        <td id=\"T_9eecb_row4_col3\" class=\"data row4 col3\" >1.000000</td>\n",
       "                        <td id=\"T_9eecb_row4_col4\" class=\"data row4 col4\" >1.000000</td>\n",
       "                        <td id=\"T_9eecb_row4_col5\" class=\"data row4 col5\" >1.000000</td>\n",
       "                        <td id=\"T_9eecb_row4_col6\" class=\"data row4 col6\" >4.000000</td>\n",
       "                        <td id=\"T_9eecb_row4_col7\" class=\"data row4 col7\" >27.000000</td>\n",
       "            </tr>\n",
       "    </tbody></table>"
      ],
      "text/plain": [
       "<pandas.io.formats.style.Styler at 0x276f6210ee0>"
      ]
     },
     "metadata": {},
     "output_type": "display_data"
    },
    {
     "data": {
      "image/png": "[encoded data removed]",
      "text/plain": [
       "<Figure size 1080x360 with 1 Axes>"
      ]
     },
     "metadata": {
      "needs_background": "light"
     },
     "output_type": "display_data"
    }
   ],
   "source": [
    "freq_pivot = data.pivot_table(\n",
    "    index=['user_id','event_name'],\n",
    "    values='timestamp',\n",
    "    aggfunc='count'\n",
    ").reset_index(level='event_name')\n",
    "# Таблица данных\n",
    "display(\n",
    "    freq_pivot\n",
    "    .groupby(\"event_name\")['timestamp']\n",
    "    .describe(percentiles=[0,0.25,0.5,0.75,0.99,1])[['count', 'mean','0%','25%','50%','75%','99%','max']]\n",
    "    .style.set_caption(\"Сводная таблица по частотам событий на пользователя\")\n",
    ")\n",
    "# boxplot'ы\n",
    "plt.figure(figsize=(15,5))\n",
    "fig = sns.boxplot(data=freq_pivot, y=\"timestamp\", x=\"event_name\")\n",
    "fig.set_title(\"Число событий по дням\")\n",
    "fig.set_ylabel(\"Число событий\")\n",
    "fig.set_xlabel(\"Событие\")\n",
    "plt.show()"
   ]
  },
  {
   "cell_type": "markdown",
   "metadata": {},
   "source": [
    "Встречается незначительное количество (менее 1%) пользователей с большим количеством (более 200) действий. Поскольку нас интересует конверсия, они не должны оказать влияния на эксперимент, однако имеет смысл сообщить о существовании таких аномалий в команду, занимающуюся антифродом."
   ]
  },
  {
   "cell_type": "markdown",
   "metadata": {},
   "source": [
    "### Итоги по проверке данных\n",
    "* В датасете присутствовали данные о событиях из прошлого периода.\n",
    "* После очистки от устаревших данных, в датасете данные с *1 августа 2019 года по 7 августа 2019 года*, *241298* событий для *7534* пользователей (в среднем примерно *32* события на пользователя). \n",
    "* Пропуски в датах отсутствуют для всех групп, как и пропуски типов событий.\n",
    "* Данные присутствуют для всех трех групп\t\n",
    "* Отсутствуют пересечения пользователей между тестовыми группами \n",
    "* Есть незначительное число пользователей с аномальным числом действий"
   ]
  },
  {
   "cell_type": "markdown",
   "metadata": {},
   "source": [
    "## Анализ воронки событий\n",
    "\n",
    "### Число событий в логах\n",
    "Посмотрим, какие события есть в логах и как часто они встречаются:"
   ]
  },
  {
   "cell_type": "code",
   "execution_count": 20,
   "metadata": {},
   "outputs": [
    {
     "data": {
      "text/html": [
       "<style  type=\"text/css\" >\n",
       "#T_7d241_row0_col0,#T_7d241_row0_col1,#T_7d241_row0_col2,#T_7d241_row0_col3{\n",
       "            background-color:  #0000ff;\n",
       "            color:  #f1f1f1;\n",
       "        }#T_7d241_row1_col0,#T_7d241_row1_col1{\n",
       "            background-color:  #9393f8;\n",
       "            color:  #000000;\n",
       "        }#T_7d241_row1_col2,#T_7d241_row1_col3{\n",
       "            background-color:  #6767fa;\n",
       "            color:  #000000;\n",
       "        }#T_7d241_row2_col0,#T_7d241_row2_col1{\n",
       "            background-color:  #9c9cf7;\n",
       "            color:  #000000;\n",
       "        }#T_7d241_row2_col2,#T_7d241_row2_col3{\n",
       "            background-color:  #8787f8;\n",
       "            color:  #000000;\n",
       "        }#T_7d241_row3_col0,#T_7d241_row3_col1{\n",
       "            background-color:  #adadf6;\n",
       "            color:  #000000;\n",
       "        }#T_7d241_row3_col2,#T_7d241_row3_col3{\n",
       "            background-color:  #8d8df8;\n",
       "            color:  #000000;\n",
       "        }#T_7d241_row4_col0,#T_7d241_row4_col1,#T_7d241_row4_col2,#T_7d241_row4_col3{\n",
       "            background-color:  #f0f0f3;\n",
       "            color:  #000000;\n",
       "        }</style><table id=\"T_7d241_\" ><caption>Сводная таблица событий - сортировка по числу событий</caption><thead>    <tr>        <th class=\"blank level0\" ></th>        <th class=\"col_heading level0 col0\" >event_count</th>        <th class=\"col_heading level0 col1\" >event_percentage</th>        <th class=\"col_heading level0 col2\" >unique_users</th>        <th class=\"col_heading level0 col3\" >user_percentage</th>    </tr>    <tr>        <th class=\"index_name level0\" >event_name</th>        <th class=\"blank\" ></th>        <th class=\"blank\" ></th>        <th class=\"blank\" ></th>        <th class=\"blank\" ></th>    </tr></thead><tbody>\n",
       "                <tr>\n",
       "                        <th id=\"T_7d241_level0_row0\" class=\"row_heading level0 row0\" >MainScreenAppear</th>\n",
       "                        <td id=\"T_7d241_row0_col0\" class=\"data row0 col0\" >117328</td>\n",
       "                        <td id=\"T_7d241_row0_col1\" class=\"data row0 col1\" >48.71%</td>\n",
       "                        <td id=\"T_7d241_row0_col2\" class=\"data row0 col2\" >7419</td>\n",
       "                        <td id=\"T_7d241_row0_col3\" class=\"data row0 col3\" >98.47%</td>\n",
       "            </tr>\n",
       "            <tr>\n",
       "                        <th id=\"T_7d241_level0_row1\" class=\"row_heading level0 row1\" >OffersScreenAppear</th>\n",
       "                        <td id=\"T_7d241_row1_col0\" class=\"data row1 col0\" >46333</td>\n",
       "                        <td id=\"T_7d241_row1_col1\" class=\"data row1 col1\" >19.23%</td>\n",
       "                        <td id=\"T_7d241_row1_col2\" class=\"data row1 col2\" >4593</td>\n",
       "                        <td id=\"T_7d241_row1_col3\" class=\"data row1 col3\" >60.96%</td>\n",
       "            </tr>\n",
       "            <tr>\n",
       "                        <th id=\"T_7d241_level0_row2\" class=\"row_heading level0 row2\" >CartScreenAppear</th>\n",
       "                        <td id=\"T_7d241_row2_col0\" class=\"data row2 col0\" >42303</td>\n",
       "                        <td id=\"T_7d241_row2_col1\" class=\"data row2 col1\" >17.56%</td>\n",
       "                        <td id=\"T_7d241_row2_col2\" class=\"data row2 col2\" >3734</td>\n",
       "                        <td id=\"T_7d241_row2_col3\" class=\"data row2 col3\" >49.56%</td>\n",
       "            </tr>\n",
       "            <tr>\n",
       "                        <th id=\"T_7d241_level0_row3\" class=\"row_heading level0 row3\" >PaymentScreenSuccessful</th>\n",
       "                        <td id=\"T_7d241_row3_col0\" class=\"data row3 col0\" >33918</td>\n",
       "                        <td id=\"T_7d241_row3_col1\" class=\"data row3 col1\" >14.08%</td>\n",
       "                        <td id=\"T_7d241_row3_col2\" class=\"data row3 col2\" >3539</td>\n",
       "                        <td id=\"T_7d241_row3_col3\" class=\"data row3 col3\" >46.97%</td>\n",
       "            </tr>\n",
       "            <tr>\n",
       "                        <th id=\"T_7d241_level0_row4\" class=\"row_heading level0 row4\" >Tutorial</th>\n",
       "                        <td id=\"T_7d241_row4_col0\" class=\"data row4 col0\" >1005</td>\n",
       "                        <td id=\"T_7d241_row4_col1\" class=\"data row4 col1\" >0.42%</td>\n",
       "                        <td id=\"T_7d241_row4_col2\" class=\"data row4 col2\" >840</td>\n",
       "                        <td id=\"T_7d241_row4_col3\" class=\"data row4 col3\" >11.15%</td>\n",
       "            </tr>\n",
       "    </tbody></table>"
      ],
      "text/plain": [
       "<pandas.io.formats.style.Styler at 0x276f62cffd0>"
      ]
     },
     "metadata": {},
     "output_type": "display_data"
    }
   ],
   "source": [
    "def event_summary(df):\n",
    "    \"\"\"\n",
    "    Вспомогательная функция для отображения сводной таблицы по событиям\n",
    "    Параметры:\n",
    "        df : датафрейм\n",
    "    Возвращает:\n",
    "        датафрейм со сводной таблицей\n",
    "    \"\"\"\n",
    "    # строим сводную таблицу\n",
    "    event_summary = df.groupby('event_name').agg(\n",
    "        event_count = ('event_name', 'count'),\n",
    "        unique_users = ('user_id', 'nunique'),\n",
    "    )\n",
    "    users_total = df.user_id.nunique()\n",
    "    # добавляем доли показателей\n",
    "    event_summary['event_percentage'] = event_summary['event_count']/event_summary['event_count'].sum()\n",
    "    event_summary['user_percentage'] = event_summary['unique_users']/users_total\n",
    "    event_summary = event_summary[['event_count', 'event_percentage', 'unique_users', 'user_percentage']]\n",
    "    return event_summary\n",
    "\n",
    "# вызываем функцию формирования таблицы, сортируем и отображаем ее\n",
    "event_summary_df = event_summary(data_slice)\n",
    "display(\n",
    "    event_summary_df\n",
    "    .sort_values(by='event_count', ascending=False)\n",
    "    .style.format(\n",
    "        {\n",
    "            'event_percentage': '{:,.2%}'.format,\n",
    "            'user_percentage': '{:,.2%}'.format,\n",
    "        }\n",
    "    )\n",
    "    .set_caption('Сводная таблица событий - сортировка по числу событий')\n",
    "    .background_gradient(cmap=_TABLE_CMAP)\n",
    ")"
   ]
  },
  {
   "cell_type": "code",
   "execution_count": 21,
   "metadata": {},
   "outputs": [
    {
     "data": {
      "text/html": [
       "<style  type=\"text/css\" >\n",
       "#T_97d6b_row0_col0,#T_97d6b_row0_col1,#T_97d6b_row0_col2,#T_97d6b_row0_col3{\n",
       "            background-color:  #0000ff;\n",
       "            color:  #f1f1f1;\n",
       "        }#T_97d6b_row1_col0,#T_97d6b_row1_col1{\n",
       "            background-color:  #9393f8;\n",
       "            color:  #000000;\n",
       "        }#T_97d6b_row1_col2,#T_97d6b_row1_col3{\n",
       "            background-color:  #6767fa;\n",
       "            color:  #000000;\n",
       "        }#T_97d6b_row2_col0,#T_97d6b_row2_col1{\n",
       "            background-color:  #9c9cf7;\n",
       "            color:  #000000;\n",
       "        }#T_97d6b_row2_col2,#T_97d6b_row2_col3{\n",
       "            background-color:  #8787f8;\n",
       "            color:  #000000;\n",
       "        }#T_97d6b_row3_col0,#T_97d6b_row3_col1{\n",
       "            background-color:  #adadf6;\n",
       "            color:  #000000;\n",
       "        }#T_97d6b_row3_col2,#T_97d6b_row3_col3{\n",
       "            background-color:  #8d8df8;\n",
       "            color:  #000000;\n",
       "        }#T_97d6b_row4_col0,#T_97d6b_row4_col1,#T_97d6b_row4_col2,#T_97d6b_row4_col3{\n",
       "            background-color:  #f0f0f3;\n",
       "            color:  #000000;\n",
       "        }</style><table id=\"T_97d6b_\" ><caption>Сводная таблица событий - сортировка по уникальным пользователям</caption><thead>    <tr>        <th class=\"blank level0\" ></th>        <th class=\"col_heading level0 col0\" >event_count</th>        <th class=\"col_heading level0 col1\" >event_percentage</th>        <th class=\"col_heading level0 col2\" >unique_users</th>        <th class=\"col_heading level0 col3\" >user_percentage</th>    </tr>    <tr>        <th class=\"index_name level0\" >event_name</th>        <th class=\"blank\" ></th>        <th class=\"blank\" ></th>        <th class=\"blank\" ></th>        <th class=\"blank\" ></th>    </tr></thead><tbody>\n",
       "                <tr>\n",
       "                        <th id=\"T_97d6b_level0_row0\" class=\"row_heading level0 row0\" >MainScreenAppear</th>\n",
       "                        <td id=\"T_97d6b_row0_col0\" class=\"data row0 col0\" >117328</td>\n",
       "                        <td id=\"T_97d6b_row0_col1\" class=\"data row0 col1\" >48.71%</td>\n",
       "                        <td id=\"T_97d6b_row0_col2\" class=\"data row0 col2\" >7419</td>\n",
       "                        <td id=\"T_97d6b_row0_col3\" class=\"data row0 col3\" >98.47%</td>\n",
       "            </tr>\n",
       "            <tr>\n",
       "                        <th id=\"T_97d6b_level0_row1\" class=\"row_heading level0 row1\" >OffersScreenAppear</th>\n",
       "                        <td id=\"T_97d6b_row1_col0\" class=\"data row1 col0\" >46333</td>\n",
       "                        <td id=\"T_97d6b_row1_col1\" class=\"data row1 col1\" >19.23%</td>\n",
       "                        <td id=\"T_97d6b_row1_col2\" class=\"data row1 col2\" >4593</td>\n",
       "                        <td id=\"T_97d6b_row1_col3\" class=\"data row1 col3\" >60.96%</td>\n",
       "            </tr>\n",
       "            <tr>\n",
       "                        <th id=\"T_97d6b_level0_row2\" class=\"row_heading level0 row2\" >CartScreenAppear</th>\n",
       "                        <td id=\"T_97d6b_row2_col0\" class=\"data row2 col0\" >42303</td>\n",
       "                        <td id=\"T_97d6b_row2_col1\" class=\"data row2 col1\" >17.56%</td>\n",
       "                        <td id=\"T_97d6b_row2_col2\" class=\"data row2 col2\" >3734</td>\n",
       "                        <td id=\"T_97d6b_row2_col3\" class=\"data row2 col3\" >49.56%</td>\n",
       "            </tr>\n",
       "            <tr>\n",
       "                        <th id=\"T_97d6b_level0_row3\" class=\"row_heading level0 row3\" >PaymentScreenSuccessful</th>\n",
       "                        <td id=\"T_97d6b_row3_col0\" class=\"data row3 col0\" >33918</td>\n",
       "                        <td id=\"T_97d6b_row3_col1\" class=\"data row3 col1\" >14.08%</td>\n",
       "                        <td id=\"T_97d6b_row3_col2\" class=\"data row3 col2\" >3539</td>\n",
       "                        <td id=\"T_97d6b_row3_col3\" class=\"data row3 col3\" >46.97%</td>\n",
       "            </tr>\n",
       "            <tr>\n",
       "                        <th id=\"T_97d6b_level0_row4\" class=\"row_heading level0 row4\" >Tutorial</th>\n",
       "                        <td id=\"T_97d6b_row4_col0\" class=\"data row4 col0\" >1005</td>\n",
       "                        <td id=\"T_97d6b_row4_col1\" class=\"data row4 col1\" >0.42%</td>\n",
       "                        <td id=\"T_97d6b_row4_col2\" class=\"data row4 col2\" >840</td>\n",
       "                        <td id=\"T_97d6b_row4_col3\" class=\"data row4 col3\" >11.15%</td>\n",
       "            </tr>\n",
       "    </tbody></table>"
      ],
      "text/plain": [
       "<pandas.io.formats.style.Styler at 0x276f62cfc10>"
      ]
     },
     "metadata": {},
     "output_type": "display_data"
    }
   ],
   "source": [
    "display(\n",
    "    event_summary_df\n",
    "    .sort_values(by='unique_users', ascending=False)\n",
    "    .style.format(\n",
    "        {\n",
    "            'event_percentage': '{:,.2%}'.format,\n",
    "            'user_percentage': '{:,.2%}'.format,\n",
    "        }\n",
    "    )\n",
    "    .set_caption('Сводная таблица событий - сортировка по уникальным пользователям')\n",
    "    .background_gradient(cmap=_TABLE_CMAP)\n",
    ")"
   ]
  },
  {
   "cell_type": "code",
   "execution_count": 22,
   "metadata": {},
   "outputs": [
    {
     "data": {
      "text/html": [
       "<style  type=\"text/css\" >\n",
       "</style><table id=\"T_29528_\" ><caption>Сводная таблица событий пользователей, не видевших основной экран</caption><thead>    <tr>        <th class=\"blank level0\" ></th>        <th class=\"col_heading level0 col0\" >event_count</th>        <th class=\"col_heading level0 col1\" >event_percentage</th>        <th class=\"col_heading level0 col2\" >unique_users</th>        <th class=\"col_heading level0 col3\" >user_percentage</th>    </tr>    <tr>        <th class=\"index_name level0\" >event_name</th>        <th class=\"blank\" ></th>        <th class=\"blank\" ></th>        <th class=\"blank\" ></th>        <th class=\"blank\" ></th>    </tr></thead><tbody>\n",
       "                <tr>\n",
       "                        <th id=\"T_29528_level0_row0\" class=\"row_heading level0 row0\" >OffersScreenAppear</th>\n",
       "                        <td id=\"T_29528_row0_col0\" class=\"data row0 col0\" >948</td>\n",
       "                        <td id=\"T_29528_row0_col1\" class=\"data row0 col1\" >36.31%</td>\n",
       "                        <td id=\"T_29528_row0_col2\" class=\"data row0 col2\" >111</td>\n",
       "                        <td id=\"T_29528_row0_col3\" class=\"data row0 col3\" >96.52%</td>\n",
       "            </tr>\n",
       "            <tr>\n",
       "                        <th id=\"T_29528_level0_row1\" class=\"row_heading level0 row1\" >CartScreenAppear</th>\n",
       "                        <td id=\"T_29528_row1_col0\" class=\"data row1 col0\" >909</td>\n",
       "                        <td id=\"T_29528_row1_col1\" class=\"data row1 col1\" >34.81%</td>\n",
       "                        <td id=\"T_29528_row1_col2\" class=\"data row1 col2\" >99</td>\n",
       "                        <td id=\"T_29528_row1_col3\" class=\"data row1 col3\" >86.09%</td>\n",
       "            </tr>\n",
       "            <tr>\n",
       "                        <th id=\"T_29528_level0_row2\" class=\"row_heading level0 row2\" >PaymentScreenSuccessful</th>\n",
       "                        <td id=\"T_29528_row2_col0\" class=\"data row2 col0\" >747</td>\n",
       "                        <td id=\"T_29528_row2_col1\" class=\"data row2 col1\" >28.61%</td>\n",
       "                        <td id=\"T_29528_row2_col2\" class=\"data row2 col2\" >98</td>\n",
       "                        <td id=\"T_29528_row2_col3\" class=\"data row2 col3\" >85.22%</td>\n",
       "            </tr>\n",
       "            <tr>\n",
       "                        <th id=\"T_29528_level0_row3\" class=\"row_heading level0 row3\" >Tutorial</th>\n",
       "                        <td id=\"T_29528_row3_col0\" class=\"data row3 col0\" >7</td>\n",
       "                        <td id=\"T_29528_row3_col1\" class=\"data row3 col1\" >0.27%</td>\n",
       "                        <td id=\"T_29528_row3_col2\" class=\"data row3 col2\" >4</td>\n",
       "                        <td id=\"T_29528_row3_col3\" class=\"data row3 col3\" >3.48%</td>\n",
       "            </tr>\n",
       "    </tbody></table>"
      ],
      "text/plain": [
       "<pandas.io.formats.style.Styler at 0x276f62cd0d0>"
      ]
     },
     "metadata": {},
     "output_type": "display_data"
    }
   ],
   "source": [
    "# отбираем пользователей, не видевших основной экран приложения\n",
    "mainscreen_users = data_slice[data_slice.event_name=='MainScreenAppear'].user_id.unique()\n",
    "#data_slice[~data_slice.user_id.isin(no_mainscreen_users)].event_name.value_counts()\n",
    "# строим и отображаем сводную таблицу по их действиям\n",
    "event_nms_summary = event_summary(data_slice[~data_slice['user_id'].isin(mainscreen_users)].copy())\n",
    "display(\n",
    "    event_nms_summary\n",
    "    .sort_values(by='event_count', ascending=False)\n",
    "    .style.format(\n",
    "        {\n",
    "            'event_percentage': '{:,.2%}'.format,\n",
    "            'user_percentage': '{:,.2%}'.format,\n",
    "        }\n",
    "    )\n",
    "    .set_caption('Сводная таблица событий пользователей, не видевших основной экран')\n",
    ")"
   ]
  },
  {
   "cell_type": "markdown",
   "metadata": {},
   "source": [
    "Действительно, пользователей с окном предлолжений почти 100% (и ровно 100%, если добавить пользователей, переходивших на экран обучения). Также можно отметить, что конверсия таких пользователей в успешную покупку составляет 85.22% против 46.97% у всех пользователей."
   ]
  },
  {
   "cell_type": "markdown",
   "metadata": {},
   "source": [
    "### Порядок событий\n",
    "По названию событий и долям пользователей можно предположить порядок событий:\n",
    "\n",
    "*MainScreenAppear* (Отображение основного экрана) -> *OffersScreenAppear* (Отображение экрана предложений) -> *CartScreenAppear* (Отображение экрана с корзиной) -> *PaymentScreenSuccessful* (Уведомление об успешной оплате).\n",
    "\n",
    "*Tutorial* - отображение обучения и пользователь может перейти на него в любой момент. Поэтому его не имеет смысла учитывать в рассмотрении воронки (Однако мы рассмотрим проценты перехода на этот экран позднее)."
   ]
  },
  {
   "cell_type": "markdown",
   "metadata": {},
   "source": [
    "### Воронки событий\n",
    "\n",
    "Посмотрим воронки событий, расчитав доли переходов пользователями между событиями в соответствии с указанным ранее порядком (*MainScreenAppear* -> *OffersScreenAppear* -> *CartScreenAppear* -> *PaymentScreenSuccessful*):"
   ]
  },
  {
   "cell_type": "code",
   "execution_count": 23,
   "metadata": {},
   "outputs": [
    {
     "data": {
      "text/html": [
       "<style  type=\"text/css\" >\n",
       "</style><table id=\"T_56add_\" ><caption>Переходы между событиями - доля пользователей</caption><thead>    <tr>        <th class=\"blank level0\" ></th>        <th class=\"col_heading level0 col0\" >общее</th>        <th class=\"col_heading level0 col1\" >группа A</th>        <th class=\"col_heading level0 col2\" >группа A1</th>        <th class=\"col_heading level0 col3\" >группа B</th>    </tr></thead><tbody>\n",
       "                <tr>\n",
       "                        <th id=\"T_56add_level0_row0\" class=\"row_heading level0 row0\" >MainScreenAppear</th>\n",
       "                        <td id=\"T_56add_row0_col0\" class=\"data row0 col0\" >100.00%</td>\n",
       "                        <td id=\"T_56add_row0_col1\" class=\"data row0 col1\" >100.00%</td>\n",
       "                        <td id=\"T_56add_row0_col2\" class=\"data row0 col2\" >100.00%</td>\n",
       "                        <td id=\"T_56add_row0_col3\" class=\"data row0 col3\" >100.00%</td>\n",
       "            </tr>\n",
       "            <tr>\n",
       "                        <th id=\"T_56add_level0_row1\" class=\"row_heading level0 row1\" >OffersScreenAppear</th>\n",
       "                        <td id=\"T_56add_row1_col0\" class=\"data row1 col0\" >61.91%</td>\n",
       "                        <td id=\"T_56add_row1_col1\" class=\"data row1 col1\" >62.94%</td>\n",
       "                        <td id=\"T_56add_row1_col2\" class=\"data row1 col2\" >61.39%</td>\n",
       "                        <td id=\"T_56add_row1_col3\" class=\"data row1 col3\" >61.41%</td>\n",
       "            </tr>\n",
       "            <tr>\n",
       "                        <th id=\"T_56add_level0_row2\" class=\"row_heading level0 row2\" >CartScreenAppear</th>\n",
       "                        <td id=\"T_56add_row2_col0\" class=\"data row2 col0\" >81.30%</td>\n",
       "                        <td id=\"T_56add_row2_col1\" class=\"data row2 col1\" >82.10%</td>\n",
       "                        <td id=\"T_56add_row2_col2\" class=\"data row2 col2\" >81.45%</td>\n",
       "                        <td id=\"T_56add_row2_col3\" class=\"data row2 col3\" >80.34%</td>\n",
       "            </tr>\n",
       "            <tr>\n",
       "                        <th id=\"T_56add_level0_row3\" class=\"row_heading level0 row3\" >PaymentScreenSuccessful</th>\n",
       "                        <td id=\"T_56add_row3_col0\" class=\"data row3 col0\" >94.78%</td>\n",
       "                        <td id=\"T_56add_row3_col1\" class=\"data row3 col1\" >94.79%</td>\n",
       "                        <td id=\"T_56add_row3_col2\" class=\"data row3 col2\" >93.54%</td>\n",
       "                        <td id=\"T_56add_row3_col3\" class=\"data row3 col3\" >96.02%</td>\n",
       "            </tr>\n",
       "    </tbody></table>"
      ],
      "text/plain": [
       "<pandas.io.formats.style.Styler at 0x276f635fb50>"
      ]
     },
     "metadata": {},
     "output_type": "display_data"
    },
    {
     "data": {
      "text/html": [
       "<style  type=\"text/css\" >\n",
       "</style><table id=\"T_463a5_\" ><caption>Доля пользователей относительно первого события</caption><thead>    <tr>        <th class=\"blank level0\" ></th>        <th class=\"col_heading level0 col0\" >общее</th>        <th class=\"col_heading level0 col1\" >группа A</th>        <th class=\"col_heading level0 col2\" >группа A1</th>        <th class=\"col_heading level0 col3\" >группа B</th>    </tr></thead><tbody>\n",
       "                <tr>\n",
       "                        <th id=\"T_463a5_level0_row0\" class=\"row_heading level0 row0\" >MainScreenAppear</th>\n",
       "                        <td id=\"T_463a5_row0_col0\" class=\"data row0 col0\" >100.00%</td>\n",
       "                        <td id=\"T_463a5_row0_col1\" class=\"data row0 col1\" >100.00%</td>\n",
       "                        <td id=\"T_463a5_row0_col2\" class=\"data row0 col2\" >100.00%</td>\n",
       "                        <td id=\"T_463a5_row0_col3\" class=\"data row0 col3\" >100.00%</td>\n",
       "            </tr>\n",
       "            <tr>\n",
       "                        <th id=\"T_463a5_level0_row1\" class=\"row_heading level0 row1\" >OffersScreenAppear</th>\n",
       "                        <td id=\"T_463a5_row1_col0\" class=\"data row1 col0\" >61.91%</td>\n",
       "                        <td id=\"T_463a5_row1_col1\" class=\"data row1 col1\" >62.94%</td>\n",
       "                        <td id=\"T_463a5_row1_col2\" class=\"data row1 col2\" >61.39%</td>\n",
       "                        <td id=\"T_463a5_row1_col3\" class=\"data row1 col3\" >61.41%</td>\n",
       "            </tr>\n",
       "            <tr>\n",
       "                        <th id=\"T_463a5_level0_row2\" class=\"row_heading level0 row2\" >CartScreenAppear</th>\n",
       "                        <td id=\"T_463a5_row2_col0\" class=\"data row2 col0\" >50.33%</td>\n",
       "                        <td id=\"T_463a5_row2_col1\" class=\"data row2 col1\" >51.67%</td>\n",
       "                        <td id=\"T_463a5_row2_col2\" class=\"data row2 col2\" >50.00%</td>\n",
       "                        <td id=\"T_463a5_row2_col3\" class=\"data row2 col3\" >49.34%</td>\n",
       "            </tr>\n",
       "            <tr>\n",
       "                        <th id=\"T_463a5_level0_row3\" class=\"row_heading level0 row3\" >PaymentScreenSuccessful</th>\n",
       "                        <td id=\"T_463a5_row3_col0\" class=\"data row3 col0\" >47.70%</td>\n",
       "                        <td id=\"T_463a5_row3_col1\" class=\"data row3 col1\" >48.98%</td>\n",
       "                        <td id=\"T_463a5_row3_col2\" class=\"data row3 col2\" >46.77%</td>\n",
       "                        <td id=\"T_463a5_row3_col3\" class=\"data row3 col3\" >47.37%</td>\n",
       "            </tr>\n",
       "    </tbody></table>"
      ],
      "text/plain": [
       "<pandas.io.formats.style.Styler at 0x276f621af70>"
      ]
     },
     "metadata": {},
     "output_type": "display_data"
    },
    {
     "data": {
      "text/html": [
       "<style  type=\"text/css\" >\n",
       "#T_f095b_row0_col0,#T_f095b_row0_col1,#T_f095b_row0_col2,#T_f095b_row0_col3{\n",
       "            background-color:  #0000ff;\n",
       "            color:  #f1f1f1;\n",
       "        }#T_f095b_row1_col0{\n",
       "            background-color:  #afaff6;\n",
       "            color:  #000000;\n",
       "        }#T_f095b_row1_col1,#T_f095b_row1_col2{\n",
       "            background-color:  #aeaef6;\n",
       "            color:  #000000;\n",
       "        }#T_f095b_row1_col3{\n",
       "            background-color:  #b0b0f6;\n",
       "            color:  #000000;\n",
       "        }#T_f095b_row2_col0{\n",
       "            background-color:  #e5e5f3;\n",
       "            color:  #000000;\n",
       "        }#T_f095b_row2_col1{\n",
       "            background-color:  #e4e4f3;\n",
       "            color:  #000000;\n",
       "        }#T_f095b_row2_col2{\n",
       "            background-color:  #e2e2f3;\n",
       "            color:  #000000;\n",
       "        }#T_f095b_row2_col3{\n",
       "            background-color:  #e8e8f3;\n",
       "            color:  #000000;\n",
       "        }#T_f095b_row3_col0,#T_f095b_row3_col1,#T_f095b_row3_col2,#T_f095b_row3_col3{\n",
       "            background-color:  #f0f0f3;\n",
       "            color:  #000000;\n",
       "        }</style><table id=\"T_f095b_\" ><caption>Число пользователей в событии</caption><thead>    <tr>        <th class=\"blank level0\" ></th>        <th class=\"col_heading level0 col0\" >общее</th>        <th class=\"col_heading level0 col1\" >группа A</th>        <th class=\"col_heading level0 col2\" >группа A1</th>        <th class=\"col_heading level0 col3\" >группа B</th>    </tr></thead><tbody>\n",
       "                <tr>\n",
       "                        <th id=\"T_f095b_level0_row0\" class=\"row_heading level0 row0\" >MainScreenAppear</th>\n",
       "                        <td id=\"T_f095b_row0_col0\" class=\"data row0 col0\" >7419</td>\n",
       "                        <td id=\"T_f095b_row0_col1\" class=\"data row0 col1\" >2450</td>\n",
       "                        <td id=\"T_f095b_row0_col2\" class=\"data row0 col2\" >2476</td>\n",
       "                        <td id=\"T_f095b_row0_col3\" class=\"data row0 col3\" >2493</td>\n",
       "            </tr>\n",
       "            <tr>\n",
       "                        <th id=\"T_f095b_level0_row1\" class=\"row_heading level0 row1\" >OffersScreenAppear</th>\n",
       "                        <td id=\"T_f095b_row1_col0\" class=\"data row1 col0\" >4593</td>\n",
       "                        <td id=\"T_f095b_row1_col1\" class=\"data row1 col1\" >1542</td>\n",
       "                        <td id=\"T_f095b_row1_col2\" class=\"data row1 col2\" >1520</td>\n",
       "                        <td id=\"T_f095b_row1_col3\" class=\"data row1 col3\" >1531</td>\n",
       "            </tr>\n",
       "            <tr>\n",
       "                        <th id=\"T_f095b_level0_row2\" class=\"row_heading level0 row2\" >CartScreenAppear</th>\n",
       "                        <td id=\"T_f095b_row2_col0\" class=\"data row2 col0\" >3734</td>\n",
       "                        <td id=\"T_f095b_row2_col1\" class=\"data row2 col1\" >1266</td>\n",
       "                        <td id=\"T_f095b_row2_col2\" class=\"data row2 col2\" >1238</td>\n",
       "                        <td id=\"T_f095b_row2_col3\" class=\"data row2 col3\" >1230</td>\n",
       "            </tr>\n",
       "            <tr>\n",
       "                        <th id=\"T_f095b_level0_row3\" class=\"row_heading level0 row3\" >PaymentScreenSuccessful</th>\n",
       "                        <td id=\"T_f095b_row3_col0\" class=\"data row3 col0\" >3539</td>\n",
       "                        <td id=\"T_f095b_row3_col1\" class=\"data row3 col1\" >1200</td>\n",
       "                        <td id=\"T_f095b_row3_col2\" class=\"data row3 col2\" >1158</td>\n",
       "                        <td id=\"T_f095b_row3_col3\" class=\"data row3 col3\" >1181</td>\n",
       "            </tr>\n",
       "    </tbody></table>"
      ],
      "text/plain": [
       "<pandas.io.formats.style.Styler at 0x276f634b6a0>"
      ]
     },
     "metadata": {},
     "output_type": "display_data"
    },
    {
     "data": {
      "text/html": [
       "<style  type=\"text/css\" >\n",
       "#T_cbce6_row0_col0,#T_cbce6_row0_col1,#T_cbce6_row0_col2,#T_cbce6_row0_col3{\n",
       "            background-color:  #f0f0f3;\n",
       "            color:  #000000;\n",
       "        }#T_cbce6_row1_col0,#T_cbce6_row1_col1,#T_cbce6_row1_col2,#T_cbce6_row1_col3{\n",
       "            background-color:  #0000ff;\n",
       "            color:  #f1f1f1;\n",
       "        }#T_cbce6_row2_col0,#T_cbce6_row2_col1{\n",
       "            background-color:  #a8a8f6;\n",
       "            color:  #000000;\n",
       "        }#T_cbce6_row2_col2{\n",
       "            background-color:  #aaaaf6;\n",
       "            color:  #000000;\n",
       "        }#T_cbce6_row2_col3{\n",
       "            background-color:  #a5a5f7;\n",
       "            color:  #000000;\n",
       "        }#T_cbce6_row3_col0{\n",
       "            background-color:  #e0e0f4;\n",
       "            color:  #000000;\n",
       "        }#T_cbce6_row3_col1{\n",
       "            background-color:  #dfdff4;\n",
       "            color:  #000000;\n",
       "        }#T_cbce6_row3_col2{\n",
       "            background-color:  #ddddf4;\n",
       "            color:  #000000;\n",
       "        }#T_cbce6_row3_col3{\n",
       "            background-color:  #e4e4f3;\n",
       "            color:  #000000;\n",
       "        }</style><table id=\"T_cbce6_\" ><caption>Переходы между событиями - потерянные пользователи</caption><thead>    <tr>        <th class=\"blank level0\" ></th>        <th class=\"col_heading level0 col0\" >общее</th>        <th class=\"col_heading level0 col1\" >группа A</th>        <th class=\"col_heading level0 col2\" >группа A1</th>        <th class=\"col_heading level0 col3\" >группа B</th>    </tr></thead><tbody>\n",
       "                <tr>\n",
       "                        <th id=\"T_cbce6_level0_row0\" class=\"row_heading level0 row0\" >MainScreenAppear</th>\n",
       "                        <td id=\"T_cbce6_row0_col0\" class=\"data row0 col0\" >0</td>\n",
       "                        <td id=\"T_cbce6_row0_col1\" class=\"data row0 col1\" >0</td>\n",
       "                        <td id=\"T_cbce6_row0_col2\" class=\"data row0 col2\" >0</td>\n",
       "                        <td id=\"T_cbce6_row0_col3\" class=\"data row0 col3\" >0</td>\n",
       "            </tr>\n",
       "            <tr>\n",
       "                        <th id=\"T_cbce6_level0_row1\" class=\"row_heading level0 row1\" >OffersScreenAppear</th>\n",
       "                        <td id=\"T_cbce6_row1_col0\" class=\"data row1 col0\" >2826</td>\n",
       "                        <td id=\"T_cbce6_row1_col1\" class=\"data row1 col1\" >908</td>\n",
       "                        <td id=\"T_cbce6_row1_col2\" class=\"data row1 col2\" >956</td>\n",
       "                        <td id=\"T_cbce6_row1_col3\" class=\"data row1 col3\" >962</td>\n",
       "            </tr>\n",
       "            <tr>\n",
       "                        <th id=\"T_cbce6_level0_row2\" class=\"row_heading level0 row2\" >CartScreenAppear</th>\n",
       "                        <td id=\"T_cbce6_row2_col0\" class=\"data row2 col0\" >859</td>\n",
       "                        <td id=\"T_cbce6_row2_col1\" class=\"data row2 col1\" >276</td>\n",
       "                        <td id=\"T_cbce6_row2_col2\" class=\"data row2 col2\" >282</td>\n",
       "                        <td id=\"T_cbce6_row2_col3\" class=\"data row2 col3\" >301</td>\n",
       "            </tr>\n",
       "            <tr>\n",
       "                        <th id=\"T_cbce6_level0_row3\" class=\"row_heading level0 row3\" >PaymentScreenSuccessful</th>\n",
       "                        <td id=\"T_cbce6_row3_col0\" class=\"data row3 col0\" >195</td>\n",
       "                        <td id=\"T_cbce6_row3_col1\" class=\"data row3 col1\" >66</td>\n",
       "                        <td id=\"T_cbce6_row3_col2\" class=\"data row3 col2\" >80</td>\n",
       "                        <td id=\"T_cbce6_row3_col3\" class=\"data row3 col3\" >49</td>\n",
       "            </tr>\n",
       "    </tbody></table>"
      ],
      "text/plain": [
       "<pandas.io.formats.style.Styler at 0x276f634b220>"
      ]
     },
     "metadata": {},
     "output_type": "display_data"
    },
    {
     "data": {
      "image/png": "[encoded data removed]",
      "text/plain": [
       "<Figure size 1080x720 with 4 Axes>"
      ]
     },
     "metadata": {
      "needs_background": "light"
     },
     "output_type": "display_data"
    }
   ],
   "source": [
    "# списки с событиями воронки и опциональными событиями для определения порядка вычислений\n",
    "funnel_events = ['MainScreenAppear', 'OffersScreenAppear', 'CartScreenAppear', 'PaymentScreenSuccessful']\n",
    "optional_events = ['Tutorial']\n",
    "\n",
    "# Посчитаем переходы как для общих данных, так и для каждой группы\n",
    "def event_funnel(df,\n",
    "                 include_optional = False):\n",
    "    \"\"\"\n",
    "    Вспомогательная функция для вычисления Series переходов\n",
    "    Параметры:\n",
    "        df : датафрейм с данными\n",
    "        include_tutorial : влючать ли окно с обучением (для него процент переходов\n",
    "            считается относительно главного экрана), по умолчанию False\n",
    "    Возвращает:\n",
    "        tuple из Series с данными переходов между событиями\n",
    "    \"\"\"\n",
    "    # строим таблицу переходов\n",
    "    # создаем пустую строку\n",
    "    \n",
    "    usercount_dict = {}\n",
    "    userloss_dict = {}\n",
    "    ratio_dict = {}\n",
    "    first_ratio_dict = {}\n",
    "    conversion_dict = {}\n",
    "    \n",
    "    # данные по числу пользователей на каждом шаге воронки\n",
    "    for event in funnel_events:\n",
    "        usercount_dict[event] = df[df['event_name'] == event].user_id.nunique()         \n",
    "    if include_optional:\n",
    "        for event in optional_events:\n",
    "            usercount_dict[event] = df[df['event_name'] == event].user_id.nunique()  \n",
    "    funnel_usercount = pd.Series(usercount_dict)\n",
    "    \n",
    "    # данные по потерянным на шаге воронки пользователям\n",
    "    userloss_dict[funnel_events[0]] = 0\n",
    "    for event_index in range(1, len(funnel_events)):\n",
    "        userloss_dict[funnel_events[event_index]] = (           \n",
    "            df[df['event_name'] == funnel_events[event_index-1]].user_id.nunique()\n",
    "            - df[df['event_name'] == funnel_events[event_index]].user_id.nunique()\n",
    "        )\n",
    "                   \n",
    "    if include_optional:\n",
    "        for event in optional_events:\n",
    "            userloss_dict[event] = (           \n",
    "            df[df['event_name'] == funnel_events[0]].user_id.nunique()\n",
    "            - df[df['event_name'] == event].user_id.nunique()\n",
    "        )\n",
    "            \n",
    "    funnel_userloss = pd.Series(userloss_dict)\n",
    "    \n",
    "    # данные по долям переходов между событиями\n",
    "    ratio_dict[funnel_events[0]] = 1\n",
    "    for event_index in range(1, len(funnel_events)):\n",
    "        ratio_dict[funnel_events[event_index]] = (           \n",
    "            df[df['event_name'] == funnel_events[event_index]].user_id.nunique()\n",
    "            / df[df['event_name'] == funnel_events[event_index-1]].user_id.nunique()\n",
    "        )\n",
    "                   \n",
    "    if include_optional:\n",
    "        for event in optional_events:\n",
    "            ratio_dict[event] = (           \n",
    "            df[df['event_name'] == event].user_id.nunique()\n",
    "            / df[df['event_name'] == funnel_events[0]].user_id.nunique()\n",
    "        )\n",
    "            \n",
    "    funnel_ratio = pd.Series(ratio_dict)\n",
    "    \n",
    "    # доли переходов относительно первого события\n",
    "    \n",
    "    first_ratio_dict[funnel_events[0]] = 1\n",
    "    for event_index in range(1, len(funnel_events)):\n",
    "        first_ratio_dict[funnel_events[event_index]] = (           \n",
    "            df[df['event_name'] == funnel_events[event_index]].user_id.nunique()\n",
    "            / df[df['event_name'] == funnel_events[0]].user_id.nunique()\n",
    "        )\n",
    "                   \n",
    "    if include_optional:\n",
    "        for event in optional_events:\n",
    "            first_ratio_dict[event] = (           \n",
    "            df[df['event_name'] == event].user_id.nunique()\n",
    "            / df[df['event_name'] == funnel_events[0]].user_id.nunique()\n",
    "        )\n",
    "    \n",
    "    funnel_first_ratio = pd.Series(first_ratio_dict)\n",
    "    \n",
    "    # конверсии (относительно числа уникальных пользователей в группе)\n",
    "    \n",
    "    for event in funnel_events:\n",
    "        conversion_dict[event] = (\n",
    "            df[df['event_name'] == event].user_id.nunique()\n",
    "            / df.user_id.nunique()\n",
    "        )\n",
    "    if include_optional:\n",
    "        for event in optional_events:\n",
    "            conversion_dict[event] = (\n",
    "                df[df['event_name'] == event].user_id.nunique()\n",
    "                / df.user_id.nunique()\n",
    "            )\n",
    "    conversion_dict = pd.Series(usercount_dict)\n",
    "            \n",
    "    funnel_conversion = pd.Series(conversion_dict)\n",
    "    \n",
    "    return (\n",
    "        funnel_ratio, # данные по долям переходов между событиями\n",
    "        funnel_userloss, # данные по потерянным на шаге воронки пользователям\n",
    "        funnel_first_ratio, # доли переходов относительно первого события\n",
    "        funnel_usercount, # данные по числу пользователей на каждом шаге воронки\n",
    "        funnel_conversion, # конверсии (относительно числа уникальных пользователей в группе)\n",
    "\n",
    "    )\n",
    "\n",
    "# вызываем функцию формирования таблицы, сортируем и отображаем ее\n",
    "funnel_total = event_funnel(data_slice, include_optional = False)\n",
    "funnel_ratio = pd.DataFrame({'общее' : funnel_total[0]})\n",
    "funnel_userloss = pd.DataFrame({'общее' : funnel_total[1]})\n",
    "funnel_first_ratio = pd.DataFrame({'общее' : funnel_total[2]})\n",
    "funnel_usercount = pd.DataFrame({'общее' : funnel_total[3]})\n",
    "funnel_conversion = pd.DataFrame({'общее' : funnel_total[4]})\n",
    "\n",
    "# для каждого эксперимента считаем данные по переходам\n",
    "for group in data_slice.exp_id.unique():\n",
    "    group_funnel = event_funnel(data_slice[data_slice.exp_id == group], include_optional = False)\n",
    "    funnel_ratio[f\"группа {group}\"] = group_funnel[0]\n",
    "    funnel_userloss[f\"группа {group}\"] = group_funnel[1]\n",
    "    funnel_first_ratio[f\"группа {group}\"] = group_funnel[2]\n",
    "    funnel_usercount[f\"группа {group}\"] = group_funnel[3]\n",
    "    funnel_conversion[f\"группа {group}\"] = group_funnel[4]\n",
    "\n",
    "display(funnel_ratio.style.format('{:,.2%}'.format)\n",
    "    .set_caption('Переходы между событиями - доля пользователей'))\n",
    "display(funnel_first_ratio.style.format('{:,.2%}'.format)\n",
    "    .set_caption('Доля пользователей относительно первого события'))\n",
    "display(funnel_usercount.style\n",
    "       .set_caption('Число пользователей в событии')\n",
    "       .background_gradient(cmap=_TABLE_CMAP))\n",
    "display(funnel_userloss.style\n",
    "       .set_caption('Переходы между событиями - потерянные пользователи')\n",
    "       .background_gradient(cmap=_TABLE_CMAP))\n",
    "\n",
    "\n",
    "# и строим графики воронок\n",
    "\n",
    "# общий график\n",
    "fig = plt.figure(figsize=(15,10), constrained_layout=True)\n",
    "gs = fig.add_gridspec(3, 3)\n",
    "ax1 = fig.add_subplot(gs[0, :])\n",
    "sns.barplot(x=\"общее\",\n",
    "            y=funnel_ratio.index,\n",
    "            data=funnel_ratio,\n",
    "            ax = ax1,\n",
    "           )\n",
    "# форматирование оси\n",
    "ax1.xaxis.set_major_formatter(mtick.PercentFormatter(1.0))\n",
    "# подписи на графике\n",
    "for p in ax1.patches:\n",
    "    width = p.get_width()    \n",
    "    ax1.text(width,       \n",
    "            p.get_y() + p.get_height() / 2, \n",
    "            '{:.2%}'.format(width), \n",
    "            ha = 'left',   \n",
    "            va = 'center')  \n",
    "ax1.set_xlabel('Доля переходов между событиями')\n",
    "ax1.set_title(\"Воронка событий - общая\")\n",
    "\n",
    "\n",
    "# график воронок для групп\n",
    "ax_group = {}\n",
    "group_index = 0\n",
    "for group in data_slice.exp_id.unique():\n",
    "    ax_group[group] = fig.add_subplot(gs[1, group_index])\n",
    "    sns.barplot(x=f\"группа {group}\",\n",
    "                y=funnel_ratio.index,\n",
    "                data=funnel_ratio,\n",
    "                ax = ax_group[group]\n",
    "               )\n",
    "    # форматирование оси\n",
    "    ax_group[group].xaxis.set_major_formatter(mtick.PercentFormatter(1.0))\n",
    "    # подписи на графике\n",
    "    for p in ax_group[group].patches:\n",
    "        width = p.get_width()    \n",
    "        ax_group[group].text(width,      \n",
    "                p.get_y() + p.get_height() / 2, \n",
    "                '{:.2%}'.format(width), \n",
    "                ha = 'left',   \n",
    "                va = 'center') \n",
    "    ax_group[group].set_xlabel('Доля переходов между событиями')\n",
    "    ax_group[group].set_title(f\"Воронка - группа {group}\")\n",
    "    if group_index > 0:\n",
    "        ax_group[group].set(yticklabels=[])\n",
    "    \n",
    "    group_index += 1\n",
    "\n",
    "plt.show()\n"
   ]
  },
  {
   "cell_type": "markdown",
   "metadata": {},
   "source": [
    "Можно отметить следующее:\n",
    "* Больше всего пользователей (как в доле, так и в общем количестве) теряется при переходе с основного экрана на экран предложений. Это справедливо как для общих данных, так и для всех групп.\n",
    "* Второе место по падению показателей занимает переход с экрана предложений на экран отображения корзины.\n",
    "* От первого события до оплаты доходят около 47% пользователей, по всем группам. При этом показатели в экспериментальной группе на первый взгляд не выглядят самыми высокими. Мы проверим это статистическими тестами далее."
   ]
  },
  {
   "cell_type": "markdown",
   "metadata": {},
   "source": [
    "## Анализ результатов A/A/B-теста\n",
    "\n",
    "Проверим результаты A/A/B-теста. Посмотрим на число пользователей и конверсию при переходах с учетом всех событий:"
   ]
  },
  {
   "cell_type": "code",
   "execution_count": 24,
   "metadata": {},
   "outputs": [
    {
     "data": {
      "text/html": [
       "<style  type=\"text/css\" >\n",
       "#T_455b5_row0_col0,#T_455b5_row0_col1,#T_455b5_row0_col2,#T_455b5_row0_col3{\n",
       "            background-color:  #0000ff;\n",
       "            color:  #f1f1f1;\n",
       "        }#T_455b5_row1_col0{\n",
       "            background-color:  #6767fa;\n",
       "            color:  #000000;\n",
       "        }#T_455b5_row1_col1{\n",
       "            background-color:  #6565fa;\n",
       "            color:  #000000;\n",
       "        }#T_455b5_row1_col2,#T_455b5_row1_col3{\n",
       "            background-color:  #6969fa;\n",
       "            color:  #000000;\n",
       "        }#T_455b5_row2_col0{\n",
       "            background-color:  #8787f8;\n",
       "            color:  #000000;\n",
       "        }#T_455b5_row2_col1{\n",
       "            background-color:  #8383f8;\n",
       "            color:  #000000;\n",
       "        }#T_455b5_row2_col2{\n",
       "            background-color:  #8888f8;\n",
       "            color:  #000000;\n",
       "        }#T_455b5_row2_col3{\n",
       "            background-color:  #8a8af8;\n",
       "            color:  #000000;\n",
       "        }#T_455b5_row3_col0{\n",
       "            background-color:  #8d8df8;\n",
       "            color:  #000000;\n",
       "        }#T_455b5_row3_col1{\n",
       "            background-color:  #8b8bf8;\n",
       "            color:  #000000;\n",
       "        }#T_455b5_row3_col2{\n",
       "            background-color:  #9090f8;\n",
       "            color:  #000000;\n",
       "        }#T_455b5_row3_col3{\n",
       "            background-color:  #8e8ef8;\n",
       "            color:  #000000;\n",
       "        }#T_455b5_row4_col0,#T_455b5_row4_col1,#T_455b5_row4_col2,#T_455b5_row4_col3{\n",
       "            background-color:  #f0f0f3;\n",
       "            color:  #000000;\n",
       "        }</style><table id=\"T_455b5_\" ><caption>Переходы между событиями - число пользователей</caption><thead>    <tr>        <th class=\"blank level0\" ></th>        <th class=\"col_heading level0 col0\" >общее</th>        <th class=\"col_heading level0 col1\" >группа A</th>        <th class=\"col_heading level0 col2\" >группа A1</th>        <th class=\"col_heading level0 col3\" >группа B</th>    </tr></thead><tbody>\n",
       "                <tr>\n",
       "                        <th id=\"T_455b5_level0_row0\" class=\"row_heading level0 row0\" >MainScreenAppear</th>\n",
       "                        <td id=\"T_455b5_row0_col0\" class=\"data row0 col0\" >7419</td>\n",
       "                        <td id=\"T_455b5_row0_col1\" class=\"data row0 col1\" >2450</td>\n",
       "                        <td id=\"T_455b5_row0_col2\" class=\"data row0 col2\" >2476</td>\n",
       "                        <td id=\"T_455b5_row0_col3\" class=\"data row0 col3\" >2493</td>\n",
       "            </tr>\n",
       "            <tr>\n",
       "                        <th id=\"T_455b5_level0_row1\" class=\"row_heading level0 row1\" >OffersScreenAppear</th>\n",
       "                        <td id=\"T_455b5_row1_col0\" class=\"data row1 col0\" >4593</td>\n",
       "                        <td id=\"T_455b5_row1_col1\" class=\"data row1 col1\" >1542</td>\n",
       "                        <td id=\"T_455b5_row1_col2\" class=\"data row1 col2\" >1520</td>\n",
       "                        <td id=\"T_455b5_row1_col3\" class=\"data row1 col3\" >1531</td>\n",
       "            </tr>\n",
       "            <tr>\n",
       "                        <th id=\"T_455b5_level0_row2\" class=\"row_heading level0 row2\" >CartScreenAppear</th>\n",
       "                        <td id=\"T_455b5_row2_col0\" class=\"data row2 col0\" >3734</td>\n",
       "                        <td id=\"T_455b5_row2_col1\" class=\"data row2 col1\" >1266</td>\n",
       "                        <td id=\"T_455b5_row2_col2\" class=\"data row2 col2\" >1238</td>\n",
       "                        <td id=\"T_455b5_row2_col3\" class=\"data row2 col3\" >1230</td>\n",
       "            </tr>\n",
       "            <tr>\n",
       "                        <th id=\"T_455b5_level0_row3\" class=\"row_heading level0 row3\" >PaymentScreenSuccessful</th>\n",
       "                        <td id=\"T_455b5_row3_col0\" class=\"data row3 col0\" >3539</td>\n",
       "                        <td id=\"T_455b5_row3_col1\" class=\"data row3 col1\" >1200</td>\n",
       "                        <td id=\"T_455b5_row3_col2\" class=\"data row3 col2\" >1158</td>\n",
       "                        <td id=\"T_455b5_row3_col3\" class=\"data row3 col3\" >1181</td>\n",
       "            </tr>\n",
       "            <tr>\n",
       "                        <th id=\"T_455b5_level0_row4\" class=\"row_heading level0 row4\" >Tutorial</th>\n",
       "                        <td id=\"T_455b5_row4_col0\" class=\"data row4 col0\" >840</td>\n",
       "                        <td id=\"T_455b5_row4_col1\" class=\"data row4 col1\" >278</td>\n",
       "                        <td id=\"T_455b5_row4_col2\" class=\"data row4 col2\" >283</td>\n",
       "                        <td id=\"T_455b5_row4_col3\" class=\"data row4 col3\" >279</td>\n",
       "            </tr>\n",
       "    </tbody></table>"
      ],
      "text/plain": [
       "<pandas.io.formats.style.Styler at 0x276f61f7cd0>"
      ]
     },
     "metadata": {},
     "output_type": "display_data"
    },
    {
     "data": {
      "image/png": "[encoded data removed]",
      "text/plain": [
       "<Figure size 1080x504 with 3 Axes>"
      ]
     },
     "metadata": {
      "needs_background": "light"
     },
     "output_type": "display_data"
    }
   ],
   "source": [
    "# посчитаем переходы между событиями с учетом события показа обучения\n",
    "funnel_total = event_funnel(data_slice, include_optional = True)\n",
    "funnel_ratio = pd.DataFrame({'общее' : funnel_total[0]})\n",
    "funnel_userloss = pd.DataFrame({'общее' : funnel_total[1]})\n",
    "funnel_first_ratio = pd.DataFrame({'общее' : funnel_total[2]})\n",
    "funnel_usercount = pd.DataFrame({'общее' : funnel_total[3]})\n",
    "funnel_conversion = pd.DataFrame({'общее' : funnel_total[4]})\n",
    "\n",
    "\n",
    "# для каждого эксперимента считаем данные по переходам\n",
    "for group in data_slice.exp_id.unique():\n",
    "    group_funnel = event_funnel(data_slice[data_slice.exp_id == group], include_optional = True)\n",
    "    funnel_ratio[f\"группа {group}\"] = group_funnel[0]\n",
    "    funnel_userloss[f\"группа {group}\"] = group_funnel[1]\n",
    "    funnel_first_ratio[f\"группа {group}\"] = group_funnel[2]\n",
    "    funnel_usercount[f\"группа {group}\"] = group_funnel[3]\n",
    "    funnel_conversion[f\"группа {group}\"] = group_funnel[4]\n",
    "    \n",
    "# выведем таблицу числа пользователей на каждом событии\n",
    "display(funnel_usercount.style\n",
    "       .set_caption('Переходы между событиями - число пользователей')\n",
    "       .background_gradient(cmap=_TABLE_CMAP))\n",
    "\n",
    "# график воронок для групп\n",
    "fig = plt.figure(figsize=(15,7), constrained_layout=True)\n",
    "gs = fig.add_gridspec(2, 3)\n",
    "ax_group = {}\n",
    "group_index = 0\n",
    "for group in data_slice.exp_id.unique():\n",
    "    ax_group[group] = fig.add_subplot(gs[0, group_index])\n",
    "    sns.barplot(x=f\"группа {group}\",\n",
    "                y=funnel_ratio.index,\n",
    "                data=funnel_ratio,\n",
    "                ax = ax_group[group]\n",
    "               )\n",
    "    # форматирование оси\n",
    "    ax_group[group].xaxis.set_major_formatter(mtick.PercentFormatter(1.0))\n",
    "    # подписи на графике\n",
    "    for p in ax_group[group].patches:\n",
    "        width = p.get_width()    \n",
    "        ax_group[group].text(width,      \n",
    "                p.get_y() + p.get_height() / 2, \n",
    "                '{:.2%}'.format(width), \n",
    "                ha = 'left',   \n",
    "                va = 'center') \n",
    "    ax_group[group].set_xlabel('Доля переходов между событиями')\n",
    "    ax_group[group].set_title(f\"Конверсия - группа {group}\")\n",
    "    if group_index > 0:\n",
    "        ax_group[group].set(yticklabels=[])\n",
    "    \n",
    "    group_index += 1\n",
    "\n",
    "plt.show()"
   ]
  },
  {
   "cell_type": "markdown",
   "metadata": {},
   "source": [
    "Как мы заметили раньше, на первый взгляд разница конверсий между группами небольшая."
   ]
  },
  {
   "cell_type": "markdown",
   "metadata": {},
   "source": [
    "Начнем проверку результатов с размеров выборок, т.к. большое отклонение в числе пользователей между выборками сигнализирует о проблемах с реализацией теста:"
   ]
  },
  {
   "cell_type": "markdown",
   "metadata": {},
   "source": [
    "### Стабильность показателей конверсии\n",
    "\n",
    "Посмотрим, насколько стабилизировались показатели конверсии за время проведения теста. Скачки конверсии могут сигнализировать о неучтенных факторах, влиявших на проведение теста и возможной необходимости его продления."
   ]
  },
  {
   "cell_type": "code",
   "execution_count": 25,
   "metadata": {},
   "outputs": [],
   "source": [
    "# соберем кумулятивное число уникальных пользователей по группам\n",
    "\n",
    "# создаем массив уникальных значений значений дат и групп теста\n",
    "dates_groups = data_slice[['date', 'exp_id']].drop_duplicates()\n",
    "\n",
    "# аггрегируем данные каждой дате и группе\n",
    "date_exp_grouped = dates_groups.apply(\n",
    "    lambda x: data_slice[\n",
    "        np.logical_and(\n",
    "            data_slice['date'] <= x['date'],\n",
    "            data_slice['exp_id'] == x['exp_id'],\n",
    "        )\n",
    "    ].agg(\n",
    "        {\n",
    "            'date': 'max',\n",
    "            'exp_id': 'max',\n",
    "            'user_id': 'nunique',\n",
    "        }\n",
    "    ),\n",
    "    axis=1,\n",
    ").sort_values(by=['date', 'exp_id']).reset_index(drop=True)\n",
    "date_exp_grouped.columns = ['date', 'exp_id', 'users_group']\n",
    "\n",
    "# создаем массив уникальных значений значений дат и событий\n",
    "dates_events_groups = (\n",
    "    data_slice[['date','event_name']]\n",
    "    .drop_duplicates()\n",
    "    .sort_values(by=['date','event_name'])\n",
    ")"
   ]
  },
  {
   "cell_type": "code",
   "execution_count": 26,
   "metadata": {},
   "outputs": [],
   "source": [
    "# создаем таблицу с кумулятивной конверсией для каждой группы\n",
    "cumulative_conversion = pd.DataFrame()\n",
    "for group in data_slice['exp_id'].unique():\n",
    "    # отбираем срез датасата для группы\n",
    "    group_slice = data_slice[data_slice['exp_id'] == group]\n",
    "    \n",
    "    # аггрегируем данные каждой дате, событию и группе\n",
    "    date_exp_event_grouped = dates_events_groups.apply(\n",
    "        lambda x: group_slice[\n",
    "            np.logical_and(\n",
    "                group_slice['date'] <= x['date'],\n",
    "                group_slice['event_name'] == x['event_name']\n",
    "            )\n",
    "        ].agg(\n",
    "            {\n",
    "                'date': 'max',\n",
    "                'event_name': 'max',            \n",
    "                'user_id': 'nunique',\n",
    "            }\n",
    "        ),    axis=1,\n",
    "    ).sort_values(by=['date', 'event_name']).reset_index(drop=True)\n",
    "\n",
    "    # вычисляем конверсию\n",
    "    date_exp_event_grouped = date_exp_event_grouped.merge(\n",
    "        date_exp_grouped[date_exp_grouped['exp_id'] == group],\n",
    "        left_on=['date'],\n",
    "        right_on=['date'],\n",
    "        how='outer'\n",
    "    )\n",
    "    date_exp_event_grouped['conversion'] = date_exp_event_grouped['user_id']/date_exp_event_grouped['users_group']\n",
    "    # убираем ненужные столбцы\n",
    "    date_exp_event_grouped = date_exp_event_grouped[['date', 'exp_id', 'event_name', 'conversion']]\n",
    "    # объединяем группы в один датасет\n",
    "    cumulative_conversion = pd.concat([cumulative_conversion, date_exp_event_grouped])"
   ]
  },
  {
   "cell_type": "code",
   "execution_count": 27,
   "metadata": {
    "scrolled": false
   },
   "outputs": [
    {
     "data": {
      "image/png": "[encoded data removed]",
      "text/plain": [
       "<Figure size 1080x432 with 1 Axes>"
      ]
     },
     "metadata": {
      "needs_background": "light"
     },
     "output_type": "display_data"
    },
    {
     "data": {
      "image/png": "[encoded data removed]",
      "text/plain": [
       "<Figure size 1080x432 with 1 Axes>"
      ]
     },
     "metadata": {
      "needs_background": "light"
     },
     "output_type": "display_data"
    },
    {
     "data": {
      "image/png": "[encoded data removed]",
      "text/plain": [
       "<Figure size 1080x432 with 1 Axes>"
      ]
     },
     "metadata": {
      "needs_background": "light"
     },
     "output_type": "display_data"
    },
    {
     "data": {
      "image/png": "[encoded data removed]",
      "text/plain": [
       "<Figure size 1080x432 with 1 Axes>"
      ]
     },
     "metadata": {
      "needs_background": "light"
     },
     "output_type": "display_data"
    },
    {
     "data": {
      "image/png": "[encoded data removed]",
      "text/plain": [
       "<Figure size 1080x432 with 1 Axes>"
      ]
     },
     "metadata": {
      "needs_background": "light"
     },
     "output_type": "display_data"
    }
   ],
   "source": [
    "# строим графики конверсий\n",
    "for event in data_slice['event_name'].unique():\n",
    "    plt.figure(figsize=(15,6))\n",
    "    fig = sns.lineplot(data=cumulative_conversion[cumulative_conversion['event_name'] == event],\n",
    "            x='date',\n",
    "            hue='exp_id',\n",
    "            y='conversion',\n",
    "           )\n",
    "    fig.set_title(f\"Конверсия для {event}\")\n",
    "    fig.set_ylabel(\"Конверсия\")\n",
    "    fig.set_xlabel(\"Дата\")\n",
    "    fig.legend(title = \"Группа\")\n",
    "    fig.yaxis.set_major_formatter(mtick.PercentFormatter(1.0)) \n",
    "    plt.show()"
   ]
  },
  {
   "cell_type": "markdown",
   "metadata": {},
   "source": [
    "Кумулятивная конверсия ожидаемо растет в течение проведения эксперимента. Серьезных скачков конверсии не замечено ни для одного из событий."
   ]
  },
  {
   "cell_type": "markdown",
   "metadata": {},
   "source": [
    "### Проверка размеров выборок"
   ]
  },
  {
   "cell_type": "code",
   "execution_count": 28,
   "metadata": {},
   "outputs": [
    {
     "data": {
      "text/html": [
       "<style  type=\"text/css\" >\n",
       "</style><table id=\"T_7eace_\" ><caption>Сводная таблица по экспериментам</caption><thead>    <tr>        <th class=\"blank level0\" ></th>        <th class=\"col_heading level0 col0\" >experiment</th>        <th class=\"col_heading level0 col1\" >user_count</th>        <th class=\"col_heading level0 col2\" >events_per_user</th>        <th class=\"col_heading level0 col3\" >event_count</th>    </tr></thead><tbody>\n",
       "                <tr>\n",
       "                        <th id=\"T_7eace_level0_row0\" class=\"row_heading level0 row0\" >0</th>\n",
       "                        <td id=\"T_7eace_row0_col0\" class=\"data row0 col0\" >Общие данные</td>\n",
       "                        <td id=\"T_7eace_row0_col1\" class=\"data row0 col1\" >7534</td>\n",
       "                        <td id=\"T_7eace_row0_col2\" class=\"data row0 col2\" >31.97</td>\n",
       "                        <td id=\"T_7eace_row0_col3\" class=\"data row0 col3\" >240887</td>\n",
       "            </tr>\n",
       "            <tr>\n",
       "                        <th id=\"T_7eace_level0_row1\" class=\"row_heading level0 row1\" >1</th>\n",
       "                        <td id=\"T_7eace_row1_col0\" class=\"data row1 col0\" >A</td>\n",
       "                        <td id=\"T_7eace_row1_col1\" class=\"data row1 col1\" >2484</td>\n",
       "                        <td id=\"T_7eace_row1_col2\" class=\"data row1 col2\" >31.93</td>\n",
       "                        <td id=\"T_7eace_row1_col3\" class=\"data row1 col3\" >79302</td>\n",
       "            </tr>\n",
       "            <tr>\n",
       "                        <th id=\"T_7eace_level0_row2\" class=\"row_heading level0 row2\" >2</th>\n",
       "                        <td id=\"T_7eace_row2_col0\" class=\"data row2 col0\" >A1</td>\n",
       "                        <td id=\"T_7eace_row2_col1\" class=\"data row2 col1\" >2513</td>\n",
       "                        <td id=\"T_7eace_row2_col2\" class=\"data row2 col2\" >30.65</td>\n",
       "                        <td id=\"T_7eace_row2_col3\" class=\"data row2 col3\" >77022</td>\n",
       "            </tr>\n",
       "            <tr>\n",
       "                        <th id=\"T_7eace_level0_row3\" class=\"row_heading level0 row3\" >3</th>\n",
       "                        <td id=\"T_7eace_row3_col0\" class=\"data row3 col0\" >B</td>\n",
       "                        <td id=\"T_7eace_row3_col1\" class=\"data row3 col1\" >2537</td>\n",
       "                        <td id=\"T_7eace_row3_col2\" class=\"data row3 col2\" >33.33</td>\n",
       "                        <td id=\"T_7eace_row3_col3\" class=\"data row3 col3\" >84563</td>\n",
       "            </tr>\n",
       "    </tbody></table>"
      ],
      "text/plain": [
       "<pandas.io.formats.style.Styler at 0x276f618b1c0>"
      ]
     },
     "metadata": {},
     "output_type": "display_data"
    }
   ],
   "source": [
    "# Выводим сводную таблицу по очищенным данным\n",
    "summary_slice = data_summary(data_slice)\n",
    "with pd.option_context('display.precision', 2):\n",
    "    display(\n",
    "        summary_slice[['experiment', 'user_count', 'events_per_user', 'event_count']]\n",
    "        .style.set_caption(\"Сводная таблица по экспериментам\")\n",
    "    )"
   ]
  },
  {
   "cell_type": "markdown",
   "metadata": {},
   "source": [
    "Число пользователей в каждой группе отличается. Воспользуемся критерием хи-квадрат для значимости отличий в размерах выборок, воспользовавшись scipy.stats.chisquare.\n",
    "Поскольку по условиям эксперимента группы должны быть равны по размерам, нулевая гипотеза для проверки с помощью этой функции можно сформулировать как:\n",
    "* Число уникальных пользователей в каджой группе эксперимента совпадает с средним числом пользователей по группам"
   ]
  },
  {
   "cell_type": "code",
   "execution_count": 29,
   "metadata": {},
   "outputs": [
    {
     "name": "stdout",
     "output_type": "stream",
     "text": [
      "p-значение результатов теста: 0.7554347210047129\n"
     ]
    }
   ],
   "source": [
    "usr_count_avg = summary_slice.loc[0,'user_count']/3\n",
    "sample_chisquare = stats.chisquare(\n",
    "    [summary_slice.loc[1,'user_count'],\n",
    "     summary_slice.loc[2,'user_count'],\n",
    "     summary_slice.loc[3,'user_count']],\n",
    "    [usr_count_avg, usr_count_avg, usr_count_avg])\n",
    "print(f\"p-значение результатов теста: {sample_chisquare[1]}\")"
   ]
  },
  {
   "cell_type": "markdown",
   "metadata": {},
   "source": [
    "Вероятность получить такие или большие разницы между группами (в числе уникальных пользователей) - порядка 75.5%. Можно считать, что *не замечено значимой статистической разницы между размерами выборок групп*."
   ]
  },
  {
   "cell_type": "markdown",
   "metadata": {},
   "source": [
    "### Проверка контрольных А/А1 групп\n",
    "\n",
    "Проанализируем схожесть поведения пользователей в обеих группах (в данном случае в группах А и А1).\n",
    "\n",
    "Для сравнения конверсий между событиями воспользуемся z-тестом пропорций. Нулевой гипотезой для тестов является равенство пропорций между группами. Этот тест использует пропорции между числом пользователей, совершивших событие и общим числом пользовавтелей в группе.\n",
    "\n",
    "Общий уровень значимости p-value мы возьмем за 0.05 (мы правильно укажем на отсутствие разницы между группами в 95 случаев из 100). Однако, с учетом того, что мы делаем 20 сравнений между группами (по 1 для каждого события плюс с учетом групп), можно применить поправку Бонферрони и использовать $p\\_value = \\frac{0.05}{20} = 0.025 $ в тестах. При таком количестве сравнений мощность тестов окажется недостаточно большой, и имеет смысл использовать метод Холма."
   ]
  },
  {
   "cell_type": "code",
   "execution_count": 52,
   "metadata": {},
   "outputs": [],
   "source": [
    "# задаем p-value с учетом поправки Бонферрони. Общий результат тестов выведем после завершения всех 20\n",
    "stat_test_count = 5*4\n",
    "p_corrected = 0.05 / stat_test_count\n",
    "\n",
    "# список p-значений тестов:\n",
    "tests_ps = []\n",
    "tests_captions = []"
   ]
  },
  {
   "cell_type": "code",
   "execution_count": 51,
   "metadata": {},
   "outputs": [],
   "source": [
    "# statsmodels.stats.proportion.proportions_ztest в качестве параметров использует\n",
    "# два параметра - массив с числами пользовавтелей, совершивших событие\n",
    "# и массив с числом пользователей в группе.\n",
    "\n",
    "def df_z_test(\n",
    "    group1,\n",
    "    group2,\n",
    "    p_value = 0.05,\n",
    "    g1_name = \"group1\",\n",
    "    g2_name = \"group2\"\n",
    "):\n",
    "    \"\"\"\n",
    "    Вспомогательная функция для проведения z-теста между группами по всем событиям\n",
    "    Параметры:\n",
    "        group1 : dataframe, первая группа,\n",
    "        group2 : dataframe, вторая группа,\n",
    "        p_value : p-значение, по умолчанию 0.05,\n",
    "        g1_name : название группы 1, по умолочанию group1,\n",
    "        g2_name : название группы 2, по умолочанию group2\n",
    "    Возвращает:\n",
    "        list : список p-значений результатов тестов\n",
    "        list : список названий результатов тестов\n",
    "    \"\"\"\n",
    "    # общее число уникальных пользователей в группах\n",
    "    nobs = np.array([\n",
    "        group1.user_id.nunique(),\n",
    "        group2.user_id.nunique()\n",
    "    ])\n",
    "    success_count = 0\n",
    "    tests_count = 0\n",
    "    # список p-значений\n",
    "    tests_ps = []\n",
    "    tests_captions = []\n",
    "    # z-тесты для каждого события\n",
    "    for event in data_slice.event_name.unique():\n",
    "        counts = np.array([\n",
    "            group1[group1.event_name == event].user_id.nunique(),\n",
    "            group2[group2.event_name == event].user_id.nunique(),\n",
    "        ])\n",
    "        zstat, pval = proportions_ztest(counts, nobs)\n",
    "        if pval < p_value:\n",
    "            print(f\"Замечена статистически значимая разница между {g1_name} и {g2_name} \" \\\n",
    "                  f\"для события {event}, p-value {round(pval, 4)}\")\n",
    "            conversion_diff = (\n",
    "                ounts[1]/nobs[1] - counts[0]/nobs[0]\n",
    "            )\n",
    "            print(\"Разница между конверсиями {} и {} : {:,.2%}\".format(g2_name, g1_name, conversion_diff))\n",
    "            success_count += 1\n",
    "        else:\n",
    "            print(f\"Не замечено статистически значимой разницы между {g1_name} и {g2_name} \" \\\n",
    "                  f\"для события {event}, p-value {round(pval, 4)}\")            \n",
    "        tests_count += 1\n",
    "        tests_ps.append(pval)\n",
    "        tests_captions.append(\"Группы {} и {} для события {}\".format(g1_name, g2_name, event))\n",
    "    print(f\"Всего тестов между группами: {tests_count}\")\n",
    "    print(f\"Замечена статистически значимая разница в: {success_count}\")\n",
    "    return (tests_ps, tests_captions)"
   ]
  },
  {
   "cell_type": "code",
   "execution_count": 53,
   "metadata": {},
   "outputs": [
    {
     "name": "stdout",
     "output_type": "stream",
     "text": [
      "Не замечено статистически значимой разницы между A и A1 для события Tutorial, p-value 0.9377\n",
      "Не замечено статистически значимой разницы между A и A1 для события MainScreenAppear, p-value 0.7571\n",
      "Не замечено статистически значимой разницы между A и A1 для события OffersScreenAppear, p-value 0.2481\n",
      "Не замечено статистически значимой разницы между A и A1 для события CartScreenAppear, p-value 0.2288\n",
      "Не замечено статистически значимой разницы между A и A1 для события PaymentScreenSuccessful, p-value 0.1146\n",
      "Всего тестов между группами: 5\n",
      "Замечена статистически значимая разница в: 0\n"
     ]
    }
   ],
   "source": [
    "# Проведем тесты для контрольных групп\n",
    "temp_results = df_z_test(\n",
    "    data_slice[data_slice.exp_id == 'A'],\n",
    "    data_slice[data_slice.exp_id == 'A1'],\n",
    "    p_corrected,\n",
    "    'A',\n",
    "    'A1'\n",
    ")\n",
    "tests_ps += temp_results[0]\n",
    "tests_captions += temp_results[1]"
   ]
  },
  {
   "cell_type": "markdown",
   "metadata": {},
   "source": [
    "* Для контрольных групп **не отмечено** статистически значимой разницы в конверсии для всех событий\n",
    "* **Можно считать, что разбиение на группы работает корректно**"
   ]
  },
  {
   "cell_type": "markdown",
   "metadata": {},
   "source": [
    "### Проверка A/A1/B\n",
    "Проведем сравнение контрольных групп с экспериментальными группами:\n",
    "\n",
    "#### Сравнение показателей групп A и B"
   ]
  },
  {
   "cell_type": "code",
   "execution_count": 54,
   "metadata": {},
   "outputs": [
    {
     "name": "stdout",
     "output_type": "stream",
     "text": [
      "Не замечено статистически значимой разницы между A и B для события Tutorial, p-value 0.8264\n",
      "Не замечено статистически значимой разницы между A и B для события MainScreenAppear, p-value 0.295\n",
      "Не замечено статистически значимой разницы между A и B для события OffersScreenAppear, p-value 0.2084\n",
      "Не замечено статистически значимой разницы между A и B для события CartScreenAppear, p-value 0.0784\n",
      "Не замечено статистически значимой разницы между A и B для события PaymentScreenSuccessful, p-value 0.2123\n",
      "Всего тестов между группами: 5\n",
      "Замечена статистически значимая разница в: 0\n"
     ]
    }
   ],
   "source": [
    "# Проведем тесты для контрольных групп\n",
    "temp_results = df_z_test(\n",
    "    data_slice[data_slice.exp_id == 'A'],\n",
    "    data_slice[data_slice.exp_id == 'B'],\n",
    "    p_corrected,\n",
    "    'A',\n",
    "    'B'\n",
    ")\n",
    "tests_ps += temp_results[0]\n",
    "tests_captions += temp_results[1]"
   ]
  },
  {
   "cell_type": "markdown",
   "metadata": {},
   "source": [
    "* Для групп A и B **не отмечено** статистически значимой разницы в конверсии для всех событий"
   ]
  },
  {
   "cell_type": "markdown",
   "metadata": {},
   "source": [
    "#### Сравнение показателей групп A1 и B"
   ]
  },
  {
   "cell_type": "code",
   "execution_count": 55,
   "metadata": {},
   "outputs": [
    {
     "name": "stdout",
     "output_type": "stream",
     "text": [
      "Не замечено статистически значимой разницы между A1 и B для события Tutorial, p-value 0.7653\n",
      "Не замечено статистически значимой разницы между A1 и B для события MainScreenAppear, p-value 0.4587\n",
      "Не замечено статистически значимой разницы между A1 и B для события OffersScreenAppear, p-value 0.9198\n",
      "Не замечено статистически значимой разницы между A1 и B для события CartScreenAppear, p-value 0.5786\n",
      "Не замечено статистически значимой разницы между A1 и B для события PaymentScreenSuccessful, p-value 0.7373\n",
      "Всего тестов между группами: 5\n",
      "Замечена статистически значимая разница в: 0\n"
     ]
    }
   ],
   "source": [
    "# Проведем тесты для контрольных групп\n",
    "temp_results = df_z_test(\n",
    "    data_slice[data_slice.exp_id == 'A1'],\n",
    "    data_slice[data_slice.exp_id == 'B'],\n",
    "    p_corrected,\n",
    "    'A1',\n",
    "    'B'\n",
    ")\n",
    "tests_ps += temp_results[0]\n",
    "tests_captions += temp_results[1]"
   ]
  },
  {
   "cell_type": "markdown",
   "metadata": {},
   "source": [
    "* Для групп A1 и B **не отмечено** статистически значимой разницы в конверсии для всех событий"
   ]
  },
  {
   "cell_type": "markdown",
   "metadata": {},
   "source": [
    "#### Сравнение показателей объединенной контрольной группы и группы B"
   ]
  },
  {
   "cell_type": "code",
   "execution_count": 56,
   "metadata": {},
   "outputs": [
    {
     "name": "stdout",
     "output_type": "stream",
     "text": [
      "Не замечено статистически значимой разницы между Контрольная группа и B для события Tutorial, p-value 0.7649\n",
      "Не замечено статистически значимой разницы между Контрольная группа и B для события MainScreenAppear, p-value 0.2942\n",
      "Не замечено статистически значимой разницы между Контрольная группа и B для события OffersScreenAppear, p-value 0.4343\n",
      "Не замечено статистически значимой разницы между Контрольная группа и B для события CartScreenAppear, p-value 0.1818\n",
      "Не замечено статистически значимой разницы между Контрольная группа и B для события PaymentScreenSuccessful, p-value 0.6004\n",
      "Всего тестов между группами: 5\n",
      "Замечена статистически значимая разница в: 0\n"
     ]
    }
   ],
   "source": [
    "# Проведем тесты для контрольных групп\n",
    "temp_results = df_z_test(\n",
    "    data_slice[~(data_slice.exp_id == 'B')],\n",
    "    data_slice[data_slice.exp_id == 'B'],\n",
    "    p_corrected,\n",
    "    'Контрольная группа',\n",
    "    'B'\n",
    ")\n",
    "tests_ps += temp_results[0]\n",
    "tests_captions += temp_results[1]"
   ]
  },
  {
   "cell_type": "markdown",
   "metadata": {},
   "source": [
    "* Для объединенной контрольной группы и группы B **не отмечено** статистически значимой разницы в конверсии для всех событий"
   ]
  },
  {
   "cell_type": "markdown",
   "metadata": {},
   "source": [
    "### Определение общих результатов с методом Холма\n",
    "При использовании поправки Бенферрони, ни в одном из тестов не замечено статистически значимой разницы между контрольными и экспериментальными группами. Проверим результаты и методом Холма, с учетом уровня значимости 0.05:"
   ]
  },
  {
   "cell_type": "code",
   "execution_count": 60,
   "metadata": {},
   "outputs": [
    {
     "name": "stdout",
     "output_type": "stream",
     "text": [
      "Скорректированные с методом Холма результаты тестов:\n",
      "Не замечено статистически значимой разницы для Группы A и A1 для события Tutorial\n",
      "Не замечено статистически значимой разницы для Группы A и A1 для события MainScreenAppear\n",
      "Не замечено статистически значимой разницы для Группы A и A1 для события OffersScreenAppear\n",
      "Не замечено статистически значимой разницы для Группы A и A1 для события CartScreenAppear\n",
      "Не замечено статистически значимой разницы для Группы A и A1 для события PaymentScreenSuccessful\n",
      "Не замечено статистически значимой разницы для Группы A и B для события Tutorial\n",
      "Не замечено статистически значимой разницы для Группы A и B для события MainScreenAppear\n",
      "Не замечено статистически значимой разницы для Группы A и B для события OffersScreenAppear\n",
      "Не замечено статистически значимой разницы для Группы A и B для события CartScreenAppear\n",
      "Не замечено статистически значимой разницы для Группы A и B для события PaymentScreenSuccessful\n",
      "Не замечено статистически значимой разницы для Группы A1 и B для события Tutorial\n",
      "Не замечено статистически значимой разницы для Группы A1 и B для события MainScreenAppear\n",
      "Не замечено статистически значимой разницы для Группы A1 и B для события OffersScreenAppear\n",
      "Не замечено статистически значимой разницы для Группы A1 и B для события CartScreenAppear\n",
      "Не замечено статистически значимой разницы для Группы A1 и B для события PaymentScreenSuccessful\n",
      "Не замечено статистически значимой разницы для Группы Контрольная группа и B для события Tutorial\n",
      "Не замечено статистически значимой разницы для Группы Контрольная группа и B для события MainScreenAppear\n",
      "Не замечено статистически значимой разницы для Группы Контрольная группа и B для события OffersScreenAppear\n",
      "Не замечено статистически значимой разницы для Группы Контрольная группа и B для события CartScreenAppear\n",
      "Не замечено статистически значимой разницы для Группы Контрольная группа и B для события PaymentScreenSuccessful\n"
     ]
    }
   ],
   "source": [
    "multitest_results = multipletests(tests_ps, alpha=0.05, \n",
    "                     method='holm', is_sorted = False)\n",
    "print(\"Скорректированные с методом Холма результаты тестов:\")\n",
    "for index in range(0, len(multitest_results[0])):\n",
    "    if multitest_results[0][index]:\n",
    "        print(f\"Замечена статистически значимая разница для {tests_captions[index]}\")\n",
    "    else:\n",
    "        print(f\"Не замечено статистически значимой разницы для {tests_captions[index]}\")\n"
   ]
  },
  {
   "cell_type": "markdown",
   "metadata": {},
   "source": [
    "### Результаты A/A/B теста\n",
    "\n",
    "По анализу статистических показателей A/B теста можно сделать следующие выводы:\n",
    "* Ошибок в формировании выборок для теста не отмечено\n",
    "* Отсутствует статистически значимая разница в конверсии для всех событий для экспериментальной группы\n",
    "* Не отмечено скачков в показателях конверсии за время эксперимента\n",
    "\n",
    "Таким образом, **можно признать, что изменение шрифтов не оказало влияния на конверсию пользователей между событиями и остановить эксперимент**"
   ]
  },
  {
   "cell_type": "markdown",
   "metadata": {},
   "source": [
    "## Выводы"
   ]
  },
  {
   "cell_type": "markdown",
   "metadata": {},
   "source": [
    "По результатам анализа воронки пользовательских событий можно отметить:\n",
    "* Больше всего пользователей (как в доле, так и в общем количестве) теряется при переходе с основного экрана на экран предложений. Это справедливо как для общих данных, так и для всех групп (переходят 61.91% пользователей).\n",
    "* Второе место по падению показателей занимает переход с экрана предложений на экран отображения корзины (переходят 81.30%).\n",
    "* На переходе из корзины до успешной оплаты падение незначительно (переходят 94.78%).\n",
    "\n",
    "По результатам A/A/B эксперимента по изменению шрифтов в приложении:\n",
    "\n",
    "* Ошибок в формировании выборок для теста не отмечено\n",
    "* Отсутствует статистически значимая разница в конверсии для всех событий для экспериментальной группы\n",
    "* Не отмечено скачков в показателях конверсии за время эксперимента\n",
    "* Таким образом, **можно признать, что изменение шрифтов не оказало влияния на конверсию пользователей между событиями и остановить эксперимент**"
   ]
  }
 ],
 "metadata": {
  "ExecuteTimeLog": [
   {
    "duration": 1295,
    "start_time": "2022-10-17T16:18:58.123Z"
   },
   {
    "duration": 4,
    "start_time": "2022-10-17T16:19:32.639Z"
   },
   {
    "duration": 1174,
    "start_time": "2022-10-17T16:20:36.374Z"
   },
   {
    "duration": 107,
    "start_time": "2022-10-17T16:21:54.266Z"
   },
   {
    "duration": 31,
    "start_time": "2022-10-17T16:22:07.130Z"
   },
   {
    "duration": 11,
    "start_time": "2022-10-17T16:23:39.452Z"
   },
   {
    "duration": 162,
    "start_time": "2022-10-17T16:24:54.224Z"
   },
   {
    "duration": 34,
    "start_time": "2022-10-17T16:24:56.608Z"
   },
   {
    "duration": 4,
    "start_time": "2022-10-17T16:34:41.211Z"
   },
   {
    "duration": 65,
    "start_time": "2022-10-17T16:38:52.647Z"
   },
   {
    "duration": 21,
    "start_time": "2022-10-17T16:38:58.261Z"
   },
   {
    "duration": 47,
    "start_time": "2022-10-17T16:40:31.035Z"
   },
   {
    "duration": 15,
    "start_time": "2022-10-17T16:40:32.601Z"
   },
   {
    "duration": 15,
    "start_time": "2022-10-17T16:40:46.514Z"
   },
   {
    "duration": 18,
    "start_time": "2022-10-17T16:40:47.804Z"
   },
   {
    "duration": 15,
    "start_time": "2022-10-17T16:44:32.653Z"
   },
   {
    "duration": 15,
    "start_time": "2022-10-17T16:45:28.155Z"
   },
   {
    "duration": 18,
    "start_time": "2022-10-17T16:45:33.755Z"
   },
   {
    "duration": 16,
    "start_time": "2022-10-17T17:39:27.829Z"
   },
   {
    "duration": 719,
    "start_time": "2022-10-17T17:41:45.314Z"
   },
   {
    "duration": 0,
    "start_time": "2022-10-17T17:41:46.035Z"
   },
   {
    "duration": 146,
    "start_time": "2022-10-17T17:41:52.595Z"
   },
   {
    "duration": 29,
    "start_time": "2022-10-17T17:41:53.438Z"
   },
   {
    "duration": 2,
    "start_time": "2022-10-17T17:41:56.249Z"
   },
   {
    "duration": 13,
    "start_time": "2022-10-17T17:41:57.637Z"
   },
   {
    "duration": 31,
    "start_time": "2022-10-17T17:41:58.809Z"
   },
   {
    "duration": 15,
    "start_time": "2022-10-17T17:42:17.889Z"
   },
   {
    "duration": 4,
    "start_time": "2022-10-17T17:46:05.264Z"
   },
   {
    "duration": 1464,
    "start_time": "2022-10-17T17:46:12.745Z"
   },
   {
    "duration": 4,
    "start_time": "2022-10-17T17:46:43.041Z"
   },
   {
    "duration": 1206,
    "start_time": "2022-10-17T17:46:44.460Z"
   },
   {
    "duration": 5,
    "start_time": "2022-10-17T17:47:44.551Z"
   },
   {
    "duration": 1266,
    "start_time": "2022-10-17T17:47:45.295Z"
   },
   {
    "duration": 3,
    "start_time": "2022-10-17T17:47:58.020Z"
   },
   {
    "duration": 48,
    "start_time": "2022-10-17T17:47:58.895Z"
   },
   {
    "duration": 4,
    "start_time": "2022-10-17T17:48:17.323Z"
   },
   {
    "duration": 59,
    "start_time": "2022-10-17T17:48:18.999Z"
   },
   {
    "duration": 4,
    "start_time": "2022-10-17T17:48:20.494Z"
   },
   {
    "duration": 50,
    "start_time": "2022-10-17T17:48:21.499Z"
   },
   {
    "duration": 5,
    "start_time": "2022-10-17T17:48:33.265Z"
   },
   {
    "duration": 61,
    "start_time": "2022-10-17T17:48:34.031Z"
   },
   {
    "duration": 4,
    "start_time": "2022-10-17T17:48:49.221Z"
   },
   {
    "duration": 12,
    "start_time": "2022-10-17T17:48:50.923Z"
   },
   {
    "duration": 4,
    "start_time": "2022-10-17T17:49:52.620Z"
   },
   {
    "duration": 128,
    "start_time": "2022-10-17T17:49:53.320Z"
   },
   {
    "duration": 5,
    "start_time": "2022-10-17T17:51:04.562Z"
   },
   {
    "duration": 133,
    "start_time": "2022-10-17T17:51:05.703Z"
   },
   {
    "duration": 6,
    "start_time": "2022-10-17T17:52:34.070Z"
   },
   {
    "duration": 6,
    "start_time": "2022-10-17T17:52:35.371Z"
   },
   {
    "duration": 133,
    "start_time": "2022-10-17T17:52:36.003Z"
   },
   {
    "duration": 7,
    "start_time": "2022-10-17T17:52:46.558Z"
   },
   {
    "duration": 214,
    "start_time": "2022-10-17T17:52:47.525Z"
   },
   {
    "duration": 6,
    "start_time": "2022-10-17T18:00:38.585Z"
   },
   {
    "duration": 227,
    "start_time": "2022-10-17T18:00:40.188Z"
   },
   {
    "duration": 6,
    "start_time": "2022-10-17T18:00:45.791Z"
   },
   {
    "duration": 225,
    "start_time": "2022-10-17T18:00:46.941Z"
   },
   {
    "duration": 7,
    "start_time": "2022-10-17T18:05:12.694Z"
   },
   {
    "duration": 124,
    "start_time": "2022-10-17T18:05:14.630Z"
   },
   {
    "duration": 7,
    "start_time": "2022-10-17T18:05:24.208Z"
   },
   {
    "duration": 216,
    "start_time": "2022-10-17T18:05:25.483Z"
   },
   {
    "duration": 9,
    "start_time": "2022-10-17T18:05:36.610Z"
   },
   {
    "duration": 6,
    "start_time": "2022-10-17T18:05:41.801Z"
   },
   {
    "duration": 217,
    "start_time": "2022-10-17T18:05:43.758Z"
   },
   {
    "duration": 7,
    "start_time": "2022-10-17T18:06:43.955Z"
   },
   {
    "duration": 1394,
    "start_time": "2022-10-17T18:06:45.665Z"
   },
   {
    "duration": 7,
    "start_time": "2022-10-17T18:06:59.179Z"
   },
   {
    "duration": 218,
    "start_time": "2022-10-17T18:06:59.904Z"
   },
   {
    "duration": 10,
    "start_time": "2022-10-17T18:07:10.055Z"
   },
   {
    "duration": 226,
    "start_time": "2022-10-17T18:07:10.730Z"
   },
   {
    "duration": 218,
    "start_time": "2022-10-17T18:08:15.518Z"
   },
   {
    "duration": 11,
    "start_time": "2022-10-17T18:25:07.949Z"
   },
   {
    "duration": 11,
    "start_time": "2022-10-17T18:25:13.813Z"
   },
   {
    "duration": 12,
    "start_time": "2022-10-17T18:26:00.376Z"
   },
   {
    "duration": 5,
    "start_time": "2022-10-17T18:26:05.156Z"
   },
   {
    "duration": 3,
    "start_time": "2022-10-17T18:26:09.998Z"
   },
   {
    "duration": 188,
    "start_time": "2022-10-17T18:27:17.057Z"
   },
   {
    "duration": 393,
    "start_time": "2022-10-17T18:28:49.853Z"
   },
   {
    "duration": 1389,
    "start_time": "2022-10-17T18:29:43.748Z"
   },
   {
    "duration": 20,
    "start_time": "2022-10-17T18:30:19.400Z"
   },
   {
    "duration": 3,
    "start_time": "2022-10-17T18:31:23.149Z"
   },
   {
    "duration": 7,
    "start_time": "2022-10-17T18:31:23.155Z"
   },
   {
    "duration": 161,
    "start_time": "2022-10-17T18:31:23.163Z"
   },
   {
    "duration": 28,
    "start_time": "2022-10-17T18:31:23.325Z"
   },
   {
    "duration": 3,
    "start_time": "2022-10-17T18:31:23.355Z"
   },
   {
    "duration": 92,
    "start_time": "2022-10-17T18:31:23.359Z"
   },
   {
    "duration": 25,
    "start_time": "2022-10-17T18:31:23.453Z"
   },
   {
    "duration": 7,
    "start_time": "2022-10-17T18:31:23.495Z"
   },
   {
    "duration": 365,
    "start_time": "2022-10-17T18:31:27.981Z"
   },
   {
    "duration": 29,
    "start_time": "2022-10-17T18:31:31.018Z"
   },
   {
    "duration": 522,
    "start_time": "2022-10-17T18:31:32.726Z"
   },
   {
    "duration": 6,
    "start_time": "2022-10-17T18:34:43.430Z"
   },
   {
    "duration": 342,
    "start_time": "2022-10-17T18:34:43.988Z"
   },
   {
    "duration": 494,
    "start_time": "2022-10-17T18:35:55.338Z"
   },
   {
    "duration": 497,
    "start_time": "2022-10-17T18:36:25.310Z"
   },
   {
    "duration": 499,
    "start_time": "2022-10-17T18:36:30.688Z"
   },
   {
    "duration": 5,
    "start_time": "2022-10-17T18:37:38.036Z"
   },
   {
    "duration": 515,
    "start_time": "2022-10-17T18:37:45.229Z"
   },
   {
    "duration": 511,
    "start_time": "2022-10-17T18:40:00.546Z"
   },
   {
    "duration": 1164,
    "start_time": "2022-10-17T18:44:03.244Z"
   },
   {
    "duration": 4,
    "start_time": "2022-10-17T18:44:04.410Z"
   },
   {
    "duration": 166,
    "start_time": "2022-10-17T18:44:04.415Z"
   },
   {
    "duration": 40,
    "start_time": "2022-10-17T18:44:04.583Z"
   },
   {
    "duration": 3,
    "start_time": "2022-10-17T18:44:04.625Z"
   },
   {
    "duration": 106,
    "start_time": "2022-10-17T18:44:04.629Z"
   },
   {
    "duration": 35,
    "start_time": "2022-10-17T18:44:04.737Z"
   },
   {
    "duration": 22,
    "start_time": "2022-10-17T18:44:04.774Z"
   },
   {
    "duration": 408,
    "start_time": "2022-10-17T18:44:04.798Z"
   },
   {
    "duration": 5,
    "start_time": "2022-10-17T18:44:08.262Z"
   },
   {
    "duration": 13,
    "start_time": "2022-10-17T18:44:24.314Z"
   },
   {
    "duration": 597,
    "start_time": "2022-10-17T18:44:33.636Z"
   },
   {
    "duration": 43,
    "start_time": "2022-10-17T19:54:51.714Z"
   },
   {
    "duration": 391,
    "start_time": "2022-10-17T19:55:04.231Z"
   },
   {
    "duration": 319,
    "start_time": "2022-10-17T19:56:03.833Z"
   },
   {
    "duration": 9,
    "start_time": "2022-10-17T19:57:35.233Z"
   },
   {
    "duration": 293,
    "start_time": "2022-10-17T19:58:51.347Z"
   },
   {
    "duration": 31,
    "start_time": "2022-10-17T19:59:48.510Z"
   },
   {
    "duration": 374,
    "start_time": "2022-10-17T20:00:25.634Z"
   },
   {
    "duration": 30,
    "start_time": "2022-10-17T20:00:40.087Z"
   },
   {
    "duration": 339,
    "start_time": "2022-10-17T20:00:40.879Z"
   },
   {
    "duration": 16,
    "start_time": "2022-10-17T20:01:26.734Z"
   },
   {
    "duration": 16,
    "start_time": "2022-10-17T20:01:32.523Z"
   },
   {
    "duration": 16,
    "start_time": "2022-10-17T20:01:33.608Z"
   },
   {
    "duration": 15,
    "start_time": "2022-10-17T20:01:34.579Z"
   },
   {
    "duration": 14,
    "start_time": "2022-10-17T20:01:35.595Z"
   },
   {
    "duration": 16,
    "start_time": "2022-10-17T20:01:36.446Z"
   },
   {
    "duration": 16,
    "start_time": "2022-10-17T20:01:37.037Z"
   },
   {
    "duration": 17,
    "start_time": "2022-10-17T20:01:37.536Z"
   },
   {
    "duration": 18,
    "start_time": "2022-10-17T20:01:37.999Z"
   },
   {
    "duration": 14,
    "start_time": "2022-10-17T20:01:38.642Z"
   },
   {
    "duration": 26,
    "start_time": "2022-10-17T20:01:39.693Z"
   },
   {
    "duration": 323,
    "start_time": "2022-10-17T20:01:42.429Z"
   },
   {
    "duration": 6,
    "start_time": "2022-10-17T20:02:02.378Z"
   },
   {
    "duration": 376,
    "start_time": "2022-10-17T20:02:06.632Z"
   },
   {
    "duration": 339,
    "start_time": "2022-10-17T20:02:38.337Z"
   },
   {
    "duration": 330,
    "start_time": "2022-10-17T20:02:44.451Z"
   },
   {
    "duration": 26,
    "start_time": "2022-10-17T20:02:50.601Z"
   },
   {
    "duration": 339,
    "start_time": "2022-10-17T20:02:51.729Z"
   },
   {
    "duration": 29,
    "start_time": "2022-10-17T20:03:12.637Z"
   },
   {
    "duration": 332,
    "start_time": "2022-10-17T20:03:13.204Z"
   },
   {
    "duration": 374,
    "start_time": "2022-10-17T20:03:22.636Z"
   },
   {
    "duration": 5,
    "start_time": "2022-10-17T20:06:26.668Z"
   },
   {
    "duration": 5,
    "start_time": "2022-10-17T20:06:39.274Z"
   },
   {
    "duration": 7,
    "start_time": "2022-10-17T20:06:55.047Z"
   },
   {
    "duration": 7,
    "start_time": "2022-10-17T20:07:34.740Z"
   },
   {
    "duration": 10,
    "start_time": "2022-10-17T20:07:59.925Z"
   },
   {
    "duration": 330,
    "start_time": "2022-10-17T20:08:00.494Z"
   },
   {
    "duration": 7,
    "start_time": "2022-10-17T20:08:07.868Z"
   },
   {
    "duration": 344,
    "start_time": "2022-10-17T20:08:09.600Z"
   },
   {
    "duration": 25,
    "start_time": "2022-10-17T20:08:14.616Z"
   },
   {
    "duration": 328,
    "start_time": "2022-10-17T20:08:15.579Z"
   },
   {
    "duration": 5,
    "start_time": "2022-10-17T20:08:19.175Z"
   },
   {
    "duration": 4,
    "start_time": "2022-10-17T20:08:24.037Z"
   },
   {
    "duration": 4,
    "start_time": "2022-10-17T20:08:50.983Z"
   },
   {
    "duration": 4,
    "start_time": "2022-10-17T20:09:01.947Z"
   },
   {
    "duration": 5,
    "start_time": "2022-10-17T20:09:43.481Z"
   },
   {
    "duration": 5,
    "start_time": "2022-10-17T20:09:55.015Z"
   },
   {
    "duration": 4,
    "start_time": "2022-10-17T20:10:05.237Z"
   },
   {
    "duration": 4,
    "start_time": "2022-10-17T20:10:08.193Z"
   },
   {
    "duration": 4,
    "start_time": "2022-10-17T20:11:50.375Z"
   },
   {
    "duration": 4,
    "start_time": "2022-10-17T20:12:22.320Z"
   },
   {
    "duration": 4,
    "start_time": "2022-10-17T20:12:31.755Z"
   },
   {
    "duration": 4,
    "start_time": "2022-10-17T20:12:48.045Z"
   },
   {
    "duration": 5,
    "start_time": "2022-10-17T20:13:22.162Z"
   },
   {
    "duration": 13,
    "start_time": "2022-10-17T20:22:44.230Z"
   },
   {
    "duration": 50,
    "start_time": "2022-10-17T20:27:55.520Z"
   },
   {
    "duration": 121,
    "start_time": "2022-10-17T20:28:05.927Z"
   },
   {
    "duration": 108,
    "start_time": "2022-10-17T20:28:21.628Z"
   },
   {
    "duration": 23,
    "start_time": "2022-10-17T20:36:00.596Z"
   },
   {
    "duration": 34,
    "start_time": "2022-10-17T20:36:49.788Z"
   },
   {
    "duration": 62,
    "start_time": "2022-10-17T20:54:42.604Z"
   },
   {
    "duration": 69,
    "start_time": "2022-10-17T20:56:01.659Z"
   },
   {
    "duration": 70,
    "start_time": "2022-10-17T20:56:23.728Z"
   },
   {
    "duration": 52,
    "start_time": "2022-10-18T07:52:59.423Z"
   },
   {
    "duration": 1467,
    "start_time": "2022-10-18T07:53:04.665Z"
   },
   {
    "duration": 4,
    "start_time": "2022-10-18T07:53:06.134Z"
   },
   {
    "duration": 731,
    "start_time": "2022-10-18T07:53:06.140Z"
   },
   {
    "duration": 39,
    "start_time": "2022-10-18T07:53:06.873Z"
   },
   {
    "duration": 3,
    "start_time": "2022-10-18T07:53:06.915Z"
   },
   {
    "duration": 92,
    "start_time": "2022-10-18T07:53:06.920Z"
   },
   {
    "duration": 33,
    "start_time": "2022-10-18T07:53:07.014Z"
   },
   {
    "duration": 7,
    "start_time": "2022-10-18T07:53:07.049Z"
   },
   {
    "duration": 431,
    "start_time": "2022-10-18T07:53:07.058Z"
   },
   {
    "duration": 688,
    "start_time": "2022-10-18T07:53:07.491Z"
   },
   {
    "duration": 44,
    "start_time": "2022-10-18T07:53:08.181Z"
   },
   {
    "duration": 422,
    "start_time": "2022-10-18T07:53:08.227Z"
   },
   {
    "duration": 5,
    "start_time": "2022-10-18T07:53:08.650Z"
   },
   {
    "duration": 144,
    "start_time": "2022-10-18T07:53:08.658Z"
   },
   {
    "duration": 15,
    "start_time": "2022-10-18T07:53:08.804Z"
   },
   {
    "duration": 87,
    "start_time": "2022-10-18T07:53:18.726Z"
   },
   {
    "duration": 27,
    "start_time": "2022-10-18T07:55:02.350Z"
   },
   {
    "duration": 68,
    "start_time": "2022-10-18T07:55:12.686Z"
   },
   {
    "duration": 9,
    "start_time": "2022-10-18T07:55:19.078Z"
   },
   {
    "duration": 3,
    "start_time": "2022-10-18T07:55:24.582Z"
   },
   {
    "duration": 12,
    "start_time": "2022-10-18T07:56:05.133Z"
   },
   {
    "duration": 20,
    "start_time": "2022-10-18T07:56:12.031Z"
   },
   {
    "duration": 19,
    "start_time": "2022-10-18T07:56:34.798Z"
   },
   {
    "duration": 731,
    "start_time": "2022-10-18T08:02:54.401Z"
   },
   {
    "duration": 650,
    "start_time": "2022-10-18T08:03:05.953Z"
   },
   {
    "duration": 591,
    "start_time": "2022-10-18T08:03:12.240Z"
   },
   {
    "duration": 661,
    "start_time": "2022-10-18T08:04:28.689Z"
   },
   {
    "duration": 767,
    "start_time": "2022-10-18T08:04:38.977Z"
   },
   {
    "duration": 5,
    "start_time": "2022-10-18T08:05:37.211Z"
   },
   {
    "duration": 40,
    "start_time": "2022-10-18T08:06:14.561Z"
   },
   {
    "duration": 347,
    "start_time": "2022-10-18T08:06:16.305Z"
   },
   {
    "duration": 44,
    "start_time": "2022-10-18T08:06:50.017Z"
   },
   {
    "duration": 391,
    "start_time": "2022-10-18T08:06:51.345Z"
   },
   {
    "duration": 35,
    "start_time": "2022-10-18T08:06:59.968Z"
   },
   {
    "duration": 381,
    "start_time": "2022-10-18T08:07:01.796Z"
   },
   {
    "duration": 6,
    "start_time": "2022-10-18T08:07:03.857Z"
   },
   {
    "duration": 99,
    "start_time": "2022-10-18T08:07:07.649Z"
   },
   {
    "duration": 81,
    "start_time": "2022-10-18T08:07:14.138Z"
   },
   {
    "duration": 21,
    "start_time": "2022-10-18T08:07:21.217Z"
   },
   {
    "duration": 23,
    "start_time": "2022-10-18T08:07:24.122Z"
   },
   {
    "duration": 66,
    "start_time": "2022-10-18T08:09:00.386Z"
   },
   {
    "duration": 48,
    "start_time": "2022-10-18T08:11:40.281Z"
   },
   {
    "duration": 32,
    "start_time": "2022-10-18T08:11:44.546Z"
   },
   {
    "duration": 75,
    "start_time": "2022-10-18T08:11:47.293Z"
   },
   {
    "duration": 43,
    "start_time": "2022-10-18T08:12:04.674Z"
   },
   {
    "duration": 346,
    "start_time": "2022-10-18T08:12:05.251Z"
   },
   {
    "duration": 41,
    "start_time": "2022-10-18T08:12:09.339Z"
   },
   {
    "duration": 47,
    "start_time": "2022-10-18T08:12:18.362Z"
   },
   {
    "duration": 441,
    "start_time": "2022-10-18T08:12:20.661Z"
   },
   {
    "duration": 12,
    "start_time": "2022-10-18T08:12:44.235Z"
   },
   {
    "duration": 494,
    "start_time": "2022-10-18T08:12:47.307Z"
   },
   {
    "duration": 23,
    "start_time": "2022-10-18T08:12:55.770Z"
   },
   {
    "duration": 438,
    "start_time": "2022-10-18T08:12:58.196Z"
   },
   {
    "duration": 42,
    "start_time": "2022-10-18T08:13:14.186Z"
   },
   {
    "duration": 333,
    "start_time": "2022-10-18T08:13:16.611Z"
   },
   {
    "duration": 46,
    "start_time": "2022-10-18T08:13:52.067Z"
   },
   {
    "duration": 5,
    "start_time": "2022-10-18T08:14:05.345Z"
   },
   {
    "duration": 4,
    "start_time": "2022-10-18T08:14:11.403Z"
   },
   {
    "duration": 81,
    "start_time": "2022-10-18T08:14:42.356Z"
   },
   {
    "duration": 20,
    "start_time": "2022-10-18T08:15:01.163Z"
   },
   {
    "duration": 17,
    "start_time": "2022-10-18T08:15:01.771Z"
   },
   {
    "duration": 6,
    "start_time": "2022-10-18T08:15:34.525Z"
   },
   {
    "duration": 18,
    "start_time": "2022-10-18T08:15:54.501Z"
   },
   {
    "duration": 13,
    "start_time": "2022-10-18T08:16:09.530Z"
   },
   {
    "duration": 5,
    "start_time": "2022-10-18T08:31:18.750Z"
   },
   {
    "duration": 26,
    "start_time": "2022-10-18T08:42:37.640Z"
   },
   {
    "duration": 378,
    "start_time": "2022-10-18T08:42:41.112Z"
   },
   {
    "duration": 6,
    "start_time": "2022-10-18T08:42:42.919Z"
   },
   {
    "duration": 124,
    "start_time": "2022-10-18T08:43:16.282Z"
   },
   {
    "duration": 99,
    "start_time": "2022-10-18T08:43:20.801Z"
   },
   {
    "duration": 25,
    "start_time": "2022-10-18T08:43:23.895Z"
   },
   {
    "duration": 8,
    "start_time": "2022-10-18T08:43:24.512Z"
   },
   {
    "duration": 11,
    "start_time": "2022-10-18T08:43:24.976Z"
   },
   {
    "duration": 5,
    "start_time": "2022-10-18T08:43:26.390Z"
   },
   {
    "duration": 86,
    "start_time": "2022-10-18T08:49:36.721Z"
   },
   {
    "duration": 86,
    "start_time": "2022-10-18T08:49:42.737Z"
   },
   {
    "duration": 87,
    "start_time": "2022-10-18T08:49:47.296Z"
   },
   {
    "duration": 81,
    "start_time": "2022-10-18T08:49:52.464Z"
   },
   {
    "duration": 86,
    "start_time": "2022-10-18T08:50:01.176Z"
   },
   {
    "duration": 88,
    "start_time": "2022-10-18T08:51:29.945Z"
   },
   {
    "duration": 89,
    "start_time": "2022-10-18T08:52:01.057Z"
   },
   {
    "duration": 85,
    "start_time": "2022-10-18T08:53:27.841Z"
   },
   {
    "duration": 126,
    "start_time": "2022-10-18T08:54:04.074Z"
   },
   {
    "duration": 109,
    "start_time": "2022-10-18T08:54:15.658Z"
   },
   {
    "duration": 93,
    "start_time": "2022-10-18T08:54:40.186Z"
   },
   {
    "duration": 94,
    "start_time": "2022-10-18T08:55:49.077Z"
   },
   {
    "duration": 95,
    "start_time": "2022-10-18T09:15:21.249Z"
   },
   {
    "duration": 16,
    "start_time": "2022-10-18T09:30:57.261Z"
   },
   {
    "duration": 90,
    "start_time": "2022-10-18T09:31:32.640Z"
   },
   {
    "duration": 86,
    "start_time": "2022-10-18T09:32:42.373Z"
   },
   {
    "duration": 124,
    "start_time": "2022-10-18T09:32:51.774Z"
   },
   {
    "duration": 17,
    "start_time": "2022-10-18T09:33:08.453Z"
   },
   {
    "duration": 390,
    "start_time": "2022-10-18T09:34:19.195Z"
   },
   {
    "duration": 365,
    "start_time": "2022-10-18T09:34:44.103Z"
   },
   {
    "duration": 113,
    "start_time": "2022-10-18T09:35:17.714Z"
   },
   {
    "duration": 93,
    "start_time": "2022-10-18T09:35:35.447Z"
   },
   {
    "duration": 18,
    "start_time": "2022-10-18T09:35:37.071Z"
   },
   {
    "duration": 11,
    "start_time": "2022-10-18T11:44:36.685Z"
   },
   {
    "duration": 46,
    "start_time": "2022-10-18T11:50:27.589Z"
   },
   {
    "duration": 100,
    "start_time": "2022-10-18T11:53:17.392Z"
   },
   {
    "duration": 19,
    "start_time": "2022-10-18T11:53:19.863Z"
   },
   {
    "duration": 46,
    "start_time": "2022-10-18T11:57:55.009Z"
   },
   {
    "duration": 66,
    "start_time": "2022-10-18T11:58:37.129Z"
   },
   {
    "duration": 71,
    "start_time": "2022-10-18T11:59:09.295Z"
   },
   {
    "duration": 97,
    "start_time": "2022-10-18T11:59:38.692Z"
   },
   {
    "duration": 18,
    "start_time": "2022-10-18T11:59:40.373Z"
   },
   {
    "duration": 127,
    "start_time": "2022-10-18T11:59:42.886Z"
   },
   {
    "duration": 12,
    "start_time": "2022-10-18T12:00:28.854Z"
   },
   {
    "duration": 15,
    "start_time": "2022-10-18T12:00:42.678Z"
   },
   {
    "duration": 131,
    "start_time": "2022-10-18T12:01:01.465Z"
   },
   {
    "duration": 126,
    "start_time": "2022-10-18T12:01:35.272Z"
   },
   {
    "duration": 115,
    "start_time": "2022-10-18T12:01:58.919Z"
   },
   {
    "duration": 17,
    "start_time": "2022-10-18T12:02:01.358Z"
   },
   {
    "duration": 118,
    "start_time": "2022-10-18T12:02:25.000Z"
   },
   {
    "duration": 90,
    "start_time": "2022-10-18T12:02:52.583Z"
   },
   {
    "duration": 55,
    "start_time": "2022-10-18T12:03:01.183Z"
   },
   {
    "duration": 1760,
    "start_time": "2022-10-18T15:14:53.789Z"
   },
   {
    "duration": 5,
    "start_time": "2022-10-18T15:14:55.550Z"
   },
   {
    "duration": 815,
    "start_time": "2022-10-18T15:14:55.557Z"
   },
   {
    "duration": 44,
    "start_time": "2022-10-18T15:14:56.374Z"
   },
   {
    "duration": 4,
    "start_time": "2022-10-18T15:14:56.419Z"
   },
   {
    "duration": 142,
    "start_time": "2022-10-18T15:14:56.425Z"
   },
   {
    "duration": 47,
    "start_time": "2022-10-18T15:14:56.570Z"
   },
   {
    "duration": 26,
    "start_time": "2022-10-18T15:14:56.619Z"
   },
   {
    "duration": 488,
    "start_time": "2022-10-18T15:14:56.647Z"
   },
   {
    "duration": 646,
    "start_time": "2022-10-18T15:14:57.138Z"
   },
   {
    "duration": 33,
    "start_time": "2022-10-18T15:14:57.786Z"
   },
   {
    "duration": 3,
    "start_time": "2022-10-18T15:14:57.820Z"
   },
   {
    "duration": 372,
    "start_time": "2022-10-18T15:14:57.824Z"
   },
   {
    "duration": 11,
    "start_time": "2022-10-18T15:14:58.203Z"
   },
   {
    "duration": 125,
    "start_time": "2022-10-18T15:14:58.216Z"
   },
   {
    "duration": 15,
    "start_time": "2022-10-18T15:14:58.343Z"
   },
   {
    "duration": 114,
    "start_time": "2022-10-18T15:14:58.360Z"
   },
   {
    "duration": 27,
    "start_time": "2022-10-18T15:14:58.475Z"
   },
   {
    "duration": 50,
    "start_time": "2022-10-18T15:14:58.512Z"
   },
   {
    "duration": 16,
    "start_time": "2022-10-18T15:14:58.564Z"
   },
   {
    "duration": 112,
    "start_time": "2022-10-18T15:14:58.598Z"
   },
   {
    "duration": 52,
    "start_time": "2022-10-18T15:17:06.616Z"
   },
   {
    "duration": 9,
    "start_time": "2022-10-18T16:26:35.633Z"
   },
   {
    "duration": 10,
    "start_time": "2022-10-18T16:26:42.447Z"
   },
   {
    "duration": 19,
    "start_time": "2022-10-18T16:26:49.210Z"
   },
   {
    "duration": 95,
    "start_time": "2022-10-18T16:45:50.126Z"
   },
   {
    "duration": 156,
    "start_time": "2022-10-18T16:50:09.377Z"
   },
   {
    "duration": 73,
    "start_time": "2022-10-18T16:55:34.265Z"
   },
   {
    "duration": 277,
    "start_time": "2022-10-18T16:55:48.245Z"
   },
   {
    "duration": 72,
    "start_time": "2022-10-18T17:02:26.539Z"
   },
   {
    "duration": 292,
    "start_time": "2022-10-18T17:02:44.552Z"
   },
   {
    "duration": 302,
    "start_time": "2022-10-18T17:04:32.133Z"
   },
   {
    "duration": 15,
    "start_time": "2022-10-18T17:16:25.219Z"
   },
   {
    "duration": 473,
    "start_time": "2022-10-18T17:16:43.434Z"
   },
   {
    "duration": 504,
    "start_time": "2022-10-18T17:40:59.791Z"
   },
   {
    "duration": 462,
    "start_time": "2022-10-18T17:41:31.251Z"
   },
   {
    "duration": 442,
    "start_time": "2022-10-18T17:41:35.825Z"
   },
   {
    "duration": 501,
    "start_time": "2022-10-18T17:42:36.598Z"
   },
   {
    "duration": 488,
    "start_time": "2022-10-18T17:42:52.592Z"
   },
   {
    "duration": 431,
    "start_time": "2022-10-18T17:43:48.329Z"
   },
   {
    "duration": 612,
    "start_time": "2022-10-18T17:47:39.651Z"
   },
   {
    "duration": 653,
    "start_time": "2022-10-18T17:51:09.243Z"
   },
   {
    "duration": 656,
    "start_time": "2022-10-18T17:52:05.858Z"
   },
   {
    "duration": 656,
    "start_time": "2022-10-18T17:53:25.453Z"
   },
   {
    "duration": 757,
    "start_time": "2022-10-18T17:53:35.938Z"
   },
   {
    "duration": 641,
    "start_time": "2022-10-18T17:56:00.529Z"
   },
   {
    "duration": 763,
    "start_time": "2022-10-18T17:58:36.015Z"
   },
   {
    "duration": 629,
    "start_time": "2022-10-18T18:00:58.659Z"
   },
   {
    "duration": 632,
    "start_time": "2022-10-18T18:02:57.386Z"
   },
   {
    "duration": 617,
    "start_time": "2022-10-18T18:03:37.865Z"
   },
   {
    "duration": 620,
    "start_time": "2022-10-18T18:03:53.109Z"
   },
   {
    "duration": 665,
    "start_time": "2022-10-18T18:05:12.524Z"
   },
   {
    "duration": 678,
    "start_time": "2022-10-18T18:05:18.048Z"
   },
   {
    "duration": 638,
    "start_time": "2022-10-18T18:05:35.113Z"
   },
   {
    "duration": 665,
    "start_time": "2022-10-18T18:05:41.990Z"
   },
   {
    "duration": 756,
    "start_time": "2022-10-18T18:29:45.231Z"
   },
   {
    "duration": 632,
    "start_time": "2022-10-18T18:29:51.958Z"
   },
   {
    "duration": 716,
    "start_time": "2022-10-18T19:22:02.121Z"
   },
   {
    "duration": 946,
    "start_time": "2022-10-18T19:26:08.519Z"
   },
   {
    "duration": 1041,
    "start_time": "2022-10-18T19:29:35.921Z"
   },
   {
    "duration": 1050,
    "start_time": "2022-10-18T19:30:55.975Z"
   },
   {
    "duration": 999,
    "start_time": "2022-10-18T19:31:28.824Z"
   },
   {
    "duration": 1084,
    "start_time": "2022-10-18T19:31:44.224Z"
   },
   {
    "duration": 1046,
    "start_time": "2022-10-18T19:31:52.791Z"
   },
   {
    "duration": 1121,
    "start_time": "2022-10-18T19:32:06.035Z"
   },
   {
    "duration": 1454,
    "start_time": "2022-10-18T19:35:47.720Z"
   },
   {
    "duration": 1427,
    "start_time": "2022-10-18T19:36:02.558Z"
   },
   {
    "duration": 1441,
    "start_time": "2022-10-18T19:36:15.591Z"
   },
   {
    "duration": 1345,
    "start_time": "2022-10-18T19:37:10.127Z"
   },
   {
    "duration": 1559,
    "start_time": "2022-10-18T19:38:56.104Z"
   },
   {
    "duration": 1332,
    "start_time": "2022-10-18T19:40:18.042Z"
   },
   {
    "duration": 1424,
    "start_time": "2022-10-18T19:42:22.572Z"
   },
   {
    "duration": 1552,
    "start_time": "2022-10-18T19:42:36.746Z"
   },
   {
    "duration": 1362,
    "start_time": "2022-10-18T19:42:43.833Z"
   },
   {
    "duration": 1350,
    "start_time": "2022-10-18T19:44:53.206Z"
   },
   {
    "duration": 1479,
    "start_time": "2022-10-18T19:45:23.893Z"
   },
   {
    "duration": 1329,
    "start_time": "2022-10-18T19:47:21.139Z"
   },
   {
    "duration": 1346,
    "start_time": "2022-10-18T19:47:40.530Z"
   },
   {
    "duration": 1415,
    "start_time": "2022-10-18T19:48:49.142Z"
   },
   {
    "duration": 1367,
    "start_time": "2022-10-18T19:49:31.995Z"
   },
   {
    "duration": 1064,
    "start_time": "2022-10-18T19:50:47.646Z"
   },
   {
    "duration": 1058,
    "start_time": "2022-10-18T19:50:52.778Z"
   },
   {
    "duration": 1527,
    "start_time": "2022-10-18T19:52:01.130Z"
   },
   {
    "duration": 1038,
    "start_time": "2022-10-18T19:53:52.380Z"
   },
   {
    "duration": 1042,
    "start_time": "2022-10-18T19:54:12.884Z"
   },
   {
    "duration": 4,
    "start_time": "2022-10-18T19:54:43.424Z"
   },
   {
    "duration": 1488,
    "start_time": "2022-10-18T19:54:52.757Z"
   },
   {
    "duration": 1032,
    "start_time": "2022-10-18T19:55:14.908Z"
   },
   {
    "duration": 1008,
    "start_time": "2022-10-18T19:57:39.303Z"
   },
   {
    "duration": 1319,
    "start_time": "2022-10-18T19:57:46.787Z"
   },
   {
    "duration": 1551,
    "start_time": "2022-10-18T20:02:11.394Z"
   },
   {
    "duration": 1424,
    "start_time": "2022-10-18T20:02:34.750Z"
   },
   {
    "duration": 1531,
    "start_time": "2022-10-18T20:11:18.359Z"
   },
   {
    "duration": 1755,
    "start_time": "2022-10-18T20:12:24.864Z"
   },
   {
    "duration": 1609,
    "start_time": "2022-10-18T20:20:06.952Z"
   },
   {
    "duration": 5,
    "start_time": "2022-10-18T20:48:03.715Z"
   },
   {
    "duration": 1185,
    "start_time": "2022-10-19T15:00:54.650Z"
   },
   {
    "duration": 4,
    "start_time": "2022-10-19T15:00:55.837Z"
   },
   {
    "duration": 741,
    "start_time": "2022-10-19T15:00:55.842Z"
   },
   {
    "duration": 32,
    "start_time": "2022-10-19T15:00:56.585Z"
   },
   {
    "duration": 3,
    "start_time": "2022-10-19T15:00:56.619Z"
   },
   {
    "duration": 76,
    "start_time": "2022-10-19T15:00:56.623Z"
   },
   {
    "duration": 33,
    "start_time": "2022-10-19T15:00:56.700Z"
   },
   {
    "duration": 6,
    "start_time": "2022-10-19T15:00:56.735Z"
   },
   {
    "duration": 337,
    "start_time": "2022-10-19T15:00:56.743Z"
   },
   {
    "duration": 568,
    "start_time": "2022-10-19T15:00:57.082Z"
   },
   {
    "duration": 21,
    "start_time": "2022-10-19T15:00:57.651Z"
   },
   {
    "duration": 3,
    "start_time": "2022-10-19T15:00:57.673Z"
   },
   {
    "duration": 330,
    "start_time": "2022-10-19T15:00:57.677Z"
   },
   {
    "duration": 5,
    "start_time": "2022-10-19T15:00:58.008Z"
   },
   {
    "duration": 125,
    "start_time": "2022-10-19T15:00:58.021Z"
   },
   {
    "duration": 85,
    "start_time": "2022-10-19T15:00:58.147Z"
   },
   {
    "duration": 13,
    "start_time": "2022-10-19T15:00:58.234Z"
   },
   {
    "duration": 59,
    "start_time": "2022-10-19T15:00:58.249Z"
   },
   {
    "duration": 1434,
    "start_time": "2022-10-19T15:00:58.310Z"
   },
   {
    "duration": 285,
    "start_time": "2022-10-19T16:35:48.525Z"
   },
   {
    "duration": 89,
    "start_time": "2022-10-19T16:41:21.413Z"
   },
   {
    "duration": 1574,
    "start_time": "2022-10-19T16:41:36.995Z"
   },
   {
    "duration": 312,
    "start_time": "2022-10-19T16:44:33.027Z"
   },
   {
    "duration": 294,
    "start_time": "2022-10-19T16:44:44.847Z"
   },
   {
    "duration": 88,
    "start_time": "2022-10-19T16:54:12.604Z"
   },
   {
    "duration": 9,
    "start_time": "2022-10-19T16:54:27.659Z"
   },
   {
    "duration": 10,
    "start_time": "2022-10-19T16:54:42.265Z"
   },
   {
    "duration": 4,
    "start_time": "2022-10-19T16:54:51.337Z"
   },
   {
    "duration": 80,
    "start_time": "2022-10-19T16:55:10.387Z"
   },
   {
    "duration": 3,
    "start_time": "2022-10-19T16:55:15.756Z"
   },
   {
    "duration": 9,
    "start_time": "2022-10-19T16:55:23.167Z"
   },
   {
    "duration": 3,
    "start_time": "2022-10-19T16:55:39.608Z"
   },
   {
    "duration": 16,
    "start_time": "2022-10-19T16:55:54.932Z"
   },
   {
    "duration": 4,
    "start_time": "2022-10-19T16:56:06.712Z"
   },
   {
    "duration": 4,
    "start_time": "2022-10-19T16:56:12.099Z"
   },
   {
    "duration": 3,
    "start_time": "2022-10-19T16:56:34.807Z"
   },
   {
    "duration": 3,
    "start_time": "2022-10-19T16:56:41.113Z"
   },
   {
    "duration": 4,
    "start_time": "2022-10-19T16:56:45.948Z"
   },
   {
    "duration": 3,
    "start_time": "2022-10-19T16:56:48.267Z"
   },
   {
    "duration": 85,
    "start_time": "2022-10-19T16:57:24.090Z"
   },
   {
    "duration": 72,
    "start_time": "2022-10-19T16:57:24.717Z"
   },
   {
    "duration": 65,
    "start_time": "2022-10-19T16:57:25.448Z"
   },
   {
    "duration": 4,
    "start_time": "2022-10-19T16:57:28.988Z"
   },
   {
    "duration": 4,
    "start_time": "2022-10-19T16:57:31.365Z"
   },
   {
    "duration": 4,
    "start_time": "2022-10-19T16:57:33.302Z"
   },
   {
    "duration": 10,
    "start_time": "2022-10-19T16:57:53.903Z"
   },
   {
    "duration": 10,
    "start_time": "2022-10-19T16:58:36.360Z"
   },
   {
    "duration": 9,
    "start_time": "2022-10-19T16:58:49.706Z"
   },
   {
    "duration": 10,
    "start_time": "2022-10-19T16:59:46.606Z"
   },
   {
    "duration": 10,
    "start_time": "2022-10-19T17:00:05.437Z"
   },
   {
    "duration": 12,
    "start_time": "2022-10-19T17:00:12.524Z"
   },
   {
    "duration": 5,
    "start_time": "2022-10-19T17:00:18.679Z"
   },
   {
    "duration": 6,
    "start_time": "2022-10-19T17:00:32.411Z"
   },
   {
    "duration": 4,
    "start_time": "2022-10-19T17:04:35.569Z"
   },
   {
    "duration": 11,
    "start_time": "2022-10-19T17:06:58.742Z"
   },
   {
    "duration": 4,
    "start_time": "2022-10-19T17:07:57.949Z"
   },
   {
    "duration": 4,
    "start_time": "2022-10-19T17:09:11.969Z"
   },
   {
    "duration": 4,
    "start_time": "2022-10-19T17:10:45.897Z"
   },
   {
    "duration": 5,
    "start_time": "2022-10-19T17:10:49.992Z"
   },
   {
    "duration": 1145,
    "start_time": "2022-10-19T17:19:08.861Z"
   },
   {
    "duration": 1719,
    "start_time": "2022-10-19T17:19:20.421Z"
   },
   {
    "duration": 40,
    "start_time": "2022-10-19T17:19:37.714Z"
   },
   {
    "duration": 33,
    "start_time": "2022-10-19T17:19:39.067Z"
   },
   {
    "duration": 17,
    "start_time": "2022-10-19T17:19:45.376Z"
   },
   {
    "duration": 1006,
    "start_time": "2022-10-19T17:20:01.283Z"
   },
   {
    "duration": 3,
    "start_time": "2022-10-19T17:20:02.291Z"
   },
   {
    "duration": 162,
    "start_time": "2022-10-19T17:20:02.296Z"
   },
   {
    "duration": 30,
    "start_time": "2022-10-19T17:20:02.460Z"
   },
   {
    "duration": 8,
    "start_time": "2022-10-19T17:20:02.491Z"
   },
   {
    "duration": 80,
    "start_time": "2022-10-19T17:20:02.500Z"
   },
   {
    "duration": 27,
    "start_time": "2022-10-19T17:20:02.581Z"
   },
   {
    "duration": 23,
    "start_time": "2022-10-19T17:20:02.610Z"
   },
   {
    "duration": 348,
    "start_time": "2022-10-19T17:20:02.634Z"
   },
   {
    "duration": 47,
    "start_time": "2022-10-19T17:20:02.985Z"
   },
   {
    "duration": 529,
    "start_time": "2022-10-19T17:20:03.033Z"
   },
   {
    "duration": 36,
    "start_time": "2022-10-19T17:20:03.564Z"
   },
   {
    "duration": 300,
    "start_time": "2022-10-19T17:20:03.602Z"
   },
   {
    "duration": 4,
    "start_time": "2022-10-19T17:20:03.904Z"
   },
   {
    "duration": 176,
    "start_time": "2022-10-19T17:20:03.909Z"
   },
   {
    "duration": 76,
    "start_time": "2022-10-19T17:20:04.086Z"
   },
   {
    "duration": 14,
    "start_time": "2022-10-19T17:20:04.163Z"
   },
   {
    "duration": 47,
    "start_time": "2022-10-19T17:20:04.178Z"
   },
   {
    "duration": 1524,
    "start_time": "2022-10-19T17:20:04.227Z"
   },
   {
    "duration": 341,
    "start_time": "2022-10-19T17:20:05.753Z"
   },
   {
    "duration": 6,
    "start_time": "2022-10-19T17:20:06.095Z"
   },
   {
    "duration": 673,
    "start_time": "2022-10-19T17:34:05.263Z"
   },
   {
    "duration": 1720,
    "start_time": "2022-10-19T17:34:16.379Z"
   },
   {
    "duration": 1593,
    "start_time": "2022-10-19T17:34:29.789Z"
   },
   {
    "duration": 9,
    "start_time": "2022-10-19T17:35:06.479Z"
   },
   {
    "duration": 1535,
    "start_time": "2022-10-19T17:35:38.433Z"
   },
   {
    "duration": 15,
    "start_time": "2022-10-19T17:35:41.491Z"
   },
   {
    "duration": 1379,
    "start_time": "2022-10-19T17:37:43.434Z"
   },
   {
    "duration": 299,
    "start_time": "2022-10-19T17:37:57.923Z"
   },
   {
    "duration": 970,
    "start_time": "2022-10-19T17:38:24.449Z"
   },
   {
    "duration": 1028,
    "start_time": "2022-10-19T17:41:57.533Z"
   },
   {
    "duration": 1624,
    "start_time": "2022-10-19T17:43:07.609Z"
   },
   {
    "duration": 1769,
    "start_time": "2022-10-19T17:43:19.836Z"
   },
   {
    "duration": 1596,
    "start_time": "2022-10-19T17:43:27.620Z"
   },
   {
    "duration": 1761,
    "start_time": "2022-10-19T17:43:46.438Z"
   },
   {
    "duration": 1770,
    "start_time": "2022-10-19T17:47:37.879Z"
   },
   {
    "duration": 1843,
    "start_time": "2022-10-19T17:48:11.654Z"
   },
   {
    "duration": 1663,
    "start_time": "2022-10-19T17:48:50.565Z"
   },
   {
    "duration": 1946,
    "start_time": "2022-10-19T17:49:00.444Z"
   },
   {
    "duration": 1936,
    "start_time": "2022-10-19T17:49:54.289Z"
   },
   {
    "duration": 1690,
    "start_time": "2022-10-19T17:50:13.668Z"
   },
   {
    "duration": 2101,
    "start_time": "2022-10-19T17:50:18.010Z"
   },
   {
    "duration": 1952,
    "start_time": "2022-10-19T17:52:16.763Z"
   },
   {
    "duration": 1805,
    "start_time": "2022-10-19T18:10:11.347Z"
   },
   {
    "duration": 11,
    "start_time": "2022-10-19T18:32:47.986Z"
   },
   {
    "duration": 48,
    "start_time": "2022-10-19T18:55:38.273Z"
   },
   {
    "duration": 3,
    "start_time": "2022-10-19T18:55:39.948Z"
   },
   {
    "duration": 49,
    "start_time": "2022-10-19T19:25:49.480Z"
   },
   {
    "duration": 5,
    "start_time": "2022-10-19T19:26:11.147Z"
   },
   {
    "duration": 64,
    "start_time": "2022-10-19T19:31:49.733Z"
   },
   {
    "duration": 65,
    "start_time": "2022-10-19T19:31:59.795Z"
   },
   {
    "duration": 4,
    "start_time": "2022-10-19T19:32:25.385Z"
   },
   {
    "duration": 6,
    "start_time": "2022-10-19T19:32:31.309Z"
   },
   {
    "duration": 5,
    "start_time": "2022-10-19T19:33:21.424Z"
   },
   {
    "duration": 6,
    "start_time": "2022-10-19T19:33:54.754Z"
   },
   {
    "duration": 6,
    "start_time": "2022-10-19T19:34:07.869Z"
   },
   {
    "duration": 74,
    "start_time": "2022-10-19T19:34:10.466Z"
   },
   {
    "duration": 9,
    "start_time": "2022-10-19T19:34:23.086Z"
   },
   {
    "duration": 131,
    "start_time": "2022-10-19T19:34:24.952Z"
   },
   {
    "duration": 8,
    "start_time": "2022-10-19T19:34:46.424Z"
   },
   {
    "duration": 105,
    "start_time": "2022-10-19T19:34:48.153Z"
   },
   {
    "duration": 6,
    "start_time": "2022-10-19T19:35:13.198Z"
   },
   {
    "duration": 108,
    "start_time": "2022-10-19T19:35:15.463Z"
   },
   {
    "duration": 7,
    "start_time": "2022-10-19T19:35:37.755Z"
   },
   {
    "duration": 122,
    "start_time": "2022-10-19T19:35:39.390Z"
   },
   {
    "duration": 108,
    "start_time": "2022-10-19T19:35:51.599Z"
   },
   {
    "duration": 136,
    "start_time": "2022-10-19T19:35:56.026Z"
   },
   {
    "duration": 108,
    "start_time": "2022-10-19T19:36:01.071Z"
   },
   {
    "duration": 7,
    "start_time": "2022-10-19T19:36:12.472Z"
   },
   {
    "duration": 110,
    "start_time": "2022-10-19T19:36:14.281Z"
   },
   {
    "duration": 6,
    "start_time": "2022-10-19T19:43:24.429Z"
   },
   {
    "duration": 105,
    "start_time": "2022-10-19T19:43:25.071Z"
   },
   {
    "duration": 113,
    "start_time": "2022-10-19T19:43:30.760Z"
   },
   {
    "duration": 138,
    "start_time": "2022-10-19T19:43:38.761Z"
   },
   {
    "duration": 130,
    "start_time": "2022-10-19T19:43:43.020Z"
   },
   {
    "duration": 49,
    "start_time": "2022-10-20T08:19:56.194Z"
   },
   {
    "duration": 1413,
    "start_time": "2022-10-20T08:20:00.112Z"
   },
   {
    "duration": 5,
    "start_time": "2022-10-20T08:20:01.529Z"
   },
   {
    "duration": 548,
    "start_time": "2022-10-20T08:20:01.537Z"
   },
   {
    "duration": 33,
    "start_time": "2022-10-20T08:20:02.087Z"
   },
   {
    "duration": 10,
    "start_time": "2022-10-20T08:20:02.122Z"
   },
   {
    "duration": 108,
    "start_time": "2022-10-20T08:20:02.133Z"
   },
   {
    "duration": 35,
    "start_time": "2022-10-20T08:20:02.243Z"
   },
   {
    "duration": 27,
    "start_time": "2022-10-20T08:20:02.280Z"
   },
   {
    "duration": 495,
    "start_time": "2022-10-20T08:20:02.309Z"
   },
   {
    "duration": 52,
    "start_time": "2022-10-20T08:20:02.807Z"
   },
   {
    "duration": 631,
    "start_time": "2022-10-20T08:20:02.861Z"
   },
   {
    "duration": 44,
    "start_time": "2022-10-20T08:20:03.495Z"
   },
   {
    "duration": 358,
    "start_time": "2022-10-20T08:20:03.554Z"
   },
   {
    "duration": 5,
    "start_time": "2022-10-20T08:20:03.914Z"
   },
   {
    "duration": 222,
    "start_time": "2022-10-20T08:20:03.921Z"
   },
   {
    "duration": 94,
    "start_time": "2022-10-20T08:20:04.144Z"
   },
   {
    "duration": 26,
    "start_time": "2022-10-20T08:20:04.240Z"
   },
   {
    "duration": 70,
    "start_time": "2022-10-20T08:20:04.268Z"
   },
   {
    "duration": 2184,
    "start_time": "2022-10-20T08:20:04.340Z"
   },
   {
    "duration": 2244,
    "start_time": "2022-10-20T08:20:06.526Z"
   },
   {
    "duration": 344,
    "start_time": "2022-10-20T08:20:08.772Z"
   },
   {
    "duration": 5,
    "start_time": "2022-10-20T08:20:09.118Z"
   },
   {
    "duration": 11,
    "start_time": "2022-10-20T08:20:09.125Z"
   },
   {
    "duration": 142,
    "start_time": "2022-10-20T08:20:09.138Z"
   },
   {
    "duration": 128,
    "start_time": "2022-10-20T08:22:52.937Z"
   },
   {
    "duration": 114,
    "start_time": "2022-10-20T08:23:55.837Z"
   },
   {
    "duration": 73,
    "start_time": "2022-10-20T08:25:59.705Z"
   },
   {
    "duration": 173,
    "start_time": "2022-10-20T08:26:07.594Z"
   },
   {
    "duration": 178,
    "start_time": "2022-10-20T08:26:15.714Z"
   },
   {
    "duration": 168,
    "start_time": "2022-10-20T08:27:29.458Z"
   },
   {
    "duration": 174,
    "start_time": "2022-10-20T08:27:36.474Z"
   },
   {
    "duration": 187,
    "start_time": "2022-10-20T08:27:40.602Z"
   },
   {
    "duration": 194,
    "start_time": "2022-10-20T08:27:43.937Z"
   },
   {
    "duration": 184,
    "start_time": "2022-10-20T08:27:52.098Z"
   },
   {
    "duration": 8,
    "start_time": "2022-10-20T08:38:26.860Z"
   },
   {
    "duration": 147,
    "start_time": "2022-10-20T08:38:31.373Z"
   },
   {
    "duration": 7,
    "start_time": "2022-10-20T08:40:18.229Z"
   },
   {
    "duration": 124,
    "start_time": "2022-10-20T08:40:19.222Z"
   },
   {
    "duration": 129,
    "start_time": "2022-10-20T08:40:24.820Z"
   },
   {
    "duration": 125,
    "start_time": "2022-10-20T08:40:27.293Z"
   },
   {
    "duration": 170,
    "start_time": "2022-10-20T08:40:31.248Z"
   },
   {
    "duration": 6,
    "start_time": "2022-10-20T08:45:24.390Z"
   },
   {
    "duration": 8,
    "start_time": "2022-10-20T08:45:50.334Z"
   },
   {
    "duration": 20,
    "start_time": "2022-10-20T11:08:42.810Z"
   },
   {
    "duration": 16,
    "start_time": "2022-10-20T11:08:53.698Z"
   },
   {
    "duration": 45,
    "start_time": "2022-10-20T11:14:38.914Z"
   },
   {
    "duration": 60,
    "start_time": "2022-10-20T11:14:50.683Z"
   },
   {
    "duration": 11,
    "start_time": "2022-10-20T11:14:54.114Z"
   },
   {
    "duration": 13,
    "start_time": "2022-10-20T11:14:59.331Z"
   },
   {
    "duration": 35,
    "start_time": "2022-10-20T11:15:36.155Z"
   },
   {
    "duration": 48,
    "start_time": "2022-10-20T11:16:43.835Z"
   },
   {
    "duration": 61,
    "start_time": "2022-10-20T11:16:53.963Z"
   },
   {
    "duration": 79,
    "start_time": "2022-10-20T11:17:50.363Z"
   },
   {
    "duration": 65,
    "start_time": "2022-10-20T11:18:35.468Z"
   },
   {
    "duration": 47,
    "start_time": "2022-10-20T11:18:54.061Z"
   },
   {
    "duration": 64,
    "start_time": "2022-10-20T11:18:59.108Z"
   },
   {
    "duration": 64,
    "start_time": "2022-10-20T11:19:13.196Z"
   },
   {
    "duration": 61,
    "start_time": "2022-10-20T11:19:23.292Z"
   },
   {
    "duration": 66,
    "start_time": "2022-10-20T11:19:34.283Z"
   },
   {
    "duration": 5414,
    "start_time": "2022-10-20T11:19:58.020Z"
   },
   {
    "duration": 4976,
    "start_time": "2022-10-20T11:20:51.188Z"
   },
   {
    "duration": 0,
    "start_time": "2022-10-20T11:23:31.887Z"
   },
   {
    "duration": 5077,
    "start_time": "2022-10-20T11:23:33.764Z"
   },
   {
    "duration": 4781,
    "start_time": "2022-10-20T11:25:33.325Z"
   },
   {
    "duration": 5208,
    "start_time": "2022-10-20T11:26:08.957Z"
   },
   {
    "duration": 4880,
    "start_time": "2022-10-20T11:26:53.853Z"
   },
   {
    "duration": 5013,
    "start_time": "2022-10-20T11:27:04.646Z"
   },
   {
    "duration": 4993,
    "start_time": "2022-10-20T11:27:19.133Z"
   },
   {
    "duration": 4848,
    "start_time": "2022-10-20T11:27:27.206Z"
   },
   {
    "duration": 5017,
    "start_time": "2022-10-20T11:29:44.590Z"
   },
   {
    "duration": 4692,
    "start_time": "2022-10-20T11:32:18.934Z"
   },
   {
    "duration": 4953,
    "start_time": "2022-10-20T11:32:28.614Z"
   },
   {
    "duration": 5091,
    "start_time": "2022-10-20T11:33:02.351Z"
   },
   {
    "duration": 5076,
    "start_time": "2022-10-20T11:33:17.294Z"
   },
   {
    "duration": 5380,
    "start_time": "2022-10-20T11:35:49.760Z"
   },
   {
    "duration": 5278,
    "start_time": "2022-10-20T11:36:11.831Z"
   },
   {
    "duration": 69,
    "start_time": "2022-10-20T11:39:42.726Z"
   },
   {
    "duration": 66,
    "start_time": "2022-10-20T11:39:58.504Z"
   },
   {
    "duration": 11,
    "start_time": "2022-10-20T11:40:15.078Z"
   },
   {
    "duration": 66,
    "start_time": "2022-10-20T11:40:31.136Z"
   },
   {
    "duration": 25,
    "start_time": "2022-10-20T11:40:56.536Z"
   },
   {
    "duration": 74,
    "start_time": "2022-10-20T11:41:38.985Z"
   },
   {
    "duration": 10,
    "start_time": "2022-10-20T11:41:42.759Z"
   },
   {
    "duration": 70,
    "start_time": "2022-10-20T11:42:02.191Z"
   },
   {
    "duration": 13456,
    "start_time": "2022-10-20T11:42:11.129Z"
   },
   {
    "duration": 14084,
    "start_time": "2022-10-20T11:43:10.752Z"
   },
   {
    "duration": 6076,
    "start_time": "2022-10-20T11:43:45.679Z"
   },
   {
    "duration": 14335,
    "start_time": "2022-10-20T11:43:56.159Z"
   },
   {
    "duration": 14104,
    "start_time": "2022-10-20T11:44:17.486Z"
   },
   {
    "duration": 14778,
    "start_time": "2022-10-20T11:44:41.248Z"
   },
   {
    "duration": 6698,
    "start_time": "2022-10-20T11:45:32.728Z"
   },
   {
    "duration": 782,
    "start_time": "2022-10-20T11:45:51.376Z"
   },
   {
    "duration": 14601,
    "start_time": "2022-10-20T11:46:04.440Z"
   },
   {
    "duration": 49,
    "start_time": "2022-10-20T11:46:51.801Z"
   },
   {
    "duration": 65,
    "start_time": "2022-10-20T11:47:02.600Z"
   },
   {
    "duration": 1240,
    "start_time": "2022-10-20T11:47:35.635Z"
   },
   {
    "duration": 7,
    "start_time": "2022-10-20T11:47:36.878Z"
   },
   {
    "duration": 174,
    "start_time": "2022-10-20T11:47:36.886Z"
   },
   {
    "duration": 36,
    "start_time": "2022-10-20T11:47:37.062Z"
   },
   {
    "duration": 3,
    "start_time": "2022-10-20T11:47:37.099Z"
   },
   {
    "duration": 105,
    "start_time": "2022-10-20T11:47:37.104Z"
   },
   {
    "duration": 44,
    "start_time": "2022-10-20T11:47:37.211Z"
   },
   {
    "duration": 10,
    "start_time": "2022-10-20T11:47:37.257Z"
   },
   {
    "duration": 437,
    "start_time": "2022-10-20T11:47:37.269Z"
   },
   {
    "duration": 53,
    "start_time": "2022-10-20T11:47:37.708Z"
   },
   {
    "duration": 664,
    "start_time": "2022-10-20T11:47:37.763Z"
   },
   {
    "duration": 54,
    "start_time": "2022-10-20T11:47:38.428Z"
   },
   {
    "duration": 393,
    "start_time": "2022-10-20T11:47:38.484Z"
   },
   {
    "duration": 6,
    "start_time": "2022-10-20T11:47:38.878Z"
   },
   {
    "duration": 239,
    "start_time": "2022-10-20T11:47:38.886Z"
   },
   {
    "duration": 171,
    "start_time": "2022-10-20T11:47:39.127Z"
   },
   {
    "duration": 4504,
    "start_time": "2022-10-20T11:47:57.781Z"
   },
   {
    "duration": 12734,
    "start_time": "2022-10-20T11:48:02.287Z"
   },
   {
    "duration": 14335,
    "start_time": "2022-10-20T11:48:21.429Z"
   },
   {
    "duration": 12856,
    "start_time": "2022-10-20T11:49:04.430Z"
   },
   {
    "duration": 214,
    "start_time": "2022-10-20T11:50:13.911Z"
   },
   {
    "duration": 14937,
    "start_time": "2022-10-20T11:50:19.109Z"
   },
   {
    "duration": 0,
    "start_time": "2022-10-20T11:54:30.038Z"
   },
   {
    "duration": 15300,
    "start_time": "2022-10-20T11:54:43.605Z"
   },
   {
    "duration": 75,
    "start_time": "2022-10-20T11:55:30.624Z"
   },
   {
    "duration": 12887,
    "start_time": "2022-10-20T11:55:43.598Z"
   },
   {
    "duration": 15345,
    "start_time": "2022-10-20T11:56:10.215Z"
   },
   {
    "duration": 16039,
    "start_time": "2022-10-20T11:57:00.398Z"
   },
   {
    "duration": 13948,
    "start_time": "2022-10-20T11:57:33.480Z"
   },
   {
    "duration": 6116,
    "start_time": "2022-10-20T11:58:09.519Z"
   },
   {
    "duration": 5733,
    "start_time": "2022-10-20T12:00:06.056Z"
   },
   {
    "duration": 5193,
    "start_time": "2022-10-20T12:01:09.706Z"
   },
   {
    "duration": 5019,
    "start_time": "2022-10-20T12:01:51.385Z"
   },
   {
    "duration": 15,
    "start_time": "2022-10-20T12:02:01.711Z"
   },
   {
    "duration": 5473,
    "start_time": "2022-10-20T12:02:31.515Z"
   },
   {
    "duration": 110,
    "start_time": "2022-10-20T12:03:04.797Z"
   },
   {
    "duration": 620,
    "start_time": "2022-10-20T12:03:14.268Z"
   },
   {
    "duration": 11,
    "start_time": "2022-10-20T12:03:33.516Z"
   },
   {
    "duration": 104,
    "start_time": "2022-10-20T12:03:40.781Z"
   },
   {
    "duration": 147,
    "start_time": "2022-10-20T12:04:39.792Z"
   },
   {
    "duration": 92,
    "start_time": "2022-10-20T12:04:49.872Z"
   },
   {
    "duration": 195,
    "start_time": "2022-10-20T12:04:57.841Z"
   },
   {
    "duration": 141,
    "start_time": "2022-10-20T12:05:13.800Z"
   },
   {
    "duration": 4994,
    "start_time": "2022-10-20T12:06:01.073Z"
   },
   {
    "duration": 5150,
    "start_time": "2022-10-20T12:06:25.464Z"
   },
   {
    "duration": 14530,
    "start_time": "2022-10-20T12:06:48.872Z"
   },
   {
    "duration": 267,
    "start_time": "2022-10-20T12:08:01.330Z"
   },
   {
    "duration": 218,
    "start_time": "2022-10-20T12:08:14.897Z"
   },
   {
    "duration": 217,
    "start_time": "2022-10-20T12:08:22.481Z"
   },
   {
    "duration": 69,
    "start_time": "2022-10-20T12:08:34.978Z"
   },
   {
    "duration": 296,
    "start_time": "2022-10-20T12:10:11.546Z"
   },
   {
    "duration": 138,
    "start_time": "2022-10-20T12:11:46.129Z"
   },
   {
    "duration": 74,
    "start_time": "2022-10-20T12:11:55.098Z"
   },
   {
    "duration": 228,
    "start_time": "2022-10-20T12:12:08.994Z"
   },
   {
    "duration": 70,
    "start_time": "2022-10-20T12:13:06.162Z"
   },
   {
    "duration": 230,
    "start_time": "2022-10-20T12:13:14.218Z"
   },
   {
    "duration": 112,
    "start_time": "2022-10-20T12:13:45.538Z"
   },
   {
    "duration": 238,
    "start_time": "2022-10-20T12:13:55.922Z"
   },
   {
    "duration": 83,
    "start_time": "2022-10-20T12:14:35.939Z"
   },
   {
    "duration": 230,
    "start_time": "2022-10-20T12:15:05.765Z"
   },
   {
    "duration": 88,
    "start_time": "2022-10-20T12:15:50.114Z"
   },
   {
    "duration": 507,
    "start_time": "2022-10-20T12:16:03.796Z"
   },
   {
    "duration": 86,
    "start_time": "2022-10-20T12:16:11.517Z"
   },
   {
    "duration": 219,
    "start_time": "2022-10-20T12:16:27.450Z"
   },
   {
    "duration": 283,
    "start_time": "2022-10-20T12:16:50.342Z"
   },
   {
    "duration": 310,
    "start_time": "2022-10-20T12:49:34.781Z"
   },
   {
    "duration": 239,
    "start_time": "2022-10-20T12:49:50.828Z"
   },
   {
    "duration": 87,
    "start_time": "2022-10-20T12:53:33.925Z"
   },
   {
    "duration": 81,
    "start_time": "2022-10-20T12:53:38.526Z"
   },
   {
    "duration": 267,
    "start_time": "2022-10-20T12:53:47.530Z"
   },
   {
    "duration": 319,
    "start_time": "2022-10-20T12:53:50.873Z"
   },
   {
    "duration": 4,
    "start_time": "2022-10-20T12:57:42.744Z"
   },
   {
    "duration": 15,
    "start_time": "2022-10-20T12:57:42.750Z"
   },
   {
    "duration": 186,
    "start_time": "2022-10-20T12:57:42.767Z"
   },
   {
    "duration": 31,
    "start_time": "2022-10-20T12:57:42.955Z"
   },
   {
    "duration": 3,
    "start_time": "2022-10-20T12:57:42.988Z"
   },
   {
    "duration": 94,
    "start_time": "2022-10-20T12:57:42.993Z"
   },
   {
    "duration": 28,
    "start_time": "2022-10-20T12:57:43.089Z"
   },
   {
    "duration": 8,
    "start_time": "2022-10-20T12:57:43.119Z"
   },
   {
    "duration": 374,
    "start_time": "2022-10-20T12:57:43.130Z"
   },
   {
    "duration": 49,
    "start_time": "2022-10-20T12:57:43.506Z"
   },
   {
    "duration": 570,
    "start_time": "2022-10-20T12:57:43.557Z"
   },
   {
    "duration": 43,
    "start_time": "2022-10-20T12:57:44.129Z"
   },
   {
    "duration": 369,
    "start_time": "2022-10-20T12:57:44.173Z"
   },
   {
    "duration": 12,
    "start_time": "2022-10-20T12:57:44.543Z"
   },
   {
    "duration": 227,
    "start_time": "2022-10-20T12:57:44.556Z"
   },
   {
    "duration": 227,
    "start_time": "2022-10-20T12:57:44.784Z"
   },
   {
    "duration": 327,
    "start_time": "2022-10-20T12:57:45.012Z"
   },
   {
    "duration": 94,
    "start_time": "2022-10-20T12:57:45.341Z"
   },
   {
    "duration": 28,
    "start_time": "2022-10-20T12:57:45.437Z"
   },
   {
    "duration": 52,
    "start_time": "2022-10-20T12:57:45.467Z"
   },
   {
    "duration": 2305,
    "start_time": "2022-10-20T12:57:45.521Z"
   },
   {
    "duration": 2433,
    "start_time": "2022-10-20T12:57:47.828Z"
   },
   {
    "duration": 16,
    "start_time": "2022-10-20T12:58:19.512Z"
   },
   {
    "duration": 14,
    "start_time": "2022-10-20T13:01:37.452Z"
   },
   {
    "duration": 18,
    "start_time": "2022-10-20T13:02:03.984Z"
   },
   {
    "duration": 22,
    "start_time": "2022-10-20T13:02:50.576Z"
   },
   {
    "duration": 4,
    "start_time": "2022-10-20T13:03:05.921Z"
   },
   {
    "duration": 102,
    "start_time": "2022-10-20T13:03:54.296Z"
   },
   {
    "duration": 185,
    "start_time": "2022-10-20T13:04:07.201Z"
   },
   {
    "duration": 11,
    "start_time": "2022-10-20T13:04:16.433Z"
   },
   {
    "duration": 15,
    "start_time": "2022-10-20T13:04:20.405Z"
   },
   {
    "duration": 93,
    "start_time": "2022-10-20T13:05:35.956Z"
   },
   {
    "duration": 186,
    "start_time": "2022-10-20T13:05:53.111Z"
   },
   {
    "duration": 10,
    "start_time": "2022-10-20T13:06:01.079Z"
   },
   {
    "duration": 69,
    "start_time": "2022-10-20T15:58:33.802Z"
   },
   {
    "duration": 1583,
    "start_time": "2022-10-20T15:58:37.773Z"
   },
   {
    "duration": 5,
    "start_time": "2022-10-20T15:58:39.358Z"
   },
   {
    "duration": 880,
    "start_time": "2022-10-20T15:58:39.364Z"
   },
   {
    "duration": 57,
    "start_time": "2022-10-20T15:58:40.247Z"
   },
   {
    "duration": 3,
    "start_time": "2022-10-20T15:58:40.307Z"
   },
   {
    "duration": 141,
    "start_time": "2022-10-20T15:58:40.311Z"
   },
   {
    "duration": 34,
    "start_time": "2022-10-20T15:58:40.457Z"
   },
   {
    "duration": 18,
    "start_time": "2022-10-20T15:58:40.494Z"
   },
   {
    "duration": 506,
    "start_time": "2022-10-20T15:58:40.514Z"
   },
   {
    "duration": 57,
    "start_time": "2022-10-20T15:58:41.022Z"
   },
   {
    "duration": 742,
    "start_time": "2022-10-20T15:58:41.081Z"
   },
   {
    "duration": 57,
    "start_time": "2022-10-20T15:58:41.827Z"
   },
   {
    "duration": 471,
    "start_time": "2022-10-20T15:58:41.887Z"
   },
   {
    "duration": 6,
    "start_time": "2022-10-20T15:58:42.360Z"
   },
   {
    "duration": 272,
    "start_time": "2022-10-20T15:58:42.368Z"
   },
   {
    "duration": 242,
    "start_time": "2022-10-20T15:58:42.642Z"
   },
   {
    "duration": 308,
    "start_time": "2022-10-20T15:58:42.886Z"
   },
   {
    "duration": 109,
    "start_time": "2022-10-20T15:58:43.196Z"
   },
   {
    "duration": 39,
    "start_time": "2022-10-20T15:58:43.307Z"
   },
   {
    "duration": 61,
    "start_time": "2022-10-20T15:58:43.347Z"
   },
   {
    "duration": 2388,
    "start_time": "2022-10-20T15:58:43.410Z"
   },
   {
    "duration": 2543,
    "start_time": "2022-10-20T15:58:45.799Z"
   },
   {
    "duration": 1364,
    "start_time": "2022-10-20T16:46:31.285Z"
   },
   {
    "duration": 8,
    "start_time": "2022-10-20T16:46:32.651Z"
   },
   {
    "duration": 207,
    "start_time": "2022-10-20T16:46:32.660Z"
   },
   {
    "duration": 41,
    "start_time": "2022-10-20T16:46:32.869Z"
   },
   {
    "duration": 24,
    "start_time": "2022-10-20T16:46:32.912Z"
   },
   {
    "duration": 92,
    "start_time": "2022-10-20T16:46:32.938Z"
   },
   {
    "duration": 34,
    "start_time": "2022-10-20T16:46:33.037Z"
   },
   {
    "duration": 7,
    "start_time": "2022-10-20T16:46:33.073Z"
   },
   {
    "duration": 511,
    "start_time": "2022-10-20T16:46:33.081Z"
   },
   {
    "duration": 71,
    "start_time": "2022-10-20T16:46:33.594Z"
   },
   {
    "duration": 730,
    "start_time": "2022-10-20T16:46:33.667Z"
   },
   {
    "duration": 63,
    "start_time": "2022-10-20T16:46:34.398Z"
   },
   {
    "duration": 479,
    "start_time": "2022-10-20T16:46:34.464Z"
   },
   {
    "duration": 11,
    "start_time": "2022-10-20T16:46:34.944Z"
   },
   {
    "duration": 247,
    "start_time": "2022-10-20T16:46:34.958Z"
   },
   {
    "duration": 288,
    "start_time": "2022-10-20T16:46:35.208Z"
   },
   {
    "duration": 371,
    "start_time": "2022-10-20T16:46:35.498Z"
   },
   {
    "duration": 100,
    "start_time": "2022-10-20T16:46:35.871Z"
   },
   {
    "duration": 16,
    "start_time": "2022-10-20T16:46:35.973Z"
   },
   {
    "duration": 76,
    "start_time": "2022-10-20T16:46:35.991Z"
   },
   {
    "duration": 2610,
    "start_time": "2022-10-20T16:46:36.069Z"
   },
   {
    "duration": 2741,
    "start_time": "2022-10-20T16:46:38.681Z"
   },
   {
    "duration": 998,
    "start_time": "2022-10-20T16:46:58.482Z"
   },
   {
    "duration": 71,
    "start_time": "2022-10-20T16:47:29.495Z"
   },
   {
    "duration": 15,
    "start_time": "2022-10-20T16:47:33.952Z"
   },
   {
    "duration": 13,
    "start_time": "2022-10-20T16:47:41.905Z"
   },
   {
    "duration": 1317,
    "start_time": "2022-10-20T16:50:37.259Z"
   },
   {
    "duration": 4,
    "start_time": "2022-10-20T16:50:38.578Z"
   },
   {
    "duration": 202,
    "start_time": "2022-10-20T16:50:38.584Z"
   },
   {
    "duration": 63,
    "start_time": "2022-10-20T16:50:38.789Z"
   },
   {
    "duration": 4,
    "start_time": "2022-10-20T16:50:38.853Z"
   },
   {
    "duration": 114,
    "start_time": "2022-10-20T16:50:38.858Z"
   },
   {
    "duration": 33,
    "start_time": "2022-10-20T16:50:38.974Z"
   },
   {
    "duration": 23,
    "start_time": "2022-10-20T16:50:39.009Z"
   },
   {
    "duration": 507,
    "start_time": "2022-10-20T16:50:39.043Z"
   },
   {
    "duration": 46,
    "start_time": "2022-10-20T16:50:39.558Z"
   },
   {
    "duration": 798,
    "start_time": "2022-10-20T16:50:39.606Z"
   },
   {
    "duration": 59,
    "start_time": "2022-10-20T16:50:40.406Z"
   },
   {
    "duration": 479,
    "start_time": "2022-10-20T16:50:40.471Z"
   },
   {
    "duration": 7,
    "start_time": "2022-10-20T16:50:40.952Z"
   },
   {
    "duration": 251,
    "start_time": "2022-10-20T16:50:40.960Z"
   },
   {
    "duration": 280,
    "start_time": "2022-10-20T16:50:41.213Z"
   },
   {
    "duration": 377,
    "start_time": "2022-10-20T16:50:41.495Z"
   },
   {
    "duration": 113,
    "start_time": "2022-10-20T16:50:41.879Z"
   },
   {
    "duration": 24,
    "start_time": "2022-10-20T16:50:41.994Z"
   },
   {
    "duration": 79,
    "start_time": "2022-10-20T16:50:42.024Z"
   },
   {
    "duration": 2486,
    "start_time": "2022-10-20T16:50:42.106Z"
   },
   {
    "duration": 2576,
    "start_time": "2022-10-20T16:50:44.593Z"
   },
   {
    "duration": 1329,
    "start_time": "2022-10-20T16:53:01.371Z"
   },
   {
    "duration": 6,
    "start_time": "2022-10-20T16:53:02.702Z"
   },
   {
    "duration": 260,
    "start_time": "2022-10-20T16:53:02.710Z"
   },
   {
    "duration": 38,
    "start_time": "2022-10-20T16:53:02.972Z"
   },
   {
    "duration": 10,
    "start_time": "2022-10-20T16:53:03.025Z"
   },
   {
    "duration": 98,
    "start_time": "2022-10-20T16:53:03.041Z"
   },
   {
    "duration": 39,
    "start_time": "2022-10-20T16:53:03.146Z"
   },
   {
    "duration": 9,
    "start_time": "2022-10-20T16:53:03.187Z"
   },
   {
    "duration": 481,
    "start_time": "2022-10-20T16:53:03.197Z"
   },
   {
    "duration": 61,
    "start_time": "2022-10-20T16:53:03.681Z"
   },
   {
    "duration": 732,
    "start_time": "2022-10-20T16:53:03.747Z"
   },
   {
    "duration": 64,
    "start_time": "2022-10-20T16:53:04.480Z"
   },
   {
    "duration": 433,
    "start_time": "2022-10-20T16:53:04.547Z"
   },
   {
    "duration": 6,
    "start_time": "2022-10-20T16:53:04.982Z"
   },
   {
    "duration": 251,
    "start_time": "2022-10-20T16:53:04.989Z"
   },
   {
    "duration": 243,
    "start_time": "2022-10-20T16:53:05.242Z"
   },
   {
    "duration": 316,
    "start_time": "2022-10-20T16:53:05.487Z"
   },
   {
    "duration": 125,
    "start_time": "2022-10-20T16:53:05.805Z"
   },
   {
    "duration": 19,
    "start_time": "2022-10-20T16:53:05.939Z"
   },
   {
    "duration": 43,
    "start_time": "2022-10-20T16:53:05.960Z"
   },
   {
    "duration": 2463,
    "start_time": "2022-10-20T16:53:06.005Z"
   },
   {
    "duration": 2697,
    "start_time": "2022-10-20T16:53:08.470Z"
   },
   {
    "duration": 859,
    "start_time": "2022-10-20T16:53:33.516Z"
   },
   {
    "duration": 14,
    "start_time": "2022-10-20T16:56:18.045Z"
   },
   {
    "duration": 1285,
    "start_time": "2022-10-20T16:59:13.715Z"
   },
   {
    "duration": 5,
    "start_time": "2022-10-20T16:59:15.002Z"
   },
   {
    "duration": 201,
    "start_time": "2022-10-20T16:59:15.009Z"
   },
   {
    "duration": 51,
    "start_time": "2022-10-20T16:59:15.212Z"
   },
   {
    "duration": 3,
    "start_time": "2022-10-20T16:59:15.264Z"
   },
   {
    "duration": 121,
    "start_time": "2022-10-20T16:59:15.269Z"
   },
   {
    "duration": 49,
    "start_time": "2022-10-20T16:59:15.392Z"
   },
   {
    "duration": 7,
    "start_time": "2022-10-20T16:59:15.443Z"
   },
   {
    "duration": 466,
    "start_time": "2022-10-20T16:59:15.452Z"
   },
   {
    "duration": 54,
    "start_time": "2022-10-20T16:59:15.926Z"
   },
   {
    "duration": 707,
    "start_time": "2022-10-20T16:59:15.982Z"
   },
   {
    "duration": 62,
    "start_time": "2022-10-20T16:59:16.691Z"
   },
   {
    "duration": 460,
    "start_time": "2022-10-20T16:59:16.755Z"
   },
   {
    "duration": 12,
    "start_time": "2022-10-20T16:59:17.217Z"
   },
   {
    "duration": 258,
    "start_time": "2022-10-20T16:59:17.237Z"
   },
   {
    "duration": 251,
    "start_time": "2022-10-20T16:59:17.496Z"
   },
   {
    "duration": 317,
    "start_time": "2022-10-20T16:59:17.749Z"
   },
   {
    "duration": 107,
    "start_time": "2022-10-20T16:59:18.067Z"
   },
   {
    "duration": 16,
    "start_time": "2022-10-20T16:59:18.175Z"
   },
   {
    "duration": 63,
    "start_time": "2022-10-20T16:59:18.193Z"
   },
   {
    "duration": 2549,
    "start_time": "2022-10-20T16:59:18.257Z"
   },
   {
    "duration": 2535,
    "start_time": "2022-10-20T16:59:20.808Z"
   },
   {
    "duration": 784,
    "start_time": "2022-10-20T16:59:23.345Z"
   },
   {
    "duration": 132,
    "start_time": "2022-10-20T16:59:50.503Z"
   },
   {
    "duration": 61,
    "start_time": "2022-10-20T16:59:55.252Z"
   },
   {
    "duration": 10,
    "start_time": "2022-10-20T16:59:57.881Z"
   },
   {
    "duration": 10,
    "start_time": "2022-10-20T17:00:11.762Z"
   },
   {
    "duration": 78,
    "start_time": "2022-10-20T17:00:48.726Z"
   },
   {
    "duration": 20,
    "start_time": "2022-10-20T17:00:51.317Z"
   },
   {
    "duration": 70,
    "start_time": "2022-10-20T17:01:16.867Z"
   },
   {
    "duration": 9,
    "start_time": "2022-10-20T17:02:08.931Z"
   },
   {
    "duration": 11,
    "start_time": "2022-10-20T17:02:24.388Z"
   },
   {
    "duration": 309,
    "start_time": "2022-10-20T17:02:36.837Z"
   },
   {
    "duration": 26,
    "start_time": "2022-10-20T17:06:04.840Z"
   },
   {
    "duration": 64,
    "start_time": "2022-10-20T17:22:08.150Z"
   },
   {
    "duration": 8,
    "start_time": "2022-10-20T17:22:38.752Z"
   },
   {
    "duration": 7,
    "start_time": "2022-10-20T17:22:43.705Z"
   },
   {
    "duration": 1228,
    "start_time": "2022-10-20T17:22:48.380Z"
   },
   {
    "duration": 5,
    "start_time": "2022-10-20T17:22:49.610Z"
   },
   {
    "duration": 185,
    "start_time": "2022-10-20T17:22:49.617Z"
   },
   {
    "duration": 41,
    "start_time": "2022-10-20T17:22:49.804Z"
   },
   {
    "duration": 3,
    "start_time": "2022-10-20T17:22:49.846Z"
   },
   {
    "duration": 111,
    "start_time": "2022-10-20T17:22:49.851Z"
   },
   {
    "duration": 33,
    "start_time": "2022-10-20T17:22:49.964Z"
   },
   {
    "duration": 7,
    "start_time": "2022-10-20T17:22:49.999Z"
   },
   {
    "duration": 519,
    "start_time": "2022-10-20T17:22:50.026Z"
   },
   {
    "duration": 47,
    "start_time": "2022-10-20T17:22:50.549Z"
   },
   {
    "duration": 682,
    "start_time": "2022-10-20T17:22:50.598Z"
   },
   {
    "duration": 55,
    "start_time": "2022-10-20T17:22:51.282Z"
   },
   {
    "duration": 411,
    "start_time": "2022-10-20T17:22:51.339Z"
   },
   {
    "duration": 6,
    "start_time": "2022-10-20T17:22:51.752Z"
   },
   {
    "duration": 292,
    "start_time": "2022-10-20T17:22:51.760Z"
   },
   {
    "duration": 245,
    "start_time": "2022-10-20T17:22:52.054Z"
   },
   {
    "duration": 309,
    "start_time": "2022-10-20T17:22:52.300Z"
   },
   {
    "duration": 106,
    "start_time": "2022-10-20T17:22:52.611Z"
   },
   {
    "duration": 18,
    "start_time": "2022-10-20T17:22:52.736Z"
   },
   {
    "duration": 52,
    "start_time": "2022-10-20T17:22:52.756Z"
   },
   {
    "duration": 2384,
    "start_time": "2022-10-20T17:22:52.810Z"
   },
   {
    "duration": 2596,
    "start_time": "2022-10-20T17:22:55.196Z"
   },
   {
    "duration": 76,
    "start_time": "2022-10-20T17:22:59.406Z"
   },
   {
    "duration": 21,
    "start_time": "2022-10-20T17:23:09.545Z"
   },
   {
    "duration": 26,
    "start_time": "2022-10-20T17:23:10.447Z"
   },
   {
    "duration": 805,
    "start_time": "2022-10-20T17:23:15.168Z"
   },
   {
    "duration": 25,
    "start_time": "2022-10-20T17:24:54.509Z"
   },
   {
    "duration": 24,
    "start_time": "2022-10-20T17:25:58.837Z"
   },
   {
    "duration": 39,
    "start_time": "2022-10-20T17:26:24.942Z"
   },
   {
    "duration": 10,
    "start_time": "2022-10-20T17:27:34.075Z"
   },
   {
    "duration": 31,
    "start_time": "2022-10-20T17:27:42.173Z"
   },
   {
    "duration": 13,
    "start_time": "2022-10-20T17:27:42.775Z"
   },
   {
    "duration": 469,
    "start_time": "2022-10-20T17:27:55.010Z"
   },
   {
    "duration": 15,
    "start_time": "2022-10-20T17:30:42.422Z"
   },
   {
    "duration": 72,
    "start_time": "2022-10-20T17:30:55.164Z"
   },
   {
    "duration": 70,
    "start_time": "2022-10-20T17:40:13.868Z"
   },
   {
    "duration": 1299,
    "start_time": "2022-10-20T17:40:30.486Z"
   },
   {
    "duration": 5,
    "start_time": "2022-10-20T17:40:31.787Z"
   },
   {
    "duration": 221,
    "start_time": "2022-10-20T17:40:31.793Z"
   },
   {
    "duration": 67,
    "start_time": "2022-10-20T17:40:32.019Z"
   },
   {
    "duration": 4,
    "start_time": "2022-10-20T17:40:32.089Z"
   },
   {
    "duration": 125,
    "start_time": "2022-10-20T17:40:32.095Z"
   },
   {
    "duration": 50,
    "start_time": "2022-10-20T17:40:32.222Z"
   },
   {
    "duration": 8,
    "start_time": "2022-10-20T17:40:32.275Z"
   },
   {
    "duration": 690,
    "start_time": "2022-10-20T17:40:32.286Z"
   },
   {
    "duration": 52,
    "start_time": "2022-10-20T17:40:32.979Z"
   },
   {
    "duration": 747,
    "start_time": "2022-10-20T17:40:33.034Z"
   },
   {
    "duration": 54,
    "start_time": "2022-10-20T17:40:33.782Z"
   },
   {
    "duration": 429,
    "start_time": "2022-10-20T17:40:33.841Z"
   },
   {
    "duration": 4,
    "start_time": "2022-10-20T17:40:34.272Z"
   },
   {
    "duration": 271,
    "start_time": "2022-10-20T17:40:34.278Z"
   },
   {
    "duration": 234,
    "start_time": "2022-10-20T17:40:34.551Z"
   },
   {
    "duration": 317,
    "start_time": "2022-10-20T17:40:34.787Z"
   },
   {
    "duration": 110,
    "start_time": "2022-10-20T17:40:35.106Z"
   },
   {
    "duration": 21,
    "start_time": "2022-10-20T17:40:35.231Z"
   },
   {
    "duration": 55,
    "start_time": "2022-10-20T17:40:35.254Z"
   },
   {
    "duration": 2598,
    "start_time": "2022-10-20T17:40:35.312Z"
   },
   {
    "duration": 2652,
    "start_time": "2022-10-20T17:40:37.912Z"
   },
   {
    "duration": 26,
    "start_time": "2022-10-20T17:40:40.565Z"
   },
   {
    "duration": 35,
    "start_time": "2022-10-20T17:40:40.593Z"
   },
   {
    "duration": 23,
    "start_time": "2022-10-20T17:40:46.849Z"
   },
   {
    "duration": 572,
    "start_time": "2022-10-20T17:40:52.280Z"
   },
   {
    "duration": 5,
    "start_time": "2022-10-20T17:41:06.969Z"
   },
   {
    "duration": 10,
    "start_time": "2022-10-20T17:41:12.391Z"
   },
   {
    "duration": 787,
    "start_time": "2022-10-20T17:47:44.546Z"
   },
   {
    "duration": 11,
    "start_time": "2022-10-20T17:47:49.251Z"
   },
   {
    "duration": 39,
    "start_time": "2022-10-20T17:48:41.292Z"
   },
   {
    "duration": 10,
    "start_time": "2022-10-20T17:48:43.180Z"
   },
   {
    "duration": 107,
    "start_time": "2022-10-20T17:48:49.961Z"
   },
   {
    "duration": 60,
    "start_time": "2022-10-20T17:49:19.083Z"
   },
   {
    "duration": 11,
    "start_time": "2022-10-20T17:49:20.902Z"
   },
   {
    "duration": 29,
    "start_time": "2022-10-20T17:50:38.489Z"
   },
   {
    "duration": 10,
    "start_time": "2022-10-20T17:50:39.512Z"
   },
   {
    "duration": 46,
    "start_time": "2022-10-20T17:50:48.994Z"
   },
   {
    "duration": 20,
    "start_time": "2022-10-20T17:50:49.620Z"
   },
   {
    "duration": 41,
    "start_time": "2022-10-20T17:51:43.174Z"
   },
   {
    "duration": 13,
    "start_time": "2022-10-20T17:51:48.573Z"
   },
   {
    "duration": 31,
    "start_time": "2022-10-20T17:52:58.602Z"
   },
   {
    "duration": 10,
    "start_time": "2022-10-20T17:52:59.135Z"
   },
   {
    "duration": 8,
    "start_time": "2022-10-20T17:53:33.505Z"
   },
   {
    "duration": 8,
    "start_time": "2022-10-20T17:54:19.987Z"
   },
   {
    "duration": 9,
    "start_time": "2022-10-20T17:54:22.563Z"
   },
   {
    "duration": 7,
    "start_time": "2022-10-20T17:54:29.554Z"
   },
   {
    "duration": 31,
    "start_time": "2022-10-20T17:55:14.364Z"
   },
   {
    "duration": 10,
    "start_time": "2022-10-20T17:55:15.053Z"
   },
   {
    "duration": 145,
    "start_time": "2022-10-20T17:55:31.302Z"
   },
   {
    "duration": 37,
    "start_time": "2022-10-20T17:55:54.053Z"
   },
   {
    "duration": 11,
    "start_time": "2022-10-20T17:55:57.027Z"
   },
   {
    "duration": 55,
    "start_time": "2022-10-20T17:56:06.829Z"
   },
   {
    "duration": 39,
    "start_time": "2022-10-20T17:56:26.551Z"
   },
   {
    "duration": 12,
    "start_time": "2022-10-20T17:56:27.858Z"
   },
   {
    "duration": 57,
    "start_time": "2022-10-20T17:56:49.950Z"
   },
   {
    "duration": 42,
    "start_time": "2022-10-20T17:56:57.699Z"
   },
   {
    "duration": 12,
    "start_time": "2022-10-20T17:57:01.311Z"
   },
   {
    "duration": 69,
    "start_time": "2022-10-20T17:58:40.425Z"
   },
   {
    "duration": 73,
    "start_time": "2022-10-20T17:59:58.432Z"
   },
   {
    "duration": 12,
    "start_time": "2022-10-20T18:00:00.594Z"
   },
   {
    "duration": 403,
    "start_time": "2022-10-20T18:00:13.829Z"
   },
   {
    "duration": 1295,
    "start_time": "2022-10-20T18:00:16.889Z"
   },
   {
    "duration": 11,
    "start_time": "2022-10-20T18:00:35.867Z"
   },
   {
    "duration": 1262,
    "start_time": "2022-10-20T18:00:42.222Z"
   },
   {
    "duration": 10,
    "start_time": "2022-10-20T18:00:43.545Z"
   },
   {
    "duration": 396,
    "start_time": "2022-10-20T18:00:52.575Z"
   },
   {
    "duration": 1249,
    "start_time": "2022-10-20T18:00:54.291Z"
   },
   {
    "duration": 450,
    "start_time": "2022-10-20T18:01:10.562Z"
   },
   {
    "duration": 11,
    "start_time": "2022-10-20T18:01:13.579Z"
   },
   {
    "duration": 1494,
    "start_time": "2022-10-20T18:01:23.353Z"
   },
   {
    "duration": 384,
    "start_time": "2022-10-20T18:02:02.906Z"
   },
   {
    "duration": 1176,
    "start_time": "2022-10-20T18:02:03.719Z"
   },
   {
    "duration": 9,
    "start_time": "2022-10-20T18:02:09.152Z"
   },
   {
    "duration": 87,
    "start_time": "2022-10-20T18:02:47.049Z"
   },
   {
    "duration": 1341,
    "start_time": "2022-10-20T18:02:50.132Z"
   },
   {
    "duration": 30,
    "start_time": "2022-10-20T18:03:13.993Z"
   },
   {
    "duration": 10,
    "start_time": "2022-10-20T18:03:15.478Z"
   },
   {
    "duration": 42,
    "start_time": "2022-10-20T18:03:24.748Z"
   },
   {
    "duration": 28,
    "start_time": "2022-10-20T18:03:44.982Z"
   },
   {
    "duration": 10,
    "start_time": "2022-10-20T18:03:46.124Z"
   },
   {
    "duration": 667,
    "start_time": "2022-10-20T18:03:56.111Z"
   },
   {
    "duration": 9,
    "start_time": "2022-10-20T18:03:57.303Z"
   },
   {
    "duration": 9,
    "start_time": "2022-10-20T18:04:02.191Z"
   },
   {
    "duration": 30,
    "start_time": "2022-10-20T18:04:04.281Z"
   },
   {
    "duration": 11,
    "start_time": "2022-10-20T18:04:06.435Z"
   },
   {
    "duration": 49,
    "start_time": "2022-10-20T18:04:13.120Z"
   },
   {
    "duration": 12,
    "start_time": "2022-10-20T18:04:14.764Z"
   },
   {
    "duration": 460,
    "start_time": "2022-10-20T18:04:30.429Z"
   },
   {
    "duration": 10,
    "start_time": "2022-10-20T18:04:32.334Z"
   },
   {
    "duration": 1141,
    "start_time": "2022-10-20T18:04:34.735Z"
   },
   {
    "duration": 1132,
    "start_time": "2022-10-20T18:05:15.941Z"
   },
   {
    "duration": 10,
    "start_time": "2022-10-20T18:05:20.860Z"
   },
   {
    "duration": 45,
    "start_time": "2022-10-20T18:05:33.299Z"
   },
   {
    "duration": 11,
    "start_time": "2022-10-20T18:05:34.887Z"
   },
   {
    "duration": 414,
    "start_time": "2022-10-20T18:06:04.767Z"
   },
   {
    "duration": 1195,
    "start_time": "2022-10-20T18:06:09.301Z"
   },
   {
    "duration": 32,
    "start_time": "2022-10-20T18:08:24.002Z"
   },
   {
    "duration": 9,
    "start_time": "2022-10-20T18:08:25.701Z"
   },
   {
    "duration": 426,
    "start_time": "2022-10-20T18:08:42.958Z"
   },
   {
    "duration": 28,
    "start_time": "2022-10-20T18:08:44.373Z"
   },
   {
    "duration": 9,
    "start_time": "2022-10-20T18:08:46.060Z"
   },
   {
    "duration": 431,
    "start_time": "2022-10-20T18:08:47.817Z"
   },
   {
    "duration": 37,
    "start_time": "2022-10-20T18:09:04.587Z"
   },
   {
    "duration": 403,
    "start_time": "2022-10-20T18:09:06.296Z"
   },
   {
    "duration": 36,
    "start_time": "2022-10-20T18:09:07.224Z"
   },
   {
    "duration": 9,
    "start_time": "2022-10-20T18:09:08.444Z"
   },
   {
    "duration": 46,
    "start_time": "2022-10-20T18:09:13.500Z"
   },
   {
    "duration": 9,
    "start_time": "2022-10-20T18:09:14.987Z"
   },
   {
    "duration": 414,
    "start_time": "2022-10-20T18:09:16.377Z"
   },
   {
    "duration": 1219,
    "start_time": "2022-10-20T18:09:17.351Z"
   },
   {
    "duration": 40,
    "start_time": "2022-10-20T18:09:29.287Z"
   },
   {
    "duration": 436,
    "start_time": "2022-10-20T18:09:30.713Z"
   },
   {
    "duration": 41,
    "start_time": "2022-10-20T18:09:31.353Z"
   },
   {
    "duration": 9,
    "start_time": "2022-10-20T18:09:33.217Z"
   },
   {
    "duration": 60,
    "start_time": "2022-10-20T18:09:56.412Z"
   },
   {
    "duration": 9,
    "start_time": "2022-10-20T18:10:35.919Z"
   },
   {
    "duration": 8,
    "start_time": "2022-10-20T18:10:41.191Z"
   },
   {
    "duration": 46,
    "start_time": "2022-10-20T18:11:46.853Z"
   },
   {
    "duration": 10,
    "start_time": "2022-10-20T18:11:48.411Z"
   },
   {
    "duration": 391,
    "start_time": "2022-10-20T18:12:59.385Z"
   },
   {
    "duration": 10,
    "start_time": "2022-10-20T18:13:00.823Z"
   },
   {
    "duration": 6,
    "start_time": "2022-10-20T18:13:21.344Z"
   },
   {
    "duration": 5,
    "start_time": "2022-10-20T18:15:03.522Z"
   },
   {
    "duration": 10,
    "start_time": "2022-10-20T18:15:08.535Z"
   },
   {
    "duration": 72,
    "start_time": "2022-10-20T18:15:41.207Z"
   },
   {
    "duration": 32,
    "start_time": "2022-10-20T18:15:49.087Z"
   },
   {
    "duration": 5,
    "start_time": "2022-10-20T18:15:53.269Z"
   },
   {
    "duration": 10,
    "start_time": "2022-10-20T18:15:54.016Z"
   },
   {
    "duration": 9,
    "start_time": "2022-10-20T18:16:35.249Z"
   },
   {
    "duration": 1507,
    "start_time": "2022-10-20T18:16:53.950Z"
   },
   {
    "duration": 442,
    "start_time": "2022-10-20T18:17:04.072Z"
   },
   {
    "duration": 401,
    "start_time": "2022-10-20T18:17:26.311Z"
   },
   {
    "duration": 12,
    "start_time": "2022-10-20T18:17:29.027Z"
   },
   {
    "duration": 11,
    "start_time": "2022-10-20T18:19:06.335Z"
   },
   {
    "duration": 4,
    "start_time": "2022-10-20T18:20:01.556Z"
   },
   {
    "duration": 11,
    "start_time": "2022-10-20T18:20:06.823Z"
   },
   {
    "duration": 3,
    "start_time": "2022-10-20T18:20:41.300Z"
   },
   {
    "duration": 3,
    "start_time": "2022-10-20T18:20:45.936Z"
   },
   {
    "duration": 8,
    "start_time": "2022-10-20T18:23:48.521Z"
   },
   {
    "duration": 671,
    "start_time": "2022-10-20T18:24:09.366Z"
   },
   {
    "duration": 759,
    "start_time": "2022-10-20T18:25:00.206Z"
   },
   {
    "duration": 8,
    "start_time": "2022-10-20T18:28:42.208Z"
   },
   {
    "duration": 12,
    "start_time": "2022-10-20T18:29:17.239Z"
   },
   {
    "duration": 1518,
    "start_time": "2022-10-20T18:29:24.152Z"
   },
   {
    "duration": 1586,
    "start_time": "2022-10-20T18:30:38.919Z"
   },
   {
    "duration": 716,
    "start_time": "2022-10-20T18:31:22.485Z"
   },
   {
    "duration": 716,
    "start_time": "2022-10-20T18:31:37.816Z"
   },
   {
    "duration": 721,
    "start_time": "2022-10-20T18:31:43.577Z"
   },
   {
    "duration": 3,
    "start_time": "2022-10-20T18:31:47.612Z"
   },
   {
    "duration": 1917,
    "start_time": "2022-10-20T18:31:48.120Z"
   },
   {
    "duration": 1323,
    "start_time": "2022-10-20T18:32:10.825Z"
   },
   {
    "duration": 1242,
    "start_time": "2022-10-20T18:32:23.397Z"
   },
   {
    "duration": 13,
    "start_time": "2022-10-20T18:32:32.436Z"
   },
   {
    "duration": 1128,
    "start_time": "2022-10-20T18:34:27.733Z"
   },
   {
    "duration": 4,
    "start_time": "2022-10-20T18:34:28.863Z"
   },
   {
    "duration": 163,
    "start_time": "2022-10-20T18:34:28.869Z"
   },
   {
    "duration": 36,
    "start_time": "2022-10-20T18:34:29.034Z"
   },
   {
    "duration": 3,
    "start_time": "2022-10-20T18:34:29.072Z"
   },
   {
    "duration": 94,
    "start_time": "2022-10-20T18:34:29.077Z"
   },
   {
    "duration": 30,
    "start_time": "2022-10-20T18:34:29.173Z"
   },
   {
    "duration": 20,
    "start_time": "2022-10-20T18:34:29.204Z"
   },
   {
    "duration": 406,
    "start_time": "2022-10-20T18:34:29.225Z"
   },
   {
    "duration": 42,
    "start_time": "2022-10-20T18:34:29.633Z"
   },
   {
    "duration": 643,
    "start_time": "2022-10-20T18:34:29.676Z"
   },
   {
    "duration": 49,
    "start_time": "2022-10-20T18:34:30.320Z"
   },
   {
    "duration": 370,
    "start_time": "2022-10-20T18:34:30.371Z"
   },
   {
    "duration": 5,
    "start_time": "2022-10-20T18:34:30.742Z"
   },
   {
    "duration": 218,
    "start_time": "2022-10-20T18:34:30.748Z"
   },
   {
    "duration": 209,
    "start_time": "2022-10-20T18:34:30.968Z"
   },
   {
    "duration": 280,
    "start_time": "2022-10-20T18:34:31.179Z"
   },
   {
    "duration": 91,
    "start_time": "2022-10-20T18:34:31.461Z"
   },
   {
    "duration": 15,
    "start_time": "2022-10-20T18:34:31.554Z"
   },
   {
    "duration": 56,
    "start_time": "2022-10-20T18:34:31.571Z"
   },
   {
    "duration": 2174,
    "start_time": "2022-10-20T18:34:31.629Z"
   },
   {
    "duration": 2132,
    "start_time": "2022-10-20T18:34:33.804Z"
   },
   {
    "duration": 771,
    "start_time": "2022-10-20T18:34:35.938Z"
   },
   {
    "duration": 0,
    "start_time": "2022-10-20T18:34:36.711Z"
   },
   {
    "duration": 9,
    "start_time": "2022-10-20T18:35:05.263Z"
   },
   {
    "duration": 669,
    "start_time": "2022-10-20T18:35:35.179Z"
   },
   {
    "duration": 703,
    "start_time": "2022-10-20T18:35:57.852Z"
   },
   {
    "duration": 52,
    "start_time": "2022-10-20T18:36:01.969Z"
   },
   {
    "duration": 5,
    "start_time": "2022-10-20T18:36:05.721Z"
   },
   {
    "duration": 53,
    "start_time": "2022-10-20T18:36:17.091Z"
   },
   {
    "duration": 1373,
    "start_time": "2022-10-20T18:36:33.420Z"
   },
   {
    "duration": 10,
    "start_time": "2022-10-20T18:36:36.307Z"
   },
   {
    "duration": 153,
    "start_time": "2022-10-20T18:40:26.172Z"
   },
   {
    "duration": 1223,
    "start_time": "2022-10-20T18:41:36.207Z"
   },
   {
    "duration": 1258,
    "start_time": "2022-10-20T18:41:52.215Z"
   },
   {
    "duration": 782,
    "start_time": "2022-10-20T18:42:01.132Z"
   },
   {
    "duration": 1267,
    "start_time": "2022-10-20T18:43:14.388Z"
   },
   {
    "duration": 1349,
    "start_time": "2022-10-20T18:43:22.134Z"
   },
   {
    "duration": 1342,
    "start_time": "2022-10-20T18:43:33.864Z"
   },
   {
    "duration": 1472,
    "start_time": "2022-10-20T18:43:59.050Z"
   },
   {
    "duration": 1371,
    "start_time": "2022-10-20T18:44:17.674Z"
   },
   {
    "duration": 102,
    "start_time": "2022-10-20T18:45:12.350Z"
   },
   {
    "duration": 175,
    "start_time": "2022-10-20T18:45:16.106Z"
   },
   {
    "duration": 466,
    "start_time": "2022-10-20T18:45:26.614Z"
   },
   {
    "duration": 26,
    "start_time": "2022-10-20T18:45:50.308Z"
   },
   {
    "duration": 2762,
    "start_time": "2022-10-20T18:46:30.940Z"
   },
   {
    "duration": 2755,
    "start_time": "2022-10-20T18:47:08.889Z"
   },
   {
    "duration": 489,
    "start_time": "2022-10-20T18:48:46.980Z"
   },
   {
    "duration": 506,
    "start_time": "2022-10-20T18:48:57.464Z"
   },
   {
    "duration": 1313,
    "start_time": "2022-10-20T18:49:26.993Z"
   },
   {
    "duration": 1216,
    "start_time": "2022-10-20T18:49:42.979Z"
   },
   {
    "duration": 1344,
    "start_time": "2022-10-20T18:49:55.419Z"
   },
   {
    "duration": 1170,
    "start_time": "2022-10-20T18:50:33.413Z"
   },
   {
    "duration": 1383,
    "start_time": "2022-10-20T18:52:18.910Z"
   },
   {
    "duration": 263,
    "start_time": "2022-10-20T18:52:26.430Z"
   },
   {
    "duration": 1368,
    "start_time": "2022-10-20T18:53:00.266Z"
   },
   {
    "duration": 1174,
    "start_time": "2022-10-20T19:11:37.690Z"
   },
   {
    "duration": 5,
    "start_time": "2022-10-20T19:11:38.867Z"
   },
   {
    "duration": 195,
    "start_time": "2022-10-20T19:11:38.874Z"
   },
   {
    "duration": 38,
    "start_time": "2022-10-20T19:11:39.071Z"
   },
   {
    "duration": 13,
    "start_time": "2022-10-20T19:11:39.111Z"
   },
   {
    "duration": 92,
    "start_time": "2022-10-20T19:11:39.128Z"
   },
   {
    "duration": 35,
    "start_time": "2022-10-20T19:11:39.222Z"
   },
   {
    "duration": 24,
    "start_time": "2022-10-20T19:11:39.259Z"
   },
   {
    "duration": 467,
    "start_time": "2022-10-20T19:11:39.285Z"
   },
   {
    "duration": 45,
    "start_time": "2022-10-20T19:11:39.754Z"
   },
   {
    "duration": 690,
    "start_time": "2022-10-20T19:11:39.801Z"
   },
   {
    "duration": 48,
    "start_time": "2022-10-20T19:11:40.493Z"
   },
   {
    "duration": 395,
    "start_time": "2022-10-20T19:11:40.543Z"
   },
   {
    "duration": 6,
    "start_time": "2022-10-20T19:11:40.939Z"
   },
   {
    "duration": 229,
    "start_time": "2022-10-20T19:11:40.947Z"
   },
   {
    "duration": 220,
    "start_time": "2022-10-20T19:11:41.177Z"
   },
   {
    "duration": 306,
    "start_time": "2022-10-20T19:11:41.398Z"
   },
   {
    "duration": 101,
    "start_time": "2022-10-20T19:11:41.705Z"
   },
   {
    "duration": 30,
    "start_time": "2022-10-20T19:11:41.808Z"
   },
   {
    "duration": 54,
    "start_time": "2022-10-20T19:11:41.841Z"
   },
   {
    "duration": 2300,
    "start_time": "2022-10-20T19:11:41.898Z"
   },
   {
    "duration": 2359,
    "start_time": "2022-10-20T19:11:44.200Z"
   },
   {
    "duration": 805,
    "start_time": "2022-10-20T19:11:46.561Z"
   },
   {
    "duration": 1440,
    "start_time": "2022-10-20T19:11:47.368Z"
   },
   {
    "duration": 1370,
    "start_time": "2022-10-20T19:11:48.809Z"
   },
   {
    "duration": 410,
    "start_time": "2022-10-20T19:11:50.181Z"
   },
   {
    "duration": 5,
    "start_time": "2022-10-20T19:11:50.593Z"
   },
   {
    "duration": 26,
    "start_time": "2022-10-20T19:11:50.601Z"
   },
   {
    "duration": 155,
    "start_time": "2022-10-20T19:11:50.632Z"
   },
   {
    "duration": 145,
    "start_time": "2022-10-20T19:11:50.789Z"
   },
   {
    "duration": 131,
    "start_time": "2022-10-20T19:11:50.936Z"
   },
   {
    "duration": 180,
    "start_time": "2022-10-20T19:11:51.069Z"
   },
   {
    "duration": 69,
    "start_time": "2022-10-21T09:17:10.041Z"
   },
   {
    "duration": 1386,
    "start_time": "2022-10-21T09:17:15.150Z"
   },
   {
    "duration": 5,
    "start_time": "2022-10-21T09:17:16.540Z"
   },
   {
    "duration": 1142,
    "start_time": "2022-10-21T09:17:16.548Z"
   },
   {
    "duration": 50,
    "start_time": "2022-10-21T09:17:17.692Z"
   },
   {
    "duration": 807,
    "start_time": "2022-10-21T09:17:17.745Z"
   },
   {
    "duration": 167,
    "start_time": "2022-10-21T09:17:18.554Z"
   },
   {
    "duration": 305,
    "start_time": "2022-10-21T09:17:18.724Z"
   },
   {
    "duration": 303,
    "start_time": "2022-10-21T09:17:19.031Z"
   },
   {
    "duration": 496,
    "start_time": "2022-10-21T09:17:19.335Z"
   },
   {
    "duration": 42,
    "start_time": "2022-10-21T09:17:19.833Z"
   },
   {
    "duration": 640,
    "start_time": "2022-10-21T09:17:19.876Z"
   },
   {
    "duration": 38,
    "start_time": "2022-10-21T09:17:20.517Z"
   },
   {
    "duration": 368,
    "start_time": "2022-10-21T09:17:20.557Z"
   },
   {
    "duration": 5,
    "start_time": "2022-10-21T09:17:20.928Z"
   },
   {
    "duration": 201,
    "start_time": "2022-10-21T09:17:20.935Z"
   },
   {
    "duration": 220,
    "start_time": "2022-10-21T09:17:21.138Z"
   },
   {
    "duration": 278,
    "start_time": "2022-10-21T09:17:21.360Z"
   },
   {
    "duration": 98,
    "start_time": "2022-10-21T09:17:21.640Z"
   },
   {
    "duration": 16,
    "start_time": "2022-10-21T09:17:21.739Z"
   },
   {
    "duration": 52,
    "start_time": "2022-10-21T09:17:21.756Z"
   },
   {
    "duration": 2132,
    "start_time": "2022-10-21T09:17:21.809Z"
   },
   {
    "duration": 2310,
    "start_time": "2022-10-21T09:17:23.943Z"
   },
   {
    "duration": 800,
    "start_time": "2022-10-21T09:17:26.255Z"
   },
   {
    "duration": 1312,
    "start_time": "2022-10-21T09:17:27.057Z"
   },
   {
    "duration": 1279,
    "start_time": "2022-10-21T09:17:28.371Z"
   },
   {
    "duration": 355,
    "start_time": "2022-10-21T09:17:29.651Z"
   },
   {
    "duration": 6,
    "start_time": "2022-10-21T09:17:30.008Z"
   },
   {
    "duration": 14,
    "start_time": "2022-10-21T09:17:30.016Z"
   },
   {
    "duration": 139,
    "start_time": "2022-10-21T09:17:30.033Z"
   },
   {
    "duration": 132,
    "start_time": "2022-10-21T09:17:30.173Z"
   },
   {
    "duration": 133,
    "start_time": "2022-10-21T09:17:30.307Z"
   },
   {
    "duration": 158,
    "start_time": "2022-10-21T09:17:30.442Z"
   },
   {
    "duration": 1128,
    "start_time": "2022-10-21T10:46:43.060Z"
   },
   {
    "duration": 4,
    "start_time": "2022-10-21T10:46:44.190Z"
   },
   {
    "duration": 171,
    "start_time": "2022-10-21T10:46:44.196Z"
   },
   {
    "duration": 36,
    "start_time": "2022-10-21T10:46:44.370Z"
   },
   {
    "duration": 4,
    "start_time": "2022-10-21T10:46:44.409Z"
   },
   {
    "duration": 106,
    "start_time": "2022-10-21T10:46:44.415Z"
   },
   {
    "duration": 29,
    "start_time": "2022-10-21T10:46:44.523Z"
   },
   {
    "duration": 6,
    "start_time": "2022-10-21T10:46:44.554Z"
   },
   {
    "duration": 416,
    "start_time": "2022-10-21T10:46:44.562Z"
   },
   {
    "duration": 48,
    "start_time": "2022-10-21T10:46:44.981Z"
   },
   {
    "duration": 587,
    "start_time": "2022-10-21T10:46:45.031Z"
   },
   {
    "duration": 37,
    "start_time": "2022-10-21T10:46:45.619Z"
   },
   {
    "duration": 350,
    "start_time": "2022-10-21T10:46:45.657Z"
   },
   {
    "duration": 8,
    "start_time": "2022-10-21T10:46:46.009Z"
   },
   {
    "duration": 223,
    "start_time": "2022-10-21T10:46:46.019Z"
   },
   {
    "duration": 202,
    "start_time": "2022-10-21T10:46:46.244Z"
   },
   {
    "duration": 336,
    "start_time": "2022-10-21T10:46:46.448Z"
   },
   {
    "duration": 106,
    "start_time": "2022-10-21T10:46:46.786Z"
   },
   {
    "duration": 20,
    "start_time": "2022-10-21T10:46:46.894Z"
   },
   {
    "duration": 51,
    "start_time": "2022-10-21T10:46:46.916Z"
   },
   {
    "duration": 2007,
    "start_time": "2022-10-21T10:46:46.969Z"
   },
   {
    "duration": 2107,
    "start_time": "2022-10-21T10:46:48.978Z"
   },
   {
    "duration": 650,
    "start_time": "2022-10-21T10:46:51.091Z"
   },
   {
    "duration": 1145,
    "start_time": "2022-10-21T10:46:51.743Z"
   },
   {
    "duration": 1220,
    "start_time": "2022-10-21T10:46:52.890Z"
   },
   {
    "duration": 362,
    "start_time": "2022-10-21T10:46:54.112Z"
   },
   {
    "duration": 6,
    "start_time": "2022-10-21T10:46:54.477Z"
   },
   {
    "duration": 9,
    "start_time": "2022-10-21T10:46:54.494Z"
   },
   {
    "duration": 134,
    "start_time": "2022-10-21T10:46:54.505Z"
   },
   {
    "duration": 126,
    "start_time": "2022-10-21T10:46:54.641Z"
   },
   {
    "duration": 122,
    "start_time": "2022-10-21T10:46:54.769Z"
   },
   {
    "duration": 150,
    "start_time": "2022-10-21T10:46:54.892Z"
   },
   {
    "duration": 1320,
    "start_time": "2022-10-21T11:47:47.820Z"
   },
   {
    "duration": 96,
    "start_time": "2022-10-21T12:21:15.108Z"
   },
   {
    "duration": 49,
    "start_time": "2022-10-21T15:10:29.991Z"
   },
   {
    "duration": 1401,
    "start_time": "2022-10-21T15:10:35.624Z"
   },
   {
    "duration": 5,
    "start_time": "2022-10-21T15:10:37.027Z"
   },
   {
    "duration": 747,
    "start_time": "2022-10-21T15:10:37.034Z"
   },
   {
    "duration": 34,
    "start_time": "2022-10-21T15:10:37.783Z"
   },
   {
    "duration": 3,
    "start_time": "2022-10-21T15:10:37.819Z"
   },
   {
    "duration": 96,
    "start_time": "2022-10-21T15:10:37.823Z"
   },
   {
    "duration": 30,
    "start_time": "2022-10-21T15:10:37.920Z"
   },
   {
    "duration": 65,
    "start_time": "2022-10-21T15:10:40.548Z"
   },
   {
    "duration": 9,
    "start_time": "2022-10-21T15:10:54.723Z"
   },
   {
    "duration": 9,
    "start_time": "2022-10-21T15:11:10.926Z"
   },
   {
    "duration": 92,
    "start_time": "2022-10-21T15:11:15.676Z"
   },
   {
    "duration": 91,
    "start_time": "2022-10-21T15:30:08.928Z"
   },
   {
    "duration": 22,
    "start_time": "2022-10-21T15:32:36.062Z"
   },
   {
    "duration": 23,
    "start_time": "2022-10-21T15:32:40.415Z"
   },
   {
    "duration": 90,
    "start_time": "2022-10-21T15:32:42.836Z"
   },
   {
    "duration": 22,
    "start_time": "2022-10-21T15:32:43.546Z"
   },
   {
    "duration": 43,
    "start_time": "2022-10-21T16:17:38.701Z"
   },
   {
    "duration": 4,
    "start_time": "2022-10-21T16:17:58.944Z"
   },
   {
    "duration": 5,
    "start_time": "2022-10-21T16:17:58.950Z"
   },
   {
    "duration": 174,
    "start_time": "2022-10-21T16:17:58.961Z"
   },
   {
    "duration": 58,
    "start_time": "2022-10-21T16:17:59.137Z"
   },
   {
    "duration": 54,
    "start_time": "2022-10-21T16:17:59.197Z"
   },
   {
    "duration": 48,
    "start_time": "2022-10-21T16:17:59.253Z"
   },
   {
    "duration": 3,
    "start_time": "2022-10-21T16:17:59.303Z"
   },
   {
    "duration": 74,
    "start_time": "2022-10-21T16:17:59.307Z"
   },
   {
    "duration": 43,
    "start_time": "2022-10-21T16:17:59.383Z"
   },
   {
    "duration": 7,
    "start_time": "2022-10-21T16:17:59.429Z"
   },
   {
    "duration": 466,
    "start_time": "2022-10-21T16:17:59.438Z"
   },
   {
    "duration": 59,
    "start_time": "2022-10-21T16:17:59.907Z"
   },
   {
    "duration": 664,
    "start_time": "2022-10-21T16:17:59.969Z"
   },
   {
    "duration": 44,
    "start_time": "2022-10-21T16:18:00.635Z"
   },
   {
    "duration": 386,
    "start_time": "2022-10-21T16:18:00.680Z"
   },
   {
    "duration": 5,
    "start_time": "2022-10-21T16:18:01.069Z"
   },
   {
    "duration": 235,
    "start_time": "2022-10-21T16:18:01.075Z"
   },
   {
    "duration": 295,
    "start_time": "2022-10-21T16:18:01.312Z"
   },
   {
    "duration": 293,
    "start_time": "2022-10-21T16:18:01.610Z"
   },
   {
    "duration": 94,
    "start_time": "2022-10-21T16:18:01.905Z"
   },
   {
    "duration": 18,
    "start_time": "2022-10-21T16:18:02.001Z"
   },
   {
    "duration": 56,
    "start_time": "2022-10-21T16:18:02.021Z"
   },
   {
    "duration": 44,
    "start_time": "2022-10-21T16:18:04.376Z"
   },
   {
    "duration": 118,
    "start_time": "2022-10-21T16:18:49.091Z"
   },
   {
    "duration": 2634,
    "start_time": "2022-10-21T16:19:24.566Z"
   },
   {
    "duration": 2314,
    "start_time": "2022-10-21T16:19:36.637Z"
   },
   {
    "duration": 2518,
    "start_time": "2022-10-21T16:22:34.539Z"
   },
   {
    "duration": 2144,
    "start_time": "2022-10-21T16:23:19.436Z"
   },
   {
    "duration": 1279,
    "start_time": "2022-10-21T17:06:11.662Z"
   },
   {
    "duration": 5,
    "start_time": "2022-10-21T17:06:12.943Z"
   },
   {
    "duration": 180,
    "start_time": "2022-10-21T17:06:12.950Z"
   },
   {
    "duration": 76,
    "start_time": "2022-10-21T17:06:13.132Z"
   },
   {
    "duration": 85,
    "start_time": "2022-10-21T17:06:13.209Z"
   },
   {
    "duration": 35,
    "start_time": "2022-10-21T17:06:13.297Z"
   },
   {
    "duration": 3,
    "start_time": "2022-10-21T17:06:13.333Z"
   },
   {
    "duration": 107,
    "start_time": "2022-10-21T17:06:13.338Z"
   },
   {
    "duration": 33,
    "start_time": "2022-10-21T17:06:13.447Z"
   },
   {
    "duration": 8,
    "start_time": "2022-10-21T17:06:13.494Z"
   },
   {
    "duration": 485,
    "start_time": "2022-10-21T17:06:13.504Z"
   },
   {
    "duration": 39,
    "start_time": "2022-10-21T17:06:13.991Z"
   },
   {
    "duration": 650,
    "start_time": "2022-10-21T17:06:14.032Z"
   },
   {
    "duration": 45,
    "start_time": "2022-10-21T17:06:14.684Z"
   },
   {
    "duration": 410,
    "start_time": "2022-10-21T17:06:14.731Z"
   },
   {
    "duration": 6,
    "start_time": "2022-10-21T17:06:15.143Z"
   },
   {
    "duration": 213,
    "start_time": "2022-10-21T17:06:15.150Z"
   },
   {
    "duration": 239,
    "start_time": "2022-10-21T17:06:15.365Z"
   },
   {
    "duration": 289,
    "start_time": "2022-10-21T17:06:15.606Z"
   },
   {
    "duration": 84,
    "start_time": "2022-10-21T17:06:15.897Z"
   },
   {
    "duration": 25,
    "start_time": "2022-10-21T17:06:15.983Z"
   },
   {
    "duration": 44,
    "start_time": "2022-10-21T17:06:16.010Z"
   },
   {
    "duration": 2184,
    "start_time": "2022-10-21T17:06:16.055Z"
   },
   {
    "duration": 2074,
    "start_time": "2022-10-21T17:06:18.241Z"
   },
   {
    "duration": 697,
    "start_time": "2022-10-21T17:06:20.317Z"
   },
   {
    "duration": 1258,
    "start_time": "2022-10-21T17:06:21.016Z"
   },
   {
    "duration": 1304,
    "start_time": "2022-10-21T17:06:22.276Z"
   },
   {
    "duration": 410,
    "start_time": "2022-10-21T17:06:23.583Z"
   },
   {
    "duration": 5,
    "start_time": "2022-10-21T17:06:23.996Z"
   },
   {
    "duration": 11,
    "start_time": "2022-10-21T17:06:24.002Z"
   },
   {
    "duration": 139,
    "start_time": "2022-10-21T17:06:24.015Z"
   },
   {
    "duration": 154,
    "start_time": "2022-10-21T17:06:24.156Z"
   },
   {
    "duration": 140,
    "start_time": "2022-10-21T17:06:24.312Z"
   },
   {
    "duration": 187,
    "start_time": "2022-10-21T17:06:24.454Z"
   },
   {
    "duration": 94,
    "start_time": "2022-10-21T18:47:13.668Z"
   }
  ],
  "kernelspec": {
   "display_name": "Python [conda env:practicum]",
   "language": "python",
   "name": "conda-env-practicum-py"
  },
  "language_info": {
   "codemirror_mode": {
    "name": "ipython",
    "version": 3
   },
   "file_extension": ".py",
   "mimetype": "text/x-python",
   "name": "python",
   "nbconvert_exporter": "python",
   "pygments_lexer": "ipython3",
   "version": "3.9.13"
  },
  "toc": {
   "base_numbering": 1,
   "nav_menu": {},
   "number_sections": true,
   "sideBar": true,
   "skip_h1_title": true,
   "title_cell": "Оглавление",
   "title_sidebar": "Оглавление",
   "toc_cell": true,
   "toc_position": {},
   "toc_section_display": true,
   "toc_window_display": false
  },
  "vscode": {
   "interpreter": {
    "hash": "63a84b4999b18ea6ea94daddb748452d62b34c23322f9df6ce426d4935574533"
   }
  }
 },
 "nbformat": 4,
 "nbformat_minor": 2
}
